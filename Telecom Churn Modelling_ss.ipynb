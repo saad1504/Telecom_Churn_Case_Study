{
 "cells": [
  {
   "cell_type": "markdown",
   "metadata": {},
   "source": [
    "### Business Overview\n",
    "\n",
    "In the telecom industry, customers are able to choose from multiple service providers and actively switch from one operator to another. In this highly competitive market, the telecommunications industry experiences an average of 15-25% annual churn rate. Given the fact that it costs 5-10 times more to acquire a new customer than to retain an existing one, customer retention has now become even more important than customer acquisition.\n",
    "**For many incumbent operators, retaining high profitable customers is the number one business goal.**\n",
    "\n",
    "**To reduce customer churn, telecom companies need to predict which customers are at high risk of churn.**\n",
    "\n",
    "### Objective\n",
    "\n",
    "In this project, we will \n",
    "* analyse customer-level data of a leading telecom firm, \n",
    "* build predictive models to identify customers at high risk of churn and \n",
    "* identify the main indicators of churn."
   ]
  },
  {
   "cell_type": "markdown",
   "metadata": {},
   "source": [
    "#### Churn Definition\n",
    "\n",
    "This project is based on Indian and Southeast Asian market and fillowing **Usage-based Churn definition** will be used:\n",
    "\n",
    "*Usage-based churn:Customers who have not done any usage, either incoming or outgoing - in terms of calls, internet etc. over a period of time.*\n",
    "\n",
    "#### High Value Churn\n",
    "\n",
    "In the Indian and the southeast Asian market, approximately 80% of revenue comes from the top 20% customers (called high-value customers). Thus, if we can reduce churn of the high-value customers, we will be able to reduce significant revenue leakage."
   ]
  },
  {
   "cell_type": "markdown",
   "metadata": {},
   "source": [
    "#### Data and Business Objective\n",
    "\n",
    "**dataset**: The dataset contains customer-level information for a span of four consecutive months - June, July, August and September. The months are encoded as 6, 7, 8 and 9, respectively.\n",
    "\n",
    "**business objective**: is to predict the churn in the last (i.e. the ninth) month using the data (features) from the first three months. "
   ]
  },
  {
   "cell_type": "markdown",
   "metadata": {},
   "source": [
    "####  Understanding Customer Behaviour during Churn\n",
    "\n",
    "Customers usually do not decide to switch to another competitor instantly, but rather over a period of time (this is especially applicable to high-value customers). In churn prediction, we assume that there are three phases of customer lifecycle :\n",
    "\n",
    "1. The **‘good’ phase**: In this phase, the customer is happy with the service and behaves as usual.\n",
    "\n",
    "2. The **‘action’ phase**: The customer experience starts to sore in this phase, for e.g. he/she gets a compelling offer from a  competitor, faces unjust charges, becomes unhappy with service quality etc. In this phase, the customer usually shows different behaviour than the ‘good’ months. Also, it is crucial to identify high-churn-risk customers in this phase, since some corrective actions can be taken at this point (such as matching the competitor’s offer/improving the service quality etc.)\n",
    "\n",
    "3. The **‘churn’ phase**: In this phase, the customer is said to have churned. We define churn based on this phase.\n",
    "\n",
    "In this project, since we are working over a four-month window, the first two months are the ‘good’ phase, the third month is the ‘action’ phase, while the fourth month is the ‘churn’ phase."
   ]
  },
  {
   "cell_type": "markdown",
   "metadata": {},
   "source": [
    "### Load Data and Data Cleaning"
   ]
  },
  {
   "cell_type": "code",
   "execution_count": 1,
   "metadata": {},
   "outputs": [],
   "source": [
    "# import numpy and pandas\n",
    "import pandas as pd\n",
    "import numpy as np\n",
    "\n",
    "# import libraries for plotting\n",
    "import matplotlib.pyplot as plt\n",
    "import seaborn as sns\n",
    "# do an inline so that plt.show() is not required everytime\n",
    "%matplotlib inline\n",
    "\n",
    "# import for pre-processing\n",
    "# scale (this is same as standard scalar)\n",
    "from sklearn.preprocessing import scale\n",
    "# label encoding\n",
    "from sklearn.preprocessing import LabelEncoder\n",
    "\n",
    "# import for model selection:\n",
    "# splitting data into training and test data (validation set)\n",
    "from sklearn.model_selection import train_test_split\n",
    "# import for creating K-folds\n",
    "from sklearn.model_selection import KFold\n",
    "# import for CV using folds created\n",
    "from sklearn.model_selection import cross_val_score\n",
    "# import for grid search cv for Hyperparameter tuning\n",
    "from sklearn.model_selection import GridSearchCV\n",
    "\n",
    "# for deleting unused variables\n",
    "import gc\n",
    "\n",
    "# filter warnings\n",
    "import os\n",
    "import warnings\n",
    "warnings.filterwarnings('ignore')"
   ]
  },
  {
   "cell_type": "code",
   "execution_count": 322,
   "metadata": {},
   "outputs": [],
   "source": [
    "# load the telecom churn data\n",
    "dfChurn = pd.read_csv('./telecom_churn_data.csv')"
   ]
  },
  {
   "cell_type": "code",
   "execution_count": 3,
   "metadata": {},
   "outputs": [
    {
     "data": {
      "text/html": [
       "<div>\n",
       "<style>\n",
       "    .dataframe thead tr:only-child th {\n",
       "        text-align: right;\n",
       "    }\n",
       "\n",
       "    .dataframe thead th {\n",
       "        text-align: left;\n",
       "    }\n",
       "\n",
       "    .dataframe tbody tr th {\n",
       "        vertical-align: top;\n",
       "    }\n",
       "</style>\n",
       "<table border=\"1\" class=\"dataframe\">\n",
       "  <thead>\n",
       "    <tr style=\"text-align: right;\">\n",
       "      <th></th>\n",
       "      <th>mobile_number</th>\n",
       "      <th>circle_id</th>\n",
       "      <th>loc_og_t2o_mou</th>\n",
       "      <th>std_og_t2o_mou</th>\n",
       "      <th>loc_ic_t2o_mou</th>\n",
       "      <th>last_date_of_month_6</th>\n",
       "      <th>last_date_of_month_7</th>\n",
       "      <th>last_date_of_month_8</th>\n",
       "      <th>last_date_of_month_9</th>\n",
       "      <th>arpu_6</th>\n",
       "      <th>...</th>\n",
       "      <th>sachet_3g_9</th>\n",
       "      <th>fb_user_6</th>\n",
       "      <th>fb_user_7</th>\n",
       "      <th>fb_user_8</th>\n",
       "      <th>fb_user_9</th>\n",
       "      <th>aon</th>\n",
       "      <th>aug_vbc_3g</th>\n",
       "      <th>jul_vbc_3g</th>\n",
       "      <th>jun_vbc_3g</th>\n",
       "      <th>sep_vbc_3g</th>\n",
       "    </tr>\n",
       "  </thead>\n",
       "  <tbody>\n",
       "    <tr>\n",
       "      <th>0</th>\n",
       "      <td>7000842753</td>\n",
       "      <td>109</td>\n",
       "      <td>0.0</td>\n",
       "      <td>0.0</td>\n",
       "      <td>0.0</td>\n",
       "      <td>6/30/2014</td>\n",
       "      <td>7/31/2014</td>\n",
       "      <td>8/31/2014</td>\n",
       "      <td>9/30/2014</td>\n",
       "      <td>197.385</td>\n",
       "      <td>...</td>\n",
       "      <td>0</td>\n",
       "      <td>1.0</td>\n",
       "      <td>1.0</td>\n",
       "      <td>1.0</td>\n",
       "      <td>NaN</td>\n",
       "      <td>968</td>\n",
       "      <td>30.4</td>\n",
       "      <td>0.0</td>\n",
       "      <td>101.20</td>\n",
       "      <td>3.58</td>\n",
       "    </tr>\n",
       "    <tr>\n",
       "      <th>1</th>\n",
       "      <td>7001865778</td>\n",
       "      <td>109</td>\n",
       "      <td>0.0</td>\n",
       "      <td>0.0</td>\n",
       "      <td>0.0</td>\n",
       "      <td>6/30/2014</td>\n",
       "      <td>7/31/2014</td>\n",
       "      <td>8/31/2014</td>\n",
       "      <td>9/30/2014</td>\n",
       "      <td>34.047</td>\n",
       "      <td>...</td>\n",
       "      <td>0</td>\n",
       "      <td>NaN</td>\n",
       "      <td>1.0</td>\n",
       "      <td>1.0</td>\n",
       "      <td>NaN</td>\n",
       "      <td>1006</td>\n",
       "      <td>0.0</td>\n",
       "      <td>0.0</td>\n",
       "      <td>0.00</td>\n",
       "      <td>0.00</td>\n",
       "    </tr>\n",
       "    <tr>\n",
       "      <th>2</th>\n",
       "      <td>7001625959</td>\n",
       "      <td>109</td>\n",
       "      <td>0.0</td>\n",
       "      <td>0.0</td>\n",
       "      <td>0.0</td>\n",
       "      <td>6/30/2014</td>\n",
       "      <td>7/31/2014</td>\n",
       "      <td>8/31/2014</td>\n",
       "      <td>9/30/2014</td>\n",
       "      <td>167.690</td>\n",
       "      <td>...</td>\n",
       "      <td>0</td>\n",
       "      <td>NaN</td>\n",
       "      <td>NaN</td>\n",
       "      <td>NaN</td>\n",
       "      <td>1.0</td>\n",
       "      <td>1103</td>\n",
       "      <td>0.0</td>\n",
       "      <td>0.0</td>\n",
       "      <td>4.17</td>\n",
       "      <td>0.00</td>\n",
       "    </tr>\n",
       "    <tr>\n",
       "      <th>3</th>\n",
       "      <td>7001204172</td>\n",
       "      <td>109</td>\n",
       "      <td>0.0</td>\n",
       "      <td>0.0</td>\n",
       "      <td>0.0</td>\n",
       "      <td>6/30/2014</td>\n",
       "      <td>7/31/2014</td>\n",
       "      <td>8/31/2014</td>\n",
       "      <td>9/30/2014</td>\n",
       "      <td>221.338</td>\n",
       "      <td>...</td>\n",
       "      <td>0</td>\n",
       "      <td>NaN</td>\n",
       "      <td>NaN</td>\n",
       "      <td>NaN</td>\n",
       "      <td>NaN</td>\n",
       "      <td>2491</td>\n",
       "      <td>0.0</td>\n",
       "      <td>0.0</td>\n",
       "      <td>0.00</td>\n",
       "      <td>0.00</td>\n",
       "    </tr>\n",
       "    <tr>\n",
       "      <th>4</th>\n",
       "      <td>7000142493</td>\n",
       "      <td>109</td>\n",
       "      <td>0.0</td>\n",
       "      <td>0.0</td>\n",
       "      <td>0.0</td>\n",
       "      <td>6/30/2014</td>\n",
       "      <td>7/31/2014</td>\n",
       "      <td>8/31/2014</td>\n",
       "      <td>9/30/2014</td>\n",
       "      <td>261.636</td>\n",
       "      <td>...</td>\n",
       "      <td>0</td>\n",
       "      <td>0.0</td>\n",
       "      <td>NaN</td>\n",
       "      <td>NaN</td>\n",
       "      <td>NaN</td>\n",
       "      <td>1526</td>\n",
       "      <td>0.0</td>\n",
       "      <td>0.0</td>\n",
       "      <td>0.00</td>\n",
       "      <td>0.00</td>\n",
       "    </tr>\n",
       "  </tbody>\n",
       "</table>\n",
       "<p>5 rows × 226 columns</p>\n",
       "</div>"
      ],
      "text/plain": [
       "   mobile_number  circle_id  loc_og_t2o_mou  std_og_t2o_mou  loc_ic_t2o_mou  \\\n",
       "0     7000842753        109             0.0             0.0             0.0   \n",
       "1     7001865778        109             0.0             0.0             0.0   \n",
       "2     7001625959        109             0.0             0.0             0.0   \n",
       "3     7001204172        109             0.0             0.0             0.0   \n",
       "4     7000142493        109             0.0             0.0             0.0   \n",
       "\n",
       "  last_date_of_month_6 last_date_of_month_7 last_date_of_month_8  \\\n",
       "0            6/30/2014            7/31/2014            8/31/2014   \n",
       "1            6/30/2014            7/31/2014            8/31/2014   \n",
       "2            6/30/2014            7/31/2014            8/31/2014   \n",
       "3            6/30/2014            7/31/2014            8/31/2014   \n",
       "4            6/30/2014            7/31/2014            8/31/2014   \n",
       "\n",
       "  last_date_of_month_9   arpu_6     ...      sachet_3g_9  fb_user_6  \\\n",
       "0            9/30/2014  197.385     ...                0        1.0   \n",
       "1            9/30/2014   34.047     ...                0        NaN   \n",
       "2            9/30/2014  167.690     ...                0        NaN   \n",
       "3            9/30/2014  221.338     ...                0        NaN   \n",
       "4            9/30/2014  261.636     ...                0        0.0   \n",
       "\n",
       "   fb_user_7  fb_user_8  fb_user_9   aon  aug_vbc_3g  jul_vbc_3g  jun_vbc_3g  \\\n",
       "0        1.0        1.0        NaN   968        30.4         0.0      101.20   \n",
       "1        1.0        1.0        NaN  1006         0.0         0.0        0.00   \n",
       "2        NaN        NaN        1.0  1103         0.0         0.0        4.17   \n",
       "3        NaN        NaN        NaN  2491         0.0         0.0        0.00   \n",
       "4        NaN        NaN        NaN  1526         0.0         0.0        0.00   \n",
       "\n",
       "   sep_vbc_3g  \n",
       "0        3.58  \n",
       "1        0.00  \n",
       "2        0.00  \n",
       "3        0.00  \n",
       "4        0.00  \n",
       "\n",
       "[5 rows x 226 columns]"
      ]
     },
     "execution_count": 3,
     "metadata": {},
     "output_type": "execute_result"
    }
   ],
   "source": [
    "dfChurn.head()"
   ]
  },
  {
   "cell_type": "code",
   "execution_count": 4,
   "metadata": {},
   "outputs": [
    {
     "name": "stdout",
     "output_type": "stream",
     "text": [
      "<class 'pandas.core.frame.DataFrame'>\n",
      "RangeIndex: 99999 entries, 0 to 99998\n",
      "Columns: 226 entries, mobile_number to sep_vbc_3g\n",
      "dtypes: float64(179), int64(35), object(12)\n",
      "memory usage: 172.4+ MB\n"
     ]
    }
   ],
   "source": [
    "dfChurn.info()"
   ]
  },
  {
   "cell_type": "markdown",
   "metadata": {},
   "source": [
    "#### Analysis on recharge amount data"
   ]
  },
  {
   "cell_type": "code",
   "execution_count": 21,
   "metadata": {},
   "outputs": [
    {
     "name": "stdout",
     "output_type": "stream",
     "text": [
      "Index(['total_rech_amt_6', 'total_rech_amt_7', 'total_rech_amt_8',\n",
      "       'total_rech_amt_9', 'max_rech_amt_6', 'max_rech_amt_7',\n",
      "       'max_rech_amt_8', 'max_rech_amt_9', 'av_rech_amt_data_6',\n",
      "       'av_rech_amt_data_7', 'av_rech_amt_data_8', 'av_rech_amt_data_9'],\n",
      "      dtype='object')\n"
     ]
    }
   ],
   "source": [
    "# let us first extract list of columns containing recharge amount\n",
    "recharge_amnt_columns =  dfChurn.columns[dfChurn.columns.str.contains('rech_amt')]\n",
    "\n",
    "print(recharge_amnt_columns)"
   ]
  },
  {
   "cell_type": "markdown",
   "metadata": {},
   "source": [
    "we observe from above that there are 3 set of values for\n",
    "* total recharge amount,\n",
    "* maximum recharge amount and \n",
    "* average recharge amount for mobile internet."
   ]
  },
  {
   "cell_type": "code",
   "execution_count": 22,
   "metadata": {},
   "outputs": [
    {
     "data": {
      "text/plain": [
       "total_rech_amt_6       0.000000\n",
       "total_rech_amt_7       0.000000\n",
       "total_rech_amt_8       0.000000\n",
       "total_rech_amt_9       0.000000\n",
       "max_rech_amt_6         0.000000\n",
       "max_rech_amt_7         0.000000\n",
       "max_rech_amt_8         0.000000\n",
       "max_rech_amt_9         0.000000\n",
       "av_rech_amt_data_6    74.846748\n",
       "av_rech_amt_data_7    74.428744\n",
       "av_rech_amt_data_8    73.660737\n",
       "av_rech_amt_data_9    74.077741\n",
       "dtype: float64"
      ]
     },
     "execution_count": 22,
     "metadata": {},
     "output_type": "execute_result"
    }
   ],
   "source": [
    "# let us check if there are any missing values for recharge amount\n",
    "100*dfChurn.loc[:,recharge_amnt_columns].isnull().sum()/len(dfChurn)"
   ]
  },
  {
   "cell_type": "markdown",
   "metadata": {},
   "source": [
    "we observe that approx 74-75% values for average recharge amount for mobile internet data is missing."
   ]
  },
  {
   "cell_type": "code",
   "execution_count": 325,
   "metadata": {},
   "outputs": [],
   "source": [
    "# let us define a new column for total average recharge amount for good phase (month 6 and 7)\n",
    "dfChurn['total_avg_rech_amnt_good_ph'] = (dfChurn.total_rech_amt_6 + dfChurn.total_rech_amt_7)/2"
   ]
  },
  {
   "cell_type": "code",
   "execution_count": 327,
   "metadata": {},
   "outputs": [],
   "source": [
    "# create a filter for values greater than 70th percentile of total average recharge amount for good phase \n",
    "high_value_filter = dfChurn.total_avg_rech_amnt_good_ph >= dfChurn.total_avg_rech_amnt_good_ph.quantile(0.7)"
   ]
  },
  {
   "cell_type": "code",
   "execution_count": 329,
   "metadata": {},
   "outputs": [
    {
     "data": {
      "text/plain": [
       "368.5"
      ]
     },
     "execution_count": 329,
     "metadata": {},
     "output_type": "execute_result"
    }
   ],
   "source": [
    "dfChurn.total_avg_rech_amnt_good_ph.quantile(0.7)"
   ]
  },
  {
   "cell_type": "code",
   "execution_count": 330,
   "metadata": {},
   "outputs": [],
   "source": [
    "# let us subset out the High Value customers\n",
    "dfChurn = dfChurn.loc[high_value_filter,:]"
   ]
  },
  {
   "cell_type": "code",
   "execution_count": 331,
   "metadata": {},
   "outputs": [
    {
     "data": {
      "text/plain": [
       "30011"
      ]
     },
     "execution_count": 331,
     "metadata": {},
     "output_type": "execute_result"
    }
   ],
   "source": [
    "# let us check how many records remain\n",
    "len(dfChurn.loc[high_value_filter,:])"
   ]
  },
  {
   "cell_type": "code",
   "execution_count": 332,
   "metadata": {},
   "outputs": [],
   "source": [
    "# Now let us label the churned customers\n",
    "# define a new column in data frame as 'churn' with value as 1 if customer has churned and 0 if customer has not churned\n",
    "# Initially set all the values as 0\n",
    "dfChurn['churn']= 0"
   ]
  },
  {
   "cell_type": "code",
   "execution_count": 333,
   "metadata": {},
   "outputs": [
    {
     "data": {
      "text/plain": [
       "total_ic_mou_9    0.0\n",
       "total_og_mou_9    0.0\n",
       "vol_2g_mb_9       0.0\n",
       "vol_3g_mb_9       0.0\n",
       "dtype: float64"
      ]
     },
     "execution_count": 333,
     "metadata": {},
     "output_type": "execute_result"
    }
   ],
   "source": [
    "# the following columns will be used to find the churned customers in the 9th month \n",
    "# total_ic_mou_9, total_og_mou_9, vol_2g_mb_9 and vol_3g_mb_9\n",
    "# let's check if any NA/Null values are present\n",
    "ls_9 = ['total_ic_mou_9', 'total_og_mou_9', 'vol_2g_mb_9','vol_3g_mb_9']\n",
    "100*dfChurn.loc[:,ls_9].isnull().sum()/len(dfChurn)"
   ]
  },
  {
   "cell_type": "code",
   "execution_count": 334,
   "metadata": {},
   "outputs": [],
   "source": [
    "# define is_churned boolean flag for customers where above values are zero\n",
    "is_churned = (dfChurn.total_ic_mou_9 == 0) & (dfChurn.total_og_mou_9 == 0) & (dfChurn.vol_2g_mb_9 ==0)& \\\n",
    "(dfChurn.vol_3g_mb_9 ==0)"
   ]
  },
  {
   "cell_type": "code",
   "execution_count": 335,
   "metadata": {},
   "outputs": [],
   "source": [
    "# set all such rows fulfilling is_churned condition as 1\n",
    "dfChurn.loc[is_churned,'churn']=1"
   ]
  },
  {
   "cell_type": "code",
   "execution_count": 336,
   "metadata": {},
   "outputs": [
    {
     "data": {
      "text/plain": [
       "8.64016527273333"
      ]
     },
     "execution_count": 336,
     "metadata": {},
     "output_type": "execute_result"
    }
   ],
   "source": [
    "# let us check what's the % of churned customers\n",
    "100*dfChurn.churn.sum()/len(is_churned)"
   ]
  },
  {
   "cell_type": "markdown",
   "metadata": {},
   "source": [
    "We see that approx. 8.6% of high value customers have churned"
   ]
  },
  {
   "cell_type": "code",
   "execution_count": 337,
   "metadata": {},
   "outputs": [],
   "source": [
    "# let's extract all list of 9th Month (churned month) Columns\n",
    "month_9_columns =  dfChurn.columns[dfChurn.columns.str.contains('_9')]"
   ]
  },
  {
   "cell_type": "code",
   "execution_count": 338,
   "metadata": {},
   "outputs": [],
   "source": [
    "# drop all columns corresponding to the attributes of churn phase\n",
    "dfChurn.drop(month_9_columns,axis=1,inplace=True)"
   ]
  },
  {
   "cell_type": "code",
   "execution_count": 339,
   "metadata": {},
   "outputs": [
    {
     "name": "stdout",
     "output_type": "stream",
     "text": [
      "<class 'pandas.core.frame.DataFrame'>\n",
      "Int64Index: 30011 entries, 7 to 99997\n",
      "Columns: 174 entries, mobile_number to churn\n",
      "dtypes: float64(137), int64(28), object(9)\n",
      "memory usage: 40.1+ MB\n"
     ]
    }
   ],
   "source": [
    "# let's check how many columns remain\n",
    "dfChurn.info()"
   ]
  },
  {
   "cell_type": "code",
   "execution_count": 113,
   "metadata": {},
   "outputs": [
    {
     "data": {
      "text/plain": [
       "mobile_number                   0.000000\n",
       "circle_id                       0.000000\n",
       "loc_og_t2o_mou                  0.379861\n",
       "std_og_t2o_mou                  0.379861\n",
       "loc_ic_t2o_mou                  0.379861\n",
       "last_date_of_month_6            0.000000\n",
       "last_date_of_month_7            0.103295\n",
       "last_date_of_month_8            0.523142\n",
       "arpu_6                          0.000000\n",
       "arpu_7                          0.000000\n",
       "arpu_8                          0.000000\n",
       "onnet_mou_6                     1.052947\n",
       "onnet_mou_7                     1.009630\n",
       "onnet_mou_8                     3.125521\n",
       "offnet_mou_6                    1.052947\n",
       "offnet_mou_7                    1.009630\n",
       "offnet_mou_8                    3.125521\n",
       "roam_ic_mou_6                   1.052947\n",
       "roam_ic_mou_7                   1.009630\n",
       "roam_ic_mou_8                   3.125521\n",
       "roam_og_mou_6                   1.052947\n",
       "roam_og_mou_7                   1.009630\n",
       "roam_og_mou_8                   3.125521\n",
       "loc_og_t2t_mou_6                1.052947\n",
       "loc_og_t2t_mou_7                1.009630\n",
       "loc_og_t2t_mou_8                3.125521\n",
       "loc_og_t2m_mou_6                1.052947\n",
       "loc_og_t2m_mou_7                1.009630\n",
       "loc_og_t2m_mou_8                3.125521\n",
       "loc_og_t2f_mou_6                1.052947\n",
       "                                 ...    \n",
       "arpu_3g_8                      60.834361\n",
       "arpu_2g_6                      62.023925\n",
       "arpu_2g_7                      61.140915\n",
       "arpu_2g_8                      60.834361\n",
       "night_pck_user_6               62.023925\n",
       "night_pck_user_7               61.140915\n",
       "night_pck_user_8               60.834361\n",
       "monthly_2g_6                    0.000000\n",
       "monthly_2g_7                    0.000000\n",
       "monthly_2g_8                    0.000000\n",
       "sachet_2g_6                     0.000000\n",
       "sachet_2g_7                     0.000000\n",
       "sachet_2g_8                     0.000000\n",
       "monthly_3g_6                    0.000000\n",
       "monthly_3g_7                    0.000000\n",
       "monthly_3g_8                    0.000000\n",
       "sachet_3g_6                     0.000000\n",
       "sachet_3g_7                     0.000000\n",
       "sachet_3g_8                     0.000000\n",
       "fb_user_6                      62.023925\n",
       "fb_user_7                      61.140915\n",
       "fb_user_8                      60.834361\n",
       "aon                             0.000000\n",
       "aug_vbc_3g                      0.000000\n",
       "jul_vbc_3g                      0.000000\n",
       "jun_vbc_3g                      0.000000\n",
       "sep_vbc_3g                      0.000000\n",
       "total_rech_amnt_good_ph         0.000000\n",
       "total_avg_rech_amnt_good_ph     0.000000\n",
       "churn                           0.000000\n",
       "Length: 175, dtype: float64"
      ]
     },
     "execution_count": 113,
     "metadata": {},
     "output_type": "execute_result"
    }
   ],
   "source": [
    "100*dfChurn.isnull().sum()/len(dfChurn.index)"
   ]
  },
  {
   "cell_type": "markdown",
   "metadata": {},
   "source": [
    "#### recharge amount related variables"
   ]
  },
  {
   "cell_type": "code",
   "execution_count": null,
   "metadata": {},
   "outputs": [],
   "source": [
    "#let's again extract the recharge amount related columns\n",
    "recharge_amnt_columns =  dfChurn.columns[dfChurn.columns.str.contains('rech_amt')]\n",
    "\n",
    "recharge_amnt_columns"
   ]
  },
  {
   "cell_type": "code",
   "execution_count": 340,
   "metadata": {},
   "outputs": [
    {
     "data": {
      "text/html": [
       "<div>\n",
       "<style>\n",
       "    .dataframe thead tr:only-child th {\n",
       "        text-align: right;\n",
       "    }\n",
       "\n",
       "    .dataframe thead th {\n",
       "        text-align: left;\n",
       "    }\n",
       "\n",
       "    .dataframe tbody tr th {\n",
       "        vertical-align: top;\n",
       "    }\n",
       "</style>\n",
       "<table border=\"1\" class=\"dataframe\">\n",
       "  <thead>\n",
       "    <tr style=\"text-align: right;\">\n",
       "      <th></th>\n",
       "      <th>total_rech_amt_6</th>\n",
       "      <th>total_rech_amt_7</th>\n",
       "      <th>total_rech_amt_8</th>\n",
       "      <th>max_rech_amt_6</th>\n",
       "      <th>max_rech_amt_7</th>\n",
       "      <th>max_rech_amt_8</th>\n",
       "      <th>av_rech_amt_data_6</th>\n",
       "      <th>av_rech_amt_data_7</th>\n",
       "      <th>av_rech_amt_data_8</th>\n",
       "    </tr>\n",
       "  </thead>\n",
       "  <tbody>\n",
       "    <tr>\n",
       "      <th>Churned</th>\n",
       "      <td>808.441188</td>\n",
       "      <td>637.946008</td>\n",
       "      <td>258.846895</td>\n",
       "      <td>166.566911</td>\n",
       "      <td>156.599691</td>\n",
       "      <td>84.193598</td>\n",
       "      <td>227.851877</td>\n",
       "      <td>236.589748</td>\n",
       "      <td>151.419052</td>\n",
       "    </tr>\n",
       "    <tr>\n",
       "      <th>Non Churned</th>\n",
       "      <td>686.861113</td>\n",
       "      <td>701.449705</td>\n",
       "      <td>647.192501</td>\n",
       "      <td>171.872456</td>\n",
       "      <td>177.463746</td>\n",
       "      <td>170.309942</td>\n",
       "      <td>239.683282</td>\n",
       "      <td>251.856586</td>\n",
       "      <td>231.560280</td>\n",
       "    </tr>\n",
       "  </tbody>\n",
       "</table>\n",
       "</div>"
      ],
      "text/plain": [
       "             total_rech_amt_6  total_rech_amt_7  total_rech_amt_8  \\\n",
       "Churned            808.441188        637.946008        258.846895   \n",
       "Non Churned        686.861113        701.449705        647.192501   \n",
       "\n",
       "             max_rech_amt_6  max_rech_amt_7  max_rech_amt_8  \\\n",
       "Churned          166.566911      156.599691       84.193598   \n",
       "Non Churned      171.872456      177.463746      170.309942   \n",
       "\n",
       "             av_rech_amt_data_6  av_rech_amt_data_7  av_rech_amt_data_8  \n",
       "Churned              227.851877          236.589748          151.419052  \n",
       "Non Churned          239.683282          251.856586          231.560280  "
      ]
     },
     "execution_count": 340,
     "metadata": {},
     "output_type": "execute_result"
    }
   ],
   "source": [
    "# let's check the mean variation in values for churned and non churned customers\n",
    "pd.DataFrame([dfChurn.loc[dfChurn.churn==1,recharge_amnt_columns].mean()\n",
    "              ,dfChurn.loc[dfChurn.churn==0,recharge_amnt_columns].mean()],index={'Non Churned','Churned'})"
   ]
  },
  {
   "cell_type": "markdown",
   "metadata": {},
   "source": [
    "We see that there is a significant drop in total recharge amount, max recharge amount and average recharge amount in 8th month (action phase) for churned customers."
   ]
  },
  {
   "cell_type": "code",
   "execution_count": 351,
   "metadata": {},
   "outputs": [
    {
     "data": {
      "text/plain": [
       "total_rech_amt_6       0.000000\n",
       "total_rech_amt_7       0.000000\n",
       "total_rech_amt_8       0.000000\n",
       "max_rech_amt_6         0.000000\n",
       "max_rech_amt_7         0.000000\n",
       "max_rech_amt_8         0.000000\n",
       "av_rech_amt_data_6    62.023925\n",
       "av_rech_amt_data_7    61.140915\n",
       "av_rech_amt_data_8    60.834361\n",
       "dtype: float64"
      ]
     },
     "execution_count": 351,
     "metadata": {},
     "output_type": "execute_result"
    }
   ],
   "source": [
    "# let's check the mean recharge amount parameters across 3 months\n",
    "100*dfChurn.loc[:,recharge_amnt_columns].isnull().sum()/len(dfChurn.loc[:,recharge_amnt_columns])"
   ]
  },
  {
   "cell_type": "markdown",
   "metadata": {},
   "source": [
    "We observe that around 60% data values for average recharge amount for data is missing, as we already have total recharge amount and max recharge amount information with us we can safely remove these columns."
   ]
  },
  {
   "cell_type": "code",
   "execution_count": 352,
   "metadata": {},
   "outputs": [],
   "source": [
    "dfChurn.drop(['av_rech_amt_data_6','av_rech_amt_data_7','av_rech_amt_data_8'],axis=1,inplace=True)"
   ]
  },
  {
   "cell_type": "code",
   "execution_count": 353,
   "metadata": {},
   "outputs": [],
   "source": [
    "# Let us define two new derived columns\n",
    "# total recharge amount for good phase: total_rech_amt_good_ph\n",
    "# max recharge amount for good phase: max_rech_amt_good_ph\n",
    "\n",
    "dfChurn['total_rech_amt_good_ph'] = (dfChurn.total_rech_amt_6 + dfChurn.total_rech_amt_7)/2\n",
    "dfChurn['max_rech_amt_good_ph'] = (dfChurn.max_rech_amt_6 + dfChurn.max_rech_amt_7)/2\n",
    "\n",
    "# drop the original columns as these are not longer required\n",
    "dfChurn.drop(['total_rech_amt_6','total_rech_amt_7','max_rech_amt_6','max_rech_amt_7'],axis=1,inplace=True)"
   ]
  },
  {
   "cell_type": "markdown",
   "metadata": {},
   "source": [
    "#### minutes of usage related variables within same operator network"
   ]
  },
  {
   "cell_type": "code",
   "execution_count": 354,
   "metadata": {},
   "outputs": [],
   "source": [
    "#let's extract the minutes of usage related columns\n",
    "mins_of_usage_columns =  dfChurn.columns[dfChurn.columns.str.contains('^onnet.*mou',regex=True)]"
   ]
  },
  {
   "cell_type": "code",
   "execution_count": 355,
   "metadata": {},
   "outputs": [
    {
     "data": {
      "text/html": [
       "<div>\n",
       "<style>\n",
       "    .dataframe thead tr:only-child th {\n",
       "        text-align: right;\n",
       "    }\n",
       "\n",
       "    .dataframe thead th {\n",
       "        text-align: left;\n",
       "    }\n",
       "\n",
       "    .dataframe tbody tr th {\n",
       "        vertical-align: top;\n",
       "    }\n",
       "</style>\n",
       "<table border=\"1\" class=\"dataframe\">\n",
       "  <thead>\n",
       "    <tr style=\"text-align: right;\">\n",
       "      <th></th>\n",
       "      <th>onnet_mou_6</th>\n",
       "      <th>onnet_mou_7</th>\n",
       "      <th>onnet_mou_8</th>\n",
       "    </tr>\n",
       "  </thead>\n",
       "  <tbody>\n",
       "    <tr>\n",
       "      <th>Churned</th>\n",
       "      <td>425.237636</td>\n",
       "      <td>336.138969</td>\n",
       "      <td>168.167738</td>\n",
       "    </tr>\n",
       "    <tr>\n",
       "      <th>Non Churned</th>\n",
       "      <td>287.662607</td>\n",
       "      <td>304.886768</td>\n",
       "      <td>283.607748</td>\n",
       "    </tr>\n",
       "  </tbody>\n",
       "</table>\n",
       "</div>"
      ],
      "text/plain": [
       "             onnet_mou_6  onnet_mou_7  onnet_mou_8\n",
       "Churned       425.237636   336.138969   168.167738\n",
       "Non Churned   287.662607   304.886768   283.607748"
      ]
     },
     "execution_count": 355,
     "metadata": {},
     "output_type": "execute_result"
    }
   ],
   "source": [
    "# let's check the mean variation in values for churned and non churned customers\n",
    "pd.DataFrame([dfChurn.loc[dfChurn.churn==1,mins_of_usage_columns].mean()\n",
    "              ,dfChurn.loc[dfChurn.churn==0,mins_of_usage_columns].mean()],index={'Non Churned','Churned'})"
   ]
  },
  {
   "cell_type": "markdown",
   "metadata": {},
   "source": [
    "We again see that there is a drop in minutes of usage in the action month (8th month) for churned customers"
   ]
  },
  {
   "cell_type": "code",
   "execution_count": 356,
   "metadata": {},
   "outputs": [],
   "source": [
    "# Let us define new derived column\n",
    "# minutes of usage for good phase: onnet_mou_good_ph\n",
    "dfChurn['onnet_mou_good_ph'] = (dfChurn.onnet_mou_6 + dfChurn.onnet_mou_7)/2\n",
    "\n",
    "# drop the original columns as these are not longer required\n",
    "dfChurn.drop(['onnet_mou_6','onnet_mou_7'],axis=1,inplace=True)"
   ]
  },
  {
   "cell_type": "markdown",
   "metadata": {},
   "source": [
    "#### Contact centre call related variables"
   ]
  },
  {
   "cell_type": "code",
   "execution_count": 357,
   "metadata": {},
   "outputs": [],
   "source": [
    "#let's extract the minutes of usage related columns\n",
    "call_to_contact_centre =  dfChurn.columns[dfChurn.columns.str.contains('t2c')]"
   ]
  },
  {
   "cell_type": "code",
   "execution_count": 358,
   "metadata": {},
   "outputs": [
    {
     "data": {
      "text/plain": [
       "Index(['loc_og_t2c_mou_6', 'loc_og_t2c_mou_7', 'loc_og_t2c_mou_8',\n",
       "       'std_og_t2c_mou_6', 'std_og_t2c_mou_7', 'std_og_t2c_mou_8'],\n",
       "      dtype='object')"
      ]
     },
     "execution_count": 358,
     "metadata": {},
     "output_type": "execute_result"
    }
   ],
   "source": [
    "call_to_contact_centre"
   ]
  },
  {
   "cell_type": "code",
   "execution_count": 367,
   "metadata": {},
   "outputs": [
    {
     "data": {
      "text/html": [
       "<div>\n",
       "<style>\n",
       "    .dataframe thead tr:only-child th {\n",
       "        text-align: right;\n",
       "    }\n",
       "\n",
       "    .dataframe thead th {\n",
       "        text-align: left;\n",
       "    }\n",
       "\n",
       "    .dataframe tbody tr th {\n",
       "        vertical-align: top;\n",
       "    }\n",
       "</style>\n",
       "<table border=\"1\" class=\"dataframe\">\n",
       "  <thead>\n",
       "    <tr style=\"text-align: right;\">\n",
       "      <th></th>\n",
       "      <th>loc_og_t2c_mou_6</th>\n",
       "      <th>loc_og_t2c_mou_7</th>\n",
       "      <th>loc_og_t2c_mou_8</th>\n",
       "      <th>std_og_t2c_mou_6</th>\n",
       "      <th>std_og_t2c_mou_7</th>\n",
       "      <th>std_og_t2c_mou_8</th>\n",
       "    </tr>\n",
       "  </thead>\n",
       "  <tbody>\n",
       "    <tr>\n",
       "      <th>Churned</th>\n",
       "      <td>1.766361</td>\n",
       "      <td>2.196409</td>\n",
       "      <td>1.275994</td>\n",
       "      <td>0.0</td>\n",
       "      <td>0.0</td>\n",
       "      <td>0.0</td>\n",
       "    </tr>\n",
       "    <tr>\n",
       "      <th>Non Churned</th>\n",
       "      <td>1.567153</td>\n",
       "      <td>1.853094</td>\n",
       "      <td>1.801569</td>\n",
       "      <td>0.0</td>\n",
       "      <td>0.0</td>\n",
       "      <td>0.0</td>\n",
       "    </tr>\n",
       "  </tbody>\n",
       "</table>\n",
       "</div>"
      ],
      "text/plain": [
       "             loc_og_t2c_mou_6  loc_og_t2c_mou_7  loc_og_t2c_mou_8  \\\n",
       "Churned              1.766361          2.196409          1.275994   \n",
       "Non Churned          1.567153          1.853094          1.801569   \n",
       "\n",
       "             std_og_t2c_mou_6  std_og_t2c_mou_7  std_og_t2c_mou_8  \n",
       "Churned                   0.0               0.0               0.0  \n",
       "Non Churned               0.0               0.0               0.0  "
      ]
     },
     "execution_count": 367,
     "metadata": {},
     "output_type": "execute_result"
    }
   ],
   "source": [
    "# let's check the mean variation in contact centre calls for churned and non churned customers\n",
    "pd.DataFrame([dfChurn.loc[dfChurn.churn==1,call_to_contact_centre].mean()\n",
    "              ,dfChurn.loc[dfChurn.churn==0,call_to_contact_centre].mean()],index={'Non Churned','Churned'})"
   ]
  },
  {
   "cell_type": "code",
   "execution_count": 373,
   "metadata": {},
   "outputs": [
    {
     "data": {
      "text/plain": [
       "(0.0, 0.0, 0.0)"
      ]
     },
     "execution_count": 373,
     "metadata": {},
     "output_type": "execute_result"
    }
   ],
   "source": [
    "dfChurn.std_og_t2c_mou_6.std(),dfChurn.std_og_t2c_mou_7.std(),dfChurn.std_og_t2c_mou_8.std()"
   ]
  },
  {
   "cell_type": "code",
   "execution_count": 374,
   "metadata": {},
   "outputs": [],
   "source": [
    "# we can see that std_og_t2c_mou_6,std_og_t2c_mou_7 and std_og_t2c_mou_8 have all zero value\n",
    "# let's drop these columns\n",
    "dfChurn.drop(['std_og_t2c_mou_6','std_og_t2c_mou_7','std_og_t2c_mou_8'],axis=1,inplace=True)"
   ]
  },
  {
   "cell_type": "code",
   "execution_count": 375,
   "metadata": {},
   "outputs": [],
   "source": [
    "# Let us define new derived column\n",
    "# local outgoing call to contact centre for good phase: loc_og_t2c_mou_good_ph\n",
    "dfChurn['loc_og_t2c_mou_good_ph'] = (dfChurn.loc_og_t2c_mou_6 + dfChurn.loc_og_t2c_mou_7)/2\n",
    "\n",
    "# drop the original columns as these are not longer required\n",
    "dfChurn.drop(['loc_og_t2c_mou_6','loc_og_t2c_mou_7'],axis=1,inplace=True)"
   ]
  },
  {
   "cell_type": "code",
   "execution_count": 139,
   "metadata": {},
   "outputs": [],
   "source": [
    "# let us check the date columns\n",
    "date_columns = dfChurn.columns[dfChurn.columns.str.contains('date')]"
   ]
  },
  {
   "cell_type": "markdown",
   "metadata": {},
   "source": [
    "#### last day recharge amount"
   ]
  },
  {
   "cell_type": "code",
   "execution_count": 376,
   "metadata": {},
   "outputs": [],
   "source": [
    "#let's extract the last day recharge amount columns\n",
    "last_day_rech_amt = dfChurn.columns[dfChurn.columns.str.contains('day')]"
   ]
  },
  {
   "cell_type": "code",
   "execution_count": 377,
   "metadata": {},
   "outputs": [
    {
     "data": {
      "text/html": [
       "<div>\n",
       "<style>\n",
       "    .dataframe thead tr:only-child th {\n",
       "        text-align: right;\n",
       "    }\n",
       "\n",
       "    .dataframe thead th {\n",
       "        text-align: left;\n",
       "    }\n",
       "\n",
       "    .dataframe tbody tr th {\n",
       "        vertical-align: top;\n",
       "    }\n",
       "</style>\n",
       "<table border=\"1\" class=\"dataframe\">\n",
       "  <thead>\n",
       "    <tr style=\"text-align: right;\">\n",
       "      <th></th>\n",
       "      <th>last_day_rch_amt_6</th>\n",
       "      <th>last_day_rch_amt_7</th>\n",
       "      <th>last_day_rch_amt_8</th>\n",
       "    </tr>\n",
       "  </thead>\n",
       "  <tbody>\n",
       "    <tr>\n",
       "      <th>Churned</th>\n",
       "      <td>101.247204</td>\n",
       "      <td>78.893174</td>\n",
       "      <td>34.460085</td>\n",
       "    </tr>\n",
       "    <tr>\n",
       "      <th>Non Churned</th>\n",
       "      <td>104.791925</td>\n",
       "      <td>107.783281</td>\n",
       "      <td>101.440514</td>\n",
       "    </tr>\n",
       "  </tbody>\n",
       "</table>\n",
       "</div>"
      ],
      "text/plain": [
       "             last_day_rch_amt_6  last_day_rch_amt_7  last_day_rch_amt_8\n",
       "Churned              101.247204           78.893174           34.460085\n",
       "Non Churned          104.791925          107.783281          101.440514"
      ]
     },
     "execution_count": 377,
     "metadata": {},
     "output_type": "execute_result"
    }
   ],
   "source": [
    "# let's check the mean variation in last day  for churned and non churned customers\n",
    "pd.DataFrame([dfChurn.loc[dfChurn.churn==1,last_day_rech_amt].mean()\n",
    "              ,dfChurn.loc[dfChurn.churn==0,last_day_rech_amt].mean()],index={'Non Churned','Churned'})"
   ]
  },
  {
   "cell_type": "markdown",
   "metadata": {},
   "source": [
    "We can see that there is a significant drop in last month recharge amount for churned customers."
   ]
  },
  {
   "cell_type": "code",
   "execution_count": 378,
   "metadata": {},
   "outputs": [],
   "source": [
    "# Let us define new derived column\n",
    "# last day recharge amount for good phase: last_day_rch_amt_good_ph\n",
    "dfChurn['last_day_rch_amt_good_ph'] = (dfChurn.last_day_rch_amt_6 + dfChurn.last_day_rch_amt_7)/2\n",
    "\n",
    "# drop the original columns as these are not longer required\n",
    "dfChurn.drop(['last_day_rch_amt_6','last_day_rch_amt_7'],axis=1,inplace=True)"
   ]
  },
  {
   "cell_type": "markdown",
   "metadata": {},
   "source": [
    "#### 2G and 3G usage related variables"
   ]
  },
  {
   "cell_type": "code",
   "execution_count": 379,
   "metadata": {},
   "outputs": [],
   "source": [
    "#let's extract the 2G and 3G usage related columns\n",
    "typ_2g_or_3g = dfChurn.columns[dfChurn.columns.str.contains('2g|3g',regex=True)]"
   ]
  },
  {
   "cell_type": "code",
   "execution_count": 380,
   "metadata": {},
   "outputs": [
    {
     "data": {
      "text/plain": [
       "count_rech_2g_6    0.620239\n",
       "count_rech_2g_7    0.611409\n",
       "count_rech_2g_8    0.608344\n",
       "count_rech_3g_6    0.620239\n",
       "count_rech_3g_7    0.611409\n",
       "count_rech_3g_8    0.608344\n",
       "vol_2g_mb_6        0.000000\n",
       "vol_2g_mb_7        0.000000\n",
       "vol_2g_mb_8        0.000000\n",
       "vol_3g_mb_6        0.000000\n",
       "vol_3g_mb_7        0.000000\n",
       "vol_3g_mb_8        0.000000\n",
       "arpu_3g_6          0.620239\n",
       "arpu_3g_7          0.611409\n",
       "arpu_3g_8          0.608344\n",
       "arpu_2g_6          0.620239\n",
       "arpu_2g_7          0.611409\n",
       "arpu_2g_8          0.608344\n",
       "monthly_2g_6       0.000000\n",
       "monthly_2g_7       0.000000\n",
       "monthly_2g_8       0.000000\n",
       "sachet_2g_6        0.000000\n",
       "sachet_2g_7        0.000000\n",
       "sachet_2g_8        0.000000\n",
       "monthly_3g_6       0.000000\n",
       "monthly_3g_7       0.000000\n",
       "monthly_3g_8       0.000000\n",
       "sachet_3g_6        0.000000\n",
       "sachet_3g_7        0.000000\n",
       "sachet_3g_8        0.000000\n",
       "aug_vbc_3g         0.000000\n",
       "jul_vbc_3g         0.000000\n",
       "jun_vbc_3g         0.000000\n",
       "sep_vbc_3g         0.000000\n",
       "dtype: float64"
      ]
     },
     "execution_count": 380,
     "metadata": {},
     "output_type": "execute_result"
    }
   ],
   "source": [
    "#let us check the % of NA values present\n",
    "dfChurn.loc[:,typ_2g_or_3g].isnull().sum()/len(dfChurn.loc[:,typ_2g_or_3g])"
   ]
  },
  {
   "cell_type": "markdown",
   "metadata": {},
   "source": [
    "We see from above that about 60% values are not available for count of recharge and average revenue for 2G/3G per user. As we aleady have 2G/3G volume usage based data available, let's drop these columns."
   ]
  },
  {
   "cell_type": "code",
   "execution_count": 382,
   "metadata": {},
   "outputs": [],
   "source": [
    "dfChurn.drop(['count_rech_2g_6','count_rech_2g_7',\n",
    "              'count_rech_2g_8','count_rech_3g_6','count_rech_3g_7','count_rech_3g_8'\n",
    "               ,'arpu_3g_6','arpu_3g_7','arpu_3g_8','arpu_2g_6','arpu_2g_7','arpu_2g_8'],axis=1,inplace=True)"
   ]
  },
  {
   "cell_type": "code",
   "execution_count": 383,
   "metadata": {},
   "outputs": [],
   "source": [
    "# let's extract volume of 2G and 3G usage columns\n",
    "volume_of_usage_3g_and_2g = dfChurn.columns[dfChurn.columns.str.contains('vol_2g|vol_3g',regex=True)]"
   ]
  },
  {
   "cell_type": "code",
   "execution_count": 384,
   "metadata": {},
   "outputs": [
    {
     "data": {
      "text/html": [
       "<div>\n",
       "<style>\n",
       "    .dataframe thead tr:only-child th {\n",
       "        text-align: right;\n",
       "    }\n",
       "\n",
       "    .dataframe thead th {\n",
       "        text-align: left;\n",
       "    }\n",
       "\n",
       "    .dataframe tbody tr th {\n",
       "        vertical-align: top;\n",
       "    }\n",
       "</style>\n",
       "<table border=\"1\" class=\"dataframe\">\n",
       "  <thead>\n",
       "    <tr style=\"text-align: right;\">\n",
       "      <th></th>\n",
       "      <th>vol_2g_mb_6</th>\n",
       "      <th>vol_2g_mb_7</th>\n",
       "      <th>vol_2g_mb_8</th>\n",
       "      <th>vol_3g_mb_6</th>\n",
       "      <th>vol_3g_mb_7</th>\n",
       "      <th>vol_3g_mb_8</th>\n",
       "    </tr>\n",
       "  </thead>\n",
       "  <tbody>\n",
       "    <tr>\n",
       "      <th>Churned</th>\n",
       "      <td>60.775588</td>\n",
       "      <td>49.054393</td>\n",
       "      <td>15.283185</td>\n",
       "      <td>188.395461</td>\n",
       "      <td>157.714254</td>\n",
       "      <td>56.77688</td>\n",
       "    </tr>\n",
       "    <tr>\n",
       "      <th>Non Churned</th>\n",
       "      <td>80.569210</td>\n",
       "      <td>80.925060</td>\n",
       "      <td>74.309036</td>\n",
       "      <td>265.012522</td>\n",
       "      <td>289.478375</td>\n",
       "      <td>290.01639</td>\n",
       "    </tr>\n",
       "  </tbody>\n",
       "</table>\n",
       "</div>"
      ],
      "text/plain": [
       "             vol_2g_mb_6  vol_2g_mb_7  vol_2g_mb_8  vol_3g_mb_6  vol_3g_mb_7  \\\n",
       "Churned        60.775588    49.054393    15.283185   188.395461   157.714254   \n",
       "Non Churned    80.569210    80.925060    74.309036   265.012522   289.478375   \n",
       "\n",
       "             vol_3g_mb_8  \n",
       "Churned         56.77688  \n",
       "Non Churned    290.01639  "
      ]
     },
     "execution_count": 384,
     "metadata": {},
     "output_type": "execute_result"
    }
   ],
   "source": [
    "# let's check the mean variation in volume of 2G/3G usage for churned and non churned customers\n",
    "pd.DataFrame([dfChurn.loc[dfChurn.churn==1,volume_of_usage_3g_and_2g].mean()\n",
    "              ,dfChurn.loc[dfChurn.churn==0,volume_of_usage_3g_and_2g].mean()],index={'Non Churned','Churned'})"
   ]
  },
  {
   "cell_type": "markdown",
   "metadata": {},
   "source": [
    "We have two observations from above:\n",
    "* the 2G and 3G usage for churned customers drops in 8th month \n",
    "* we also see that average 3G usage is higher for non-churned customers indicating that churned customers might be from areas where 3G service is not properly available."
   ]
  },
  {
   "cell_type": "code",
   "execution_count": 385,
   "metadata": {},
   "outputs": [],
   "source": [
    "# Let us define two new derived columns\n",
    "# 2G volume usage for good phase: vol_2g_mb_good_ph\n",
    "# 3G volumne usage for good phase: vol_3g_mb_good_ph\n",
    "dfChurn['vol_2g_mb_good_ph'] = (dfChurn.vol_2g_mb_6 + dfChurn.vol_2g_mb_7)/2\n",
    "dfChurn['vol_3g_mb_good_ph'] = (dfChurn.vol_3g_mb_6 + dfChurn.vol_3g_mb_7)/2\n",
    "\n",
    "# drop the original columns as these are not longer required\n",
    "dfChurn.drop(['vol_2g_mb_6','vol_2g_mb_7','vol_3g_mb_6','vol_3g_mb_7'],axis=1,inplace=True)"
   ]
  },
  {
   "cell_type": "code",
   "execution_count": 386,
   "metadata": {},
   "outputs": [],
   "source": [
    "# let's check monthly 2G/3G service schemes\n",
    "monthly_2g_3g = dfChurn.columns[dfChurn.columns.str.contains('monthly_2g|monthly_3g',regex=True)]"
   ]
  },
  {
   "cell_type": "code",
   "execution_count": 387,
   "metadata": {},
   "outputs": [
    {
     "data": {
      "text/html": [
       "<div>\n",
       "<style>\n",
       "    .dataframe thead tr:only-child th {\n",
       "        text-align: right;\n",
       "    }\n",
       "\n",
       "    .dataframe thead th {\n",
       "        text-align: left;\n",
       "    }\n",
       "\n",
       "    .dataframe tbody tr th {\n",
       "        vertical-align: top;\n",
       "    }\n",
       "</style>\n",
       "<table border=\"1\" class=\"dataframe\">\n",
       "  <thead>\n",
       "    <tr style=\"text-align: right;\">\n",
       "      <th></th>\n",
       "      <th>monthly_2g_6</th>\n",
       "      <th>monthly_2g_7</th>\n",
       "      <th>monthly_2g_8</th>\n",
       "      <th>monthly_3g_6</th>\n",
       "      <th>monthly_3g_7</th>\n",
       "      <th>monthly_3g_8</th>\n",
       "    </tr>\n",
       "  </thead>\n",
       "  <tbody>\n",
       "    <tr>\n",
       "      <th>Churned</th>\n",
       "      <td>0.060162</td>\n",
       "      <td>0.049364</td>\n",
       "      <td>0.015040</td>\n",
       "      <td>0.134593</td>\n",
       "      <td>0.101813</td>\n",
       "      <td>0.033938</td>\n",
       "    </tr>\n",
       "    <tr>\n",
       "      <th>Non Churned</th>\n",
       "      <td>0.130972</td>\n",
       "      <td>0.139106</td>\n",
       "      <td>0.123423</td>\n",
       "      <td>0.177621</td>\n",
       "      <td>0.193012</td>\n",
       "      <td>0.186374</td>\n",
       "    </tr>\n",
       "  </tbody>\n",
       "</table>\n",
       "</div>"
      ],
      "text/plain": [
       "             monthly_2g_6  monthly_2g_7  monthly_2g_8  monthly_3g_6  \\\n",
       "Churned          0.060162      0.049364      0.015040      0.134593   \n",
       "Non Churned      0.130972      0.139106      0.123423      0.177621   \n",
       "\n",
       "             monthly_3g_7  monthly_3g_8  \n",
       "Churned          0.101813      0.033938  \n",
       "Non Churned      0.193012      0.186374  "
      ]
     },
     "execution_count": 387,
     "metadata": {},
     "output_type": "execute_result"
    }
   ],
   "source": [
    "# let's check the mean variation in monthly schemes of 2G/3G usage for churned and non churned customers\n",
    "pd.DataFrame([dfChurn.loc[dfChurn.churn==1,monthly_2g_3g].mean()\n",
    "              ,dfChurn.loc[dfChurn.churn==0,monthly_2g_3g].mean()],index={'Non Churned','Churned'})"
   ]
  },
  {
   "cell_type": "markdown",
   "metadata": {},
   "source": [
    "Again we see a drop in monthly subscription for churned customers in action month (8th month) as compared ot non churned customers."
   ]
  },
  {
   "cell_type": "code",
   "execution_count": 388,
   "metadata": {},
   "outputs": [],
   "source": [
    "# Let us define two new derived columns\n",
    "# 2G monthly for good phase: monthly_2g_good_ph\n",
    "# 3G monthly for good phase: monthly_3g_good_ph\n",
    "dfChurn['monthly_2g_good_ph'] = (dfChurn.monthly_2g_6 + dfChurn.monthly_2g_7)/2\n",
    "dfChurn['monthly_3g_good_ph'] = (dfChurn.monthly_3g_6 + dfChurn.monthly_3g_7)/2\n",
    "\n",
    "# drop the original columns as these are not longer required\n",
    "dfChurn.drop(['monthly_2g_6','monthly_2g_7','monthly_3g_6','monthly_3g_7'],axis=1,inplace=True)"
   ]
  },
  {
   "cell_type": "code",
   "execution_count": 398,
   "metadata": {},
   "outputs": [],
   "source": [
    "# let us rename month named vbc columns to 6,7,8,9 format\n",
    "dfChurn.rename(columns={'jun_vbc_3g':'6_vbc_3g','jul_vbc_3g':'7_vbc_3g','aug_vbc_3g':'8_vbc_3g'\n",
    "                         ,'sep_vbc_3g':'9_vbc_3g'}, inplace=True)\n",
    "\n",
    "# drop 9th month column as it is not needed\n",
    "#dfChurn.drop('9_vbc_3g',axis=1,inplace=True)"
   ]
  },
  {
   "cell_type": "code",
   "execution_count": 399,
   "metadata": {},
   "outputs": [
    {
     "data": {
      "text/html": [
       "<div>\n",
       "<style>\n",
       "    .dataframe thead tr:only-child th {\n",
       "        text-align: right;\n",
       "    }\n",
       "\n",
       "    .dataframe thead th {\n",
       "        text-align: left;\n",
       "    }\n",
       "\n",
       "    .dataframe tbody tr th {\n",
       "        vertical-align: top;\n",
       "    }\n",
       "</style>\n",
       "<table border=\"1\" class=\"dataframe\">\n",
       "  <thead>\n",
       "    <tr style=\"text-align: right;\">\n",
       "      <th></th>\n",
       "      <th>8_vbc_3g</th>\n",
       "      <th>7_vbc_3g</th>\n",
       "      <th>6_vbc_3g</th>\n",
       "    </tr>\n",
       "  </thead>\n",
       "  <tbody>\n",
       "    <tr>\n",
       "      <th>Churned</th>\n",
       "      <td>32.610659</td>\n",
       "      <td>71.143880</td>\n",
       "      <td>81.564601</td>\n",
       "    </tr>\n",
       "    <tr>\n",
       "      <th>Non Churned</th>\n",
       "      <td>138.597023</td>\n",
       "      <td>141.178182</td>\n",
       "      <td>125.124167</td>\n",
       "    </tr>\n",
       "  </tbody>\n",
       "</table>\n",
       "</div>"
      ],
      "text/plain": [
       "               8_vbc_3g    7_vbc_3g    6_vbc_3g\n",
       "Churned       32.610659   71.143880   81.564601\n",
       "Non Churned  138.597023  141.178182  125.124167"
      ]
     },
     "execution_count": 399,
     "metadata": {},
     "output_type": "execute_result"
    }
   ],
   "source": [
    "# let's check the volumne based cost for 3G\n",
    "volumn_based_cost_3g = dfChurn.columns[dfChurn.columns.str.contains('vbc_3g')]\n",
    "\n",
    "pd.DataFrame([dfChurn.loc[dfChurn.churn==1,volumn_based_cost_3g].mean()\n",
    "              ,dfChurn.loc[dfChurn.churn==0,volumn_based_cost_3g].mean()],index={'Non Churned','Churned'})"
   ]
  },
  {
   "cell_type": "markdown",
   "metadata": {},
   "source": [
    "We can clearly see that volumne based cost for 3G is much lower higher for Churned customers as compared to Non-Churned Customers and laso there is a drop in vbc in 8th month."
   ]
  },
  {
   "cell_type": "code",
   "execution_count": 401,
   "metadata": {},
   "outputs": [],
   "source": [
    "# Let us define new derived columns\n",
    "# 2volume based cost for good phase: vbc_3g_good_ph\n",
    "dfChurn['vbc_3g_good_ph'] = (dfChurn['6_vbc_3g'] + dfChurn['7_vbc_3g'])/2\n",
    "\n",
    "# drop the original columns as these are not longer required\n",
    "dfChurn.drop(['6_vbc_3g','7_vbc_3g'],axis=1,inplace=True)"
   ]
  },
  {
   "cell_type": "code",
   "execution_count": 402,
   "metadata": {},
   "outputs": [
    {
     "data": {
      "text/html": [
       "<div>\n",
       "<style>\n",
       "    .dataframe thead tr:only-child th {\n",
       "        text-align: right;\n",
       "    }\n",
       "\n",
       "    .dataframe thead th {\n",
       "        text-align: left;\n",
       "    }\n",
       "\n",
       "    .dataframe tbody tr th {\n",
       "        vertical-align: top;\n",
       "    }\n",
       "</style>\n",
       "<table border=\"1\" class=\"dataframe\">\n",
       "  <thead>\n",
       "    <tr style=\"text-align: right;\">\n",
       "      <th></th>\n",
       "      <th>sachet_2g_6</th>\n",
       "      <th>sachet_2g_7</th>\n",
       "      <th>sachet_2g_8</th>\n",
       "      <th>sachet_3g_6</th>\n",
       "      <th>sachet_3g_7</th>\n",
       "      <th>sachet_3g_8</th>\n",
       "    </tr>\n",
       "  </thead>\n",
       "  <tbody>\n",
       "    <tr>\n",
       "      <th>Churned</th>\n",
       "      <td>0.436946</td>\n",
       "      <td>0.423448</td>\n",
       "      <td>0.190513</td>\n",
       "      <td>0.133436</td>\n",
       "      <td>0.144234</td>\n",
       "      <td>0.04435</td>\n",
       "    </tr>\n",
       "    <tr>\n",
       "      <th>Non Churned</th>\n",
       "      <td>0.506383</td>\n",
       "      <td>0.602670</td>\n",
       "      <td>0.647057</td>\n",
       "      <td>0.138340</td>\n",
       "      <td>0.150777</td>\n",
       "      <td>0.14950</td>\n",
       "    </tr>\n",
       "  </tbody>\n",
       "</table>\n",
       "</div>"
      ],
      "text/plain": [
       "             sachet_2g_6  sachet_2g_7  sachet_2g_8  sachet_3g_6  sachet_3g_7  \\\n",
       "Churned         0.436946     0.423448     0.190513     0.133436     0.144234   \n",
       "Non Churned     0.506383     0.602670     0.647057     0.138340     0.150777   \n",
       "\n",
       "             sachet_3g_8  \n",
       "Churned          0.04435  \n",
       "Non Churned      0.14950  "
      ]
     },
     "execution_count": 402,
     "metadata": {},
     "output_type": "execute_result"
    }
   ],
   "source": [
    "# let's check sachet subscription for 2G/3G\n",
    "sachet_2g_or_3g = dfChurn.columns[dfChurn.columns.str.contains('sachet_2g|sachet_3g',regex=True)]\n",
    "\n",
    "pd.DataFrame([dfChurn.loc[dfChurn.churn==1,sachet_2g_or_3g].mean()\n",
    "              ,dfChurn.loc[dfChurn.churn==0,sachet_2g_or_3g].mean()],index={'Non Churned','Churned'})"
   ]
  },
  {
   "cell_type": "markdown",
   "metadata": {},
   "source": [
    "There is a steep drop in sachet services in 8th month for churned cutsomers as compared to non churned customers"
   ]
  },
  {
   "cell_type": "code",
   "execution_count": 403,
   "metadata": {},
   "outputs": [],
   "source": [
    "# Let us define two new derived columns\n",
    "# 2G sachet for good phase: sachet_2g_good_ph\n",
    "# 3G sachet for good phase: sachet_3g_good_ph\n",
    "dfChurn['sachet_2g_good_ph'] = (dfChurn.sachet_2g_6 + dfChurn.sachet_2g_7)/2\n",
    "dfChurn['sachet_3g_good_ph'] = (dfChurn.sachet_3g_6 + dfChurn.sachet_3g_7)/2\n",
    "\n",
    "# drop the original columns as these are not longer required\n",
    "dfChurn.drop(['sachet_2g_6','sachet_2g_7','sachet_3g_6','sachet_3g_7'],axis=1,inplace=True)"
   ]
  },
  {
   "cell_type": "markdown",
   "metadata": {},
   "source": [
    "#### Age on network"
   ]
  },
  {
   "cell_type": "code",
   "execution_count": 404,
   "metadata": {},
   "outputs": [
    {
     "name": "stdout",
     "output_type": "stream",
     "text": [
      "869.2364057076745\n",
      "1301.4048435334453\n"
     ]
    }
   ],
   "source": [
    "# let's check the age on n/w for churned and non churned customers\n",
    "print(dfChurn.loc[dfChurn.churn==1,'aon'].mean())\n",
    "print(dfChurn.loc[dfChurn.churn==0,'aon'].mean())"
   ]
  },
  {
   "cell_type": "code",
   "execution_count": 200,
   "metadata": {},
   "outputs": [
    {
     "data": {
      "text/plain": [
       "<matplotlib.axes._subplots.AxesSubplot at 0x26999cc0>"
      ]
     },
     "execution_count": 200,
     "metadata": {},
     "output_type": "execute_result"
    },
    {
     "data": {
      "image/png": "[encoded data removed]",
      "text/plain": [
       "<matplotlib.figure.Figure at 0x25e0a630>"
      ]
     },
     "metadata": {},
     "output_type": "display_data"
    }
   ],
   "source": [
    "# let's check the age distribution for non churned customers\n",
    "dfChurn.loc[dfChurn.churn==0,'aon'].plot.hist()"
   ]
  },
  {
   "cell_type": "code",
   "execution_count": 201,
   "metadata": {},
   "outputs": [
    {
     "data": {
      "text/plain": [
       "<matplotlib.axes._subplots.AxesSubplot at 0x270612e8>"
      ]
     },
     "execution_count": 201,
     "metadata": {},
     "output_type": "execute_result"
    },
    {
     "data": {
      "image/png": "[encoded data removed]",
      "text/plain": [
       "<matplotlib.figure.Figure at 0x267ba978>"
      ]
     },
     "metadata": {},
     "output_type": "display_data"
    }
   ],
   "source": [
    "# let's check the age distribution for churned customers\n",
    "dfChurn.loc[dfChurn.churn==1,'aon'].plot.hist()"
   ]
  },
  {
   "cell_type": "markdown",
   "metadata": {},
   "source": [
    "We see from above that most of the churn cases are happening before age 1500 days."
   ]
  },
  {
   "cell_type": "code",
   "execution_count": 405,
   "metadata": {},
   "outputs": [],
   "source": [
    "# let's check the circle id values\n",
    "dfChurn.circle_id.unique()\n",
    "\n",
    "# let's drop this column as there is only one circle id\n",
    "dfChurn.drop('circle_id',inplace=True,axis=1)"
   ]
  },
  {
   "cell_type": "markdown",
   "metadata": {},
   "source": [
    "#### date related variables"
   ]
  },
  {
   "cell_type": "code",
   "execution_count": 406,
   "metadata": {},
   "outputs": [],
   "source": [
    "# extract the date columns\n",
    "date_columns = dfChurn.columns[dfChurn.columns.str.contains('date')]\n",
    "\n",
    "# convert to datetime\n",
    "for date_col in list(date_columns):\n",
    "    dfChurn[date_col]= pd.to_datetime(dfChurn[date_col])"
   ]
  },
  {
   "cell_type": "code",
   "execution_count": 407,
   "metadata": {},
   "outputs": [
    {
     "name": "stdout",
     "output_type": "stream",
     "text": [
      "[30] [ 31.  nan] [ 31.  nan]\n"
     ]
    }
   ],
   "source": [
    "print(dfChurn.last_date_of_month_6.dt.day.unique(),dfChurn.last_date_of_month_7.dt.day.unique()\n",
    "      ,dfChurn.last_date_of_month_8.dt.day.unique())\n",
    "\n",
    "# as only 1 unique value last day of month is present these columns are not adding much information\n",
    "# let us drop the columns\n",
    "dfChurn.drop(['last_date_of_month_6','last_date_of_month_7','last_date_of_month_8'],axis=1,inplace=True)"
   ]
  },
  {
   "cell_type": "code",
   "execution_count": 408,
   "metadata": {},
   "outputs": [
    {
     "data": {
      "text/html": [
       "<div>\n",
       "<style>\n",
       "    .dataframe thead tr:only-child th {\n",
       "        text-align: right;\n",
       "    }\n",
       "\n",
       "    .dataframe thead th {\n",
       "        text-align: left;\n",
       "    }\n",
       "\n",
       "    .dataframe tbody tr th {\n",
       "        vertical-align: top;\n",
       "    }\n",
       "</style>\n",
       "<table border=\"1\" class=\"dataframe\">\n",
       "  <thead>\n",
       "    <tr style=\"text-align: right;\">\n",
       "      <th></th>\n",
       "      <th>day_of_last_rech_6</th>\n",
       "      <th>day_of_last_rech_7</th>\n",
       "      <th>day_of_last_rech_8</th>\n",
       "    </tr>\n",
       "  </thead>\n",
       "  <tbody>\n",
       "    <tr>\n",
       "      <th>Churned</th>\n",
       "      <td>29.0</td>\n",
       "      <td>28.0</td>\n",
       "      <td>26.0</td>\n",
       "    </tr>\n",
       "    <tr>\n",
       "      <th>Non Churned</th>\n",
       "      <td>28.0</td>\n",
       "      <td>29.0</td>\n",
       "      <td>29.0</td>\n",
       "    </tr>\n",
       "  </tbody>\n",
       "</table>\n",
       "</div>"
      ],
      "text/plain": [
       "             day_of_last_rech_6  day_of_last_rech_7  day_of_last_rech_8\n",
       "Churned                    29.0                28.0                26.0\n",
       "Non Churned                28.0                29.0                29.0"
      ]
     },
     "execution_count": 408,
     "metadata": {},
     "output_type": "execute_result"
    }
   ],
   "source": [
    "# let's extract the day of last recharge\n",
    "dfChurn['day_of_last_rech_6'] =  dfChurn.date_of_last_rech_6.dt.day\n",
    "dfChurn['day_of_last_rech_7'] =  dfChurn.date_of_last_rech_7.dt.day\n",
    "dfChurn['day_of_last_rech_8'] =  dfChurn.date_of_last_rech_8.dt.day\n",
    "\n",
    "dt_of_last_rech_cols = ['day_of_last_rech_6','day_of_last_rech_7','day_of_last_rech_8']\n",
    "\n",
    "pd.DataFrame([dfChurn.loc[dfChurn.churn==1,dt_of_last_rech_cols].median()\n",
    "              ,dfChurn.loc[dfChurn.churn==0,dt_of_last_rech_cols].median()],index={'Non Churned','Churned'})"
   ]
  },
  {
   "cell_type": "markdown",
   "metadata": {},
   "source": [
    "We can see that the median value for last recharge is bit lower for churned customers"
   ]
  },
  {
   "cell_type": "code",
   "execution_count": 409,
   "metadata": {},
   "outputs": [
    {
     "data": {
      "text/html": [
       "<div>\n",
       "<style>\n",
       "    .dataframe thead tr:only-child th {\n",
       "        text-align: right;\n",
       "    }\n",
       "\n",
       "    .dataframe thead th {\n",
       "        text-align: left;\n",
       "    }\n",
       "\n",
       "    .dataframe tbody tr th {\n",
       "        vertical-align: top;\n",
       "    }\n",
       "</style>\n",
       "<table border=\"1\" class=\"dataframe\">\n",
       "  <thead>\n",
       "    <tr style=\"text-align: right;\">\n",
       "      <th></th>\n",
       "      <th>day_of_last_rech_data_6</th>\n",
       "      <th>day_of_last_rech_data_7</th>\n",
       "      <th>day_of_last_rech_data_8</th>\n",
       "    </tr>\n",
       "  </thead>\n",
       "  <tbody>\n",
       "    <tr>\n",
       "      <th>Churned</th>\n",
       "      <td>21.0</td>\n",
       "      <td>20.0</td>\n",
       "      <td>15.5</td>\n",
       "    </tr>\n",
       "    <tr>\n",
       "      <th>Non Churned</th>\n",
       "      <td>21.0</td>\n",
       "      <td>23.0</td>\n",
       "      <td>22.0</td>\n",
       "    </tr>\n",
       "  </tbody>\n",
       "</table>\n",
       "</div>"
      ],
      "text/plain": [
       "             day_of_last_rech_data_6  day_of_last_rech_data_7  \\\n",
       "Churned                         21.0                     20.0   \n",
       "Non Churned                     21.0                     23.0   \n",
       "\n",
       "             day_of_last_rech_data_8  \n",
       "Churned                         15.5  \n",
       "Non Churned                     22.0  "
      ]
     },
     "execution_count": 409,
     "metadata": {},
     "output_type": "execute_result"
    }
   ],
   "source": [
    "# let's extract the day of last recharge for data\n",
    "dfChurn['day_of_last_rech_data_6'] =  dfChurn.date_of_last_rech_data_6.dt.day\n",
    "dfChurn['day_of_last_rech_data_7'] =  dfChurn.date_of_last_rech_data_7.dt.day\n",
    "dfChurn['day_of_last_rech_data_8'] =  dfChurn.date_of_last_rech_data_8.dt.day\n",
    "\n",
    "dt_of_last_rech_cols = ['day_of_last_rech_data_6','day_of_last_rech_data_7','day_of_last_rech_data_8']\n",
    "\n",
    "pd.DataFrame([dfChurn.loc[dfChurn.churn==1,dt_of_last_rech_cols].median()\n",
    "              ,dfChurn.loc[dfChurn.churn==0,dt_of_last_rech_cols].median()],index={'Non Churned','Churned'})"
   ]
  },
  {
   "cell_type": "code",
   "execution_count": 410,
   "metadata": {},
   "outputs": [],
   "source": [
    "# let us drop the date columns as we have derived day of month variables from them\n",
    "dfChurn.drop(['date_of_last_rech_6','date_of_last_rech_7','date_of_last_rech_8'],axis=1,inplace=True)\n",
    "dfChurn.drop(['date_of_last_rech_data_6','date_of_last_rech_data_7','date_of_last_rech_data_8'],axis=1,inplace=True)"
   ]
  },
  {
   "cell_type": "code",
   "execution_count": 411,
   "metadata": {},
   "outputs": [
    {
     "name": "stdout",
     "output_type": "stream",
     "text": [
      "<class 'pandas.core.frame.DataFrame'>\n",
      "Int64Index: 30011 entries, 7 to 99997\n",
      "Columns: 139 entries, mobile_number to day_of_last_rech_data_8\n",
      "dtypes: float64(126), int64(13)\n",
      "memory usage: 32.1 MB\n"
     ]
    }
   ],
   "source": [
    "dfChurn.info()"
   ]
  },
  {
   "cell_type": "code",
   "execution_count": 412,
   "metadata": {},
   "outputs": [
    {
     "data": {
      "text/html": [
       "<div>\n",
       "<style>\n",
       "    .dataframe thead tr:only-child th {\n",
       "        text-align: right;\n",
       "    }\n",
       "\n",
       "    .dataframe thead th {\n",
       "        text-align: left;\n",
       "    }\n",
       "\n",
       "    .dataframe tbody tr th {\n",
       "        vertical-align: top;\n",
       "    }\n",
       "</style>\n",
       "<table border=\"1\" class=\"dataframe\">\n",
       "  <thead>\n",
       "    <tr style=\"text-align: right;\">\n",
       "      <th></th>\n",
       "      <th>mobile_number</th>\n",
       "      <th>loc_og_t2o_mou</th>\n",
       "      <th>std_og_t2o_mou</th>\n",
       "      <th>loc_ic_t2o_mou</th>\n",
       "      <th>arpu_6</th>\n",
       "      <th>arpu_7</th>\n",
       "      <th>arpu_8</th>\n",
       "      <th>onnet_mou_8</th>\n",
       "      <th>offnet_mou_6</th>\n",
       "      <th>offnet_mou_7</th>\n",
       "      <th>...</th>\n",
       "      <th>monthly_3g_good_ph</th>\n",
       "      <th>vbc_3g_good_ph</th>\n",
       "      <th>sachet_2g_good_ph</th>\n",
       "      <th>sachet_3g_good_ph</th>\n",
       "      <th>day_of_last_rech_6</th>\n",
       "      <th>day_of_last_rech_7</th>\n",
       "      <th>day_of_last_rech_8</th>\n",
       "      <th>day_of_last_rech_data_6</th>\n",
       "      <th>day_of_last_rech_data_7</th>\n",
       "      <th>day_of_last_rech_data_8</th>\n",
       "    </tr>\n",
       "  </thead>\n",
       "  <tbody>\n",
       "    <tr>\n",
       "      <th>7</th>\n",
       "      <td>7000701601</td>\n",
       "      <td>0.0</td>\n",
       "      <td>0.0</td>\n",
       "      <td>0.0</td>\n",
       "      <td>1069.180</td>\n",
       "      <td>1349.850</td>\n",
       "      <td>3171.480</td>\n",
       "      <td>52.29</td>\n",
       "      <td>453.43</td>\n",
       "      <td>567.16</td>\n",
       "      <td>...</td>\n",
       "      <td>0.0</td>\n",
       "      <td>19.060</td>\n",
       "      <td>0.0</td>\n",
       "      <td>0.0</td>\n",
       "      <td>27.0</td>\n",
       "      <td>25.0</td>\n",
       "      <td>26.0</td>\n",
       "      <td>NaN</td>\n",
       "      <td>NaN</td>\n",
       "      <td>NaN</td>\n",
       "    </tr>\n",
       "    <tr>\n",
       "      <th>8</th>\n",
       "      <td>7001524846</td>\n",
       "      <td>0.0</td>\n",
       "      <td>0.0</td>\n",
       "      <td>0.0</td>\n",
       "      <td>378.721</td>\n",
       "      <td>492.223</td>\n",
       "      <td>137.362</td>\n",
       "      <td>35.08</td>\n",
       "      <td>94.66</td>\n",
       "      <td>80.63</td>\n",
       "      <td>...</td>\n",
       "      <td>0.0</td>\n",
       "      <td>516.405</td>\n",
       "      <td>0.5</td>\n",
       "      <td>0.0</td>\n",
       "      <td>25.0</td>\n",
       "      <td>31.0</td>\n",
       "      <td>30.0</td>\n",
       "      <td>NaN</td>\n",
       "      <td>31.0</td>\n",
       "      <td>23.0</td>\n",
       "    </tr>\n",
       "    <tr>\n",
       "      <th>13</th>\n",
       "      <td>7002191713</td>\n",
       "      <td>0.0</td>\n",
       "      <td>0.0</td>\n",
       "      <td>0.0</td>\n",
       "      <td>492.846</td>\n",
       "      <td>205.671</td>\n",
       "      <td>593.260</td>\n",
       "      <td>534.24</td>\n",
       "      <td>413.31</td>\n",
       "      <td>119.28</td>\n",
       "      <td>...</td>\n",
       "      <td>0.0</td>\n",
       "      <td>0.000</td>\n",
       "      <td>0.0</td>\n",
       "      <td>0.0</td>\n",
       "      <td>20.0</td>\n",
       "      <td>22.0</td>\n",
       "      <td>30.0</td>\n",
       "      <td>NaN</td>\n",
       "      <td>NaN</td>\n",
       "      <td>30.0</td>\n",
       "    </tr>\n",
       "    <tr>\n",
       "      <th>16</th>\n",
       "      <td>7000875565</td>\n",
       "      <td>0.0</td>\n",
       "      <td>0.0</td>\n",
       "      <td>0.0</td>\n",
       "      <td>430.975</td>\n",
       "      <td>299.869</td>\n",
       "      <td>187.894</td>\n",
       "      <td>70.61</td>\n",
       "      <td>296.29</td>\n",
       "      <td>229.74</td>\n",
       "      <td>...</td>\n",
       "      <td>0.0</td>\n",
       "      <td>12.170</td>\n",
       "      <td>0.0</td>\n",
       "      <td>0.0</td>\n",
       "      <td>30.0</td>\n",
       "      <td>31.0</td>\n",
       "      <td>14.0</td>\n",
       "      <td>NaN</td>\n",
       "      <td>NaN</td>\n",
       "      <td>NaN</td>\n",
       "    </tr>\n",
       "    <tr>\n",
       "      <th>17</th>\n",
       "      <td>7000187447</td>\n",
       "      <td>0.0</td>\n",
       "      <td>0.0</td>\n",
       "      <td>0.0</td>\n",
       "      <td>690.008</td>\n",
       "      <td>18.980</td>\n",
       "      <td>25.499</td>\n",
       "      <td>7.79</td>\n",
       "      <td>61.64</td>\n",
       "      <td>0.00</td>\n",
       "      <td>...</td>\n",
       "      <td>0.0</td>\n",
       "      <td>0.000</td>\n",
       "      <td>0.0</td>\n",
       "      <td>0.0</td>\n",
       "      <td>30.0</td>\n",
       "      <td>30.0</td>\n",
       "      <td>25.0</td>\n",
       "      <td>NaN</td>\n",
       "      <td>NaN</td>\n",
       "      <td>NaN</td>\n",
       "    </tr>\n",
       "  </tbody>\n",
       "</table>\n",
       "<p>5 rows × 139 columns</p>\n",
       "</div>"
      ],
      "text/plain": [
       "    mobile_number  loc_og_t2o_mou  std_og_t2o_mou  loc_ic_t2o_mou    arpu_6  \\\n",
       "7      7000701601             0.0             0.0             0.0  1069.180   \n",
       "8      7001524846             0.0             0.0             0.0   378.721   \n",
       "13     7002191713             0.0             0.0             0.0   492.846   \n",
       "16     7000875565             0.0             0.0             0.0   430.975   \n",
       "17     7000187447             0.0             0.0             0.0   690.008   \n",
       "\n",
       "      arpu_7    arpu_8  onnet_mou_8  offnet_mou_6  offnet_mou_7  \\\n",
       "7   1349.850  3171.480        52.29        453.43        567.16   \n",
       "8    492.223   137.362        35.08         94.66         80.63   \n",
       "13   205.671   593.260       534.24        413.31        119.28   \n",
       "16   299.869   187.894        70.61        296.29        229.74   \n",
       "17    18.980    25.499         7.79         61.64          0.00   \n",
       "\n",
       "             ...             monthly_3g_good_ph  vbc_3g_good_ph  \\\n",
       "7            ...                            0.0          19.060   \n",
       "8            ...                            0.0         516.405   \n",
       "13           ...                            0.0           0.000   \n",
       "16           ...                            0.0          12.170   \n",
       "17           ...                            0.0           0.000   \n",
       "\n",
       "    sachet_2g_good_ph  sachet_3g_good_ph  day_of_last_rech_6  \\\n",
       "7                 0.0                0.0                27.0   \n",
       "8                 0.5                0.0                25.0   \n",
       "13                0.0                0.0                20.0   \n",
       "16                0.0                0.0                30.0   \n",
       "17                0.0                0.0                30.0   \n",
       "\n",
       "    day_of_last_rech_7  day_of_last_rech_8  day_of_last_rech_data_6  \\\n",
       "7                 25.0                26.0                      NaN   \n",
       "8                 31.0                30.0                      NaN   \n",
       "13                22.0                30.0                      NaN   \n",
       "16                31.0                14.0                      NaN   \n",
       "17                30.0                25.0                      NaN   \n",
       "\n",
       "    day_of_last_rech_data_7  day_of_last_rech_data_8  \n",
       "7                       NaN                      NaN  \n",
       "8                      31.0                     23.0  \n",
       "13                      NaN                     30.0  \n",
       "16                      NaN                      NaN  \n",
       "17                      NaN                      NaN  \n",
       "\n",
       "[5 rows x 139 columns]"
      ]
     },
     "execution_count": 412,
     "metadata": {},
     "output_type": "execute_result"
    }
   ],
   "source": [
    "dfChurn.head()"
   ]
  },
  {
   "cell_type": "code",
   "execution_count": null,
   "metadata": {},
   "outputs": [],
   "source": []
  }
 ],
 "metadata": {
  "kernelspec": {
   "display_name": "Python 3",
   "language": "python",
   "name": "python3"
  },
  "language_info": {
   "codemirror_mode": {
    "name": "ipython",
    "version": 3
   },
   "file_extension": ".py",
   "mimetype": "text/x-python",
   "name": "python",
   "nbconvert_exporter": "python",
   "pygments_lexer": "ipython3",
   "version": "3.6.0"
  },
  "latex_envs": {
   "LaTeX_envs_menu_present": true,
   "autoclose": false,
   "autocomplete": true,
   "bibliofile": "biblio.bib",
   "cite_by": "apalike",
   "current_citInitial": 1,
   "eqLabelWithNumbers": true,
   "eqNumInitial": 1,
   "hotkeys": {
    "equation": "Ctrl-E",
    "itemize": "Ctrl-I"
   },
   "labels_anchors": false,
   "latex_user_defs": false,
   "report_style_numbering": false,
   "user_envs_cfg": false
  }
 },
 "nbformat": 4,
 "nbformat_minor": 2
}
