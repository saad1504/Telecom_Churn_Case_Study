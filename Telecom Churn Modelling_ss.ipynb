{
 "cells": [
  {
   "cell_type": "markdown",
   "metadata": {},
   "source": [
    "### Business Overview\n",
    "\n",
    "In the telecom industry, customers are able to choose from multiple service providers and actively switch from one operator to another. In this highly competitive market, the telecommunications industry experiences an average of 15-25% annual churn rate. Given the fact that it costs 5-10 times more to acquire a new customer than to retain an existing one, customer retention has now become even more important than customer acquisition.\n",
    "**For many incumbent operators, retaining high profitable customers is the number one business goal.**\n",
    "\n",
    "**To reduce customer churn, telecom companies need to predict which customers are at high risk of churn.**\n",
    "\n",
    "### Objective\n",
    "\n",
    "In this project, we will \n",
    "* analyse customer-level data of a leading telecom firm, \n",
    "* build predictive models to identify customers at high risk of churn and \n",
    "* identify the main indicators of churn."
   ]
  },
  {
   "cell_type": "markdown",
   "metadata": {},
   "source": [
    "#### Churn Definition\n",
    "\n",
    "This project is based on Indian and Southeast Asian market and fillowing **Usage-based Churn definition** will be used:\n",
    "\n",
    "*Usage-based churn:Customers who have not done any usage, either incoming or outgoing - in terms of calls, internet etc. over a period of time.*\n",
    "\n",
    "#### High Value Churn\n",
    "\n",
    "In the Indian and the southeast Asian market, approximately 80% of revenue comes from the top 20% customers (called high-value customers). Thus, if we can reduce churn of the high-value customers, we will be able to reduce significant revenue leakage."
   ]
  },
  {
   "cell_type": "markdown",
   "metadata": {},
   "source": [
    "#### Data and Business Objective\n",
    "\n",
    "**dataset**: The dataset contains customer-level information for a span of four consecutive months - June, July, August and September. The months are encoded as 6, 7, 8 and 9, respectively.\n",
    "\n",
    "**business objective**: is to predict the churn in the last (i.e. the ninth) month using the data (features) from the first three months. "
   ]
  },
  {
   "cell_type": "markdown",
   "metadata": {},
   "source": [
    "####  Understanding Customer Behaviour during Churn\n",
    "\n",
    "Customers usually do not decide to switch to another competitor instantly, but rather over a period of time (this is especially applicable to high-value customers). In churn prediction, we assume that there are three phases of customer lifecycle :\n",
    "\n",
    "1. The **‘good’ phase**: In this phase, the customer is happy with the service and behaves as usual.\n",
    "\n",
    "2. The **‘action’ phase**: The customer experience starts to sore in this phase, for e.g. he/she gets a compelling offer from a  competitor, faces unjust charges, becomes unhappy with service quality etc. In this phase, the customer usually shows different behaviour than the ‘good’ months. Also, it is crucial to identify high-churn-risk customers in this phase, since some corrective actions can be taken at this point (such as matching the competitor’s offer/improving the service quality etc.)\n",
    "\n",
    "3. The **‘churn’ phase**: In this phase, the customer is said to have churned. We define churn based on this phase.\n",
    "\n",
    "In this project, since we are working over a four-month window, the first two months are the ‘good’ phase, the third month is the ‘action’ phase, while the fourth month is the ‘churn’ phase."
   ]
  },
  {
   "cell_type": "markdown",
   "metadata": {},
   "source": [
    "### Load Data and Data Cleaning"
   ]
  },
  {
   "cell_type": "code",
   "execution_count": 1,
   "metadata": {},
   "outputs": [],
   "source": [
    "# import numpy and pandas\n",
    "import pandas as pd\n",
    "import numpy as np\n",
    "\n",
    "# import libraries for plotting\n",
    "import matplotlib.pyplot as plt\n",
    "import seaborn as sns\n",
    "# do an inline so that plt.show() is not required everytime\n",
    "%matplotlib inline\n",
    "\n",
    "# import for pre-processing\n",
    "# scale (this is same as standard scalar)\n",
    "from sklearn.preprocessing import scale\n",
    "# label encoding\n",
    "from sklearn.preprocessing import LabelEncoder\n",
    "\n",
    "# import for model selection:\n",
    "# splitting data into training and test data (validation set)\n",
    "from sklearn.model_selection import train_test_split\n",
    "# import for creating K-folds\n",
    "from sklearn.model_selection import KFold\n",
    "# import for CV using folds created\n",
    "from sklearn.model_selection import cross_val_score\n",
    "# import for grid search cv for Hyperparameter tuning\n",
    "from sklearn.model_selection import GridSearchCV\n",
    "\n",
    "# for deleting unused variables\n",
    "import gc\n",
    "\n",
    "# filter warnings\n",
    "import os\n",
    "import warnings\n",
    "warnings.filterwarnings('ignore')"
   ]
  },
  {
   "cell_type": "code",
   "execution_count": 187,
   "metadata": {},
   "outputs": [],
   "source": [
    "# load the telecom churn data\n",
    "dfChurn = pd.read_csv('./telecom_churn_data.csv')"
   ]
  },
  {
   "cell_type": "code",
   "execution_count": 3,
   "metadata": {},
   "outputs": [
    {
     "data": {
      "text/html": [
       "<div>\n",
       "<style>\n",
       "    .dataframe thead tr:only-child th {\n",
       "        text-align: right;\n",
       "    }\n",
       "\n",
       "    .dataframe thead th {\n",
       "        text-align: left;\n",
       "    }\n",
       "\n",
       "    .dataframe tbody tr th {\n",
       "        vertical-align: top;\n",
       "    }\n",
       "</style>\n",
       "<table border=\"1\" class=\"dataframe\">\n",
       "  <thead>\n",
       "    <tr style=\"text-align: right;\">\n",
       "      <th></th>\n",
       "      <th>mobile_number</th>\n",
       "      <th>circle_id</th>\n",
       "      <th>loc_og_t2o_mou</th>\n",
       "      <th>std_og_t2o_mou</th>\n",
       "      <th>loc_ic_t2o_mou</th>\n",
       "      <th>last_date_of_month_6</th>\n",
       "      <th>last_date_of_month_7</th>\n",
       "      <th>last_date_of_month_8</th>\n",
       "      <th>last_date_of_month_9</th>\n",
       "      <th>arpu_6</th>\n",
       "      <th>...</th>\n",
       "      <th>sachet_3g_9</th>\n",
       "      <th>fb_user_6</th>\n",
       "      <th>fb_user_7</th>\n",
       "      <th>fb_user_8</th>\n",
       "      <th>fb_user_9</th>\n",
       "      <th>aon</th>\n",
       "      <th>aug_vbc_3g</th>\n",
       "      <th>jul_vbc_3g</th>\n",
       "      <th>jun_vbc_3g</th>\n",
       "      <th>sep_vbc_3g</th>\n",
       "    </tr>\n",
       "  </thead>\n",
       "  <tbody>\n",
       "    <tr>\n",
       "      <th>0</th>\n",
       "      <td>7000842753</td>\n",
       "      <td>109</td>\n",
       "      <td>0.0</td>\n",
       "      <td>0.0</td>\n",
       "      <td>0.0</td>\n",
       "      <td>6/30/2014</td>\n",
       "      <td>7/31/2014</td>\n",
       "      <td>8/31/2014</td>\n",
       "      <td>9/30/2014</td>\n",
       "      <td>197.385</td>\n",
       "      <td>...</td>\n",
       "      <td>0</td>\n",
       "      <td>1.0</td>\n",
       "      <td>1.0</td>\n",
       "      <td>1.0</td>\n",
       "      <td>NaN</td>\n",
       "      <td>968</td>\n",
       "      <td>30.4</td>\n",
       "      <td>0.0</td>\n",
       "      <td>101.20</td>\n",
       "      <td>3.58</td>\n",
       "    </tr>\n",
       "    <tr>\n",
       "      <th>1</th>\n",
       "      <td>7001865778</td>\n",
       "      <td>109</td>\n",
       "      <td>0.0</td>\n",
       "      <td>0.0</td>\n",
       "      <td>0.0</td>\n",
       "      <td>6/30/2014</td>\n",
       "      <td>7/31/2014</td>\n",
       "      <td>8/31/2014</td>\n",
       "      <td>9/30/2014</td>\n",
       "      <td>34.047</td>\n",
       "      <td>...</td>\n",
       "      <td>0</td>\n",
       "      <td>NaN</td>\n",
       "      <td>1.0</td>\n",
       "      <td>1.0</td>\n",
       "      <td>NaN</td>\n",
       "      <td>1006</td>\n",
       "      <td>0.0</td>\n",
       "      <td>0.0</td>\n",
       "      <td>0.00</td>\n",
       "      <td>0.00</td>\n",
       "    </tr>\n",
       "    <tr>\n",
       "      <th>2</th>\n",
       "      <td>7001625959</td>\n",
       "      <td>109</td>\n",
       "      <td>0.0</td>\n",
       "      <td>0.0</td>\n",
       "      <td>0.0</td>\n",
       "      <td>6/30/2014</td>\n",
       "      <td>7/31/2014</td>\n",
       "      <td>8/31/2014</td>\n",
       "      <td>9/30/2014</td>\n",
       "      <td>167.690</td>\n",
       "      <td>...</td>\n",
       "      <td>0</td>\n",
       "      <td>NaN</td>\n",
       "      <td>NaN</td>\n",
       "      <td>NaN</td>\n",
       "      <td>1.0</td>\n",
       "      <td>1103</td>\n",
       "      <td>0.0</td>\n",
       "      <td>0.0</td>\n",
       "      <td>4.17</td>\n",
       "      <td>0.00</td>\n",
       "    </tr>\n",
       "    <tr>\n",
       "      <th>3</th>\n",
       "      <td>7001204172</td>\n",
       "      <td>109</td>\n",
       "      <td>0.0</td>\n",
       "      <td>0.0</td>\n",
       "      <td>0.0</td>\n",
       "      <td>6/30/2014</td>\n",
       "      <td>7/31/2014</td>\n",
       "      <td>8/31/2014</td>\n",
       "      <td>9/30/2014</td>\n",
       "      <td>221.338</td>\n",
       "      <td>...</td>\n",
       "      <td>0</td>\n",
       "      <td>NaN</td>\n",
       "      <td>NaN</td>\n",
       "      <td>NaN</td>\n",
       "      <td>NaN</td>\n",
       "      <td>2491</td>\n",
       "      <td>0.0</td>\n",
       "      <td>0.0</td>\n",
       "      <td>0.00</td>\n",
       "      <td>0.00</td>\n",
       "    </tr>\n",
       "    <tr>\n",
       "      <th>4</th>\n",
       "      <td>7000142493</td>\n",
       "      <td>109</td>\n",
       "      <td>0.0</td>\n",
       "      <td>0.0</td>\n",
       "      <td>0.0</td>\n",
       "      <td>6/30/2014</td>\n",
       "      <td>7/31/2014</td>\n",
       "      <td>8/31/2014</td>\n",
       "      <td>9/30/2014</td>\n",
       "      <td>261.636</td>\n",
       "      <td>...</td>\n",
       "      <td>0</td>\n",
       "      <td>0.0</td>\n",
       "      <td>NaN</td>\n",
       "      <td>NaN</td>\n",
       "      <td>NaN</td>\n",
       "      <td>1526</td>\n",
       "      <td>0.0</td>\n",
       "      <td>0.0</td>\n",
       "      <td>0.00</td>\n",
       "      <td>0.00</td>\n",
       "    </tr>\n",
       "  </tbody>\n",
       "</table>\n",
       "<p>5 rows × 226 columns</p>\n",
       "</div>"
      ],
      "text/plain": [
       "   mobile_number  circle_id  loc_og_t2o_mou  std_og_t2o_mou  loc_ic_t2o_mou  \\\n",
       "0     7000842753        109             0.0             0.0             0.0   \n",
       "1     7001865778        109             0.0             0.0             0.0   \n",
       "2     7001625959        109             0.0             0.0             0.0   \n",
       "3     7001204172        109             0.0             0.0             0.0   \n",
       "4     7000142493        109             0.0             0.0             0.0   \n",
       "\n",
       "  last_date_of_month_6 last_date_of_month_7 last_date_of_month_8  \\\n",
       "0            6/30/2014            7/31/2014            8/31/2014   \n",
       "1            6/30/2014            7/31/2014            8/31/2014   \n",
       "2            6/30/2014            7/31/2014            8/31/2014   \n",
       "3            6/30/2014            7/31/2014            8/31/2014   \n",
       "4            6/30/2014            7/31/2014            8/31/2014   \n",
       "\n",
       "  last_date_of_month_9   arpu_6     ...      sachet_3g_9  fb_user_6  \\\n",
       "0            9/30/2014  197.385     ...                0        1.0   \n",
       "1            9/30/2014   34.047     ...                0        NaN   \n",
       "2            9/30/2014  167.690     ...                0        NaN   \n",
       "3            9/30/2014  221.338     ...                0        NaN   \n",
       "4            9/30/2014  261.636     ...                0        0.0   \n",
       "\n",
       "   fb_user_7  fb_user_8  fb_user_9   aon  aug_vbc_3g  jul_vbc_3g  jun_vbc_3g  \\\n",
       "0        1.0        1.0        NaN   968        30.4         0.0      101.20   \n",
       "1        1.0        1.0        NaN  1006         0.0         0.0        0.00   \n",
       "2        NaN        NaN        1.0  1103         0.0         0.0        4.17   \n",
       "3        NaN        NaN        NaN  2491         0.0         0.0        0.00   \n",
       "4        NaN        NaN        NaN  1526         0.0         0.0        0.00   \n",
       "\n",
       "   sep_vbc_3g  \n",
       "0        3.58  \n",
       "1        0.00  \n",
       "2        0.00  \n",
       "3        0.00  \n",
       "4        0.00  \n",
       "\n",
       "[5 rows x 226 columns]"
      ]
     },
     "execution_count": 3,
     "metadata": {},
     "output_type": "execute_result"
    }
   ],
   "source": [
    "dfChurn.head()"
   ]
  },
  {
   "cell_type": "code",
   "execution_count": 4,
   "metadata": {},
   "outputs": [
    {
     "name": "stdout",
     "output_type": "stream",
     "text": [
      "<class 'pandas.core.frame.DataFrame'>\n",
      "RangeIndex: 99999 entries, 0 to 99998\n",
      "Columns: 226 entries, mobile_number to sep_vbc_3g\n",
      "dtypes: float64(179), int64(35), object(12)\n",
      "memory usage: 172.4+ MB\n"
     ]
    }
   ],
   "source": [
    "dfChurn.info()"
   ]
  },
  {
   "cell_type": "markdown",
   "metadata": {},
   "source": [
    "#### Analysis on recharge amount data"
   ]
  },
  {
   "cell_type": "code",
   "execution_count": 188,
   "metadata": {},
   "outputs": [
    {
     "name": "stdout",
     "output_type": "stream",
     "text": [
      "Index(['total_rech_amt_6', 'total_rech_amt_7', 'total_rech_amt_8',\n",
      "       'total_rech_amt_9', 'max_rech_amt_6', 'max_rech_amt_7',\n",
      "       'max_rech_amt_8', 'max_rech_amt_9', 'av_rech_amt_data_6',\n",
      "       'av_rech_amt_data_7', 'av_rech_amt_data_8', 'av_rech_amt_data_9'],\n",
      "      dtype='object')\n"
     ]
    }
   ],
   "source": [
    "# let us first extract list of columns containing recharge amount\n",
    "recharge_amnt_columns =  dfChurn.columns[dfChurn.columns.str.contains('rech_amt')]\n",
    "\n",
    "print(recharge_amnt_columns)"
   ]
  },
  {
   "cell_type": "markdown",
   "metadata": {},
   "source": [
    "we observe from above that there are 3 set of values for\n",
    "* total recharge amount,\n",
    "* maximum recharge amount and \n",
    "* average recharge amount for mobile internet."
   ]
  },
  {
   "cell_type": "code",
   "execution_count": 176,
   "metadata": {},
   "outputs": [
    {
     "data": {
      "text/plain": [
       "total_rech_amt_6       0.000000\n",
       "total_rech_amt_7       0.000000\n",
       "total_rech_amt_8       0.000000\n",
       "total_rech_amt_9       0.000000\n",
       "max_rech_amt_6         0.000000\n",
       "max_rech_amt_7         0.000000\n",
       "max_rech_amt_8         0.000000\n",
       "max_rech_amt_9         0.000000\n",
       "av_rech_amt_data_6    74.846748\n",
       "av_rech_amt_data_7    74.428744\n",
       "av_rech_amt_data_8    73.660737\n",
       "av_rech_amt_data_9    74.077741\n",
       "dtype: float64"
      ]
     },
     "execution_count": 176,
     "metadata": {},
     "output_type": "execute_result"
    }
   ],
   "source": [
    "# let us check if there are any missing values for recharge amount\n",
    "100*dfChurn.loc[:,recharge_amnt_columns].isnull().sum()/len(dfChurn)"
   ]
  },
  {
   "cell_type": "markdown",
   "metadata": {},
   "source": [
    "we observe that approx 74-75% values for average recharge amount for mobile internet data is missing."
   ]
  },
  {
   "cell_type": "code",
   "execution_count": 189,
   "metadata": {},
   "outputs": [],
   "source": [
    "# let us define a new column for total average recharge amount for good phase (month 6 and 7)\n",
    "dfChurn['total_avg_rech_amnt_good_ph'] = (dfChurn.total_rech_amt_6 + dfChurn.total_rech_amt_7)/2"
   ]
  },
  {
   "cell_type": "code",
   "execution_count": 190,
   "metadata": {},
   "outputs": [],
   "source": [
    "# create a filter for values greater than 70th percentile of total average recharge amount for good phase \n",
    "high_value_filter = dfChurn.total_avg_rech_amnt_good_ph >= dfChurn.total_avg_rech_amnt_good_ph.quantile(0.7)"
   ]
  },
  {
   "cell_type": "code",
   "execution_count": 191,
   "metadata": {},
   "outputs": [
    {
     "data": {
      "text/plain": [
       "368.5"
      ]
     },
     "execution_count": 191,
     "metadata": {},
     "output_type": "execute_result"
    }
   ],
   "source": [
    "dfChurn.total_avg_rech_amnt_good_ph.quantile(0.7)"
   ]
  },
  {
   "cell_type": "code",
   "execution_count": 192,
   "metadata": {},
   "outputs": [],
   "source": [
    "# let us subset out the High Value customers\n",
    "dfChurn = dfChurn.loc[high_value_filter,:]"
   ]
  },
  {
   "cell_type": "code",
   "execution_count": 193,
   "metadata": {},
   "outputs": [
    {
     "data": {
      "text/plain": [
       "30011"
      ]
     },
     "execution_count": 193,
     "metadata": {},
     "output_type": "execute_result"
    }
   ],
   "source": [
    "# let us check how many records remain\n",
    "len(dfChurn.loc[high_value_filter,:])"
   ]
  },
  {
   "cell_type": "code",
   "execution_count": 194,
   "metadata": {},
   "outputs": [],
   "source": [
    "# Now let us label the churned customers\n",
    "# define a new column in data frame as 'churn' with value as 1 if customer has churned and 0 if customer has not churned\n",
    "# Initially set all the values as 0\n",
    "dfChurn['churn']= 0"
   ]
  },
  {
   "cell_type": "code",
   "execution_count": 195,
   "metadata": {},
   "outputs": [
    {
     "data": {
      "text/plain": [
       "total_ic_mou_9    0.0\n",
       "total_ic_mou_9    0.0\n",
       "vol_2g_mb_9       0.0\n",
       "vol_3g_mb_9       0.0\n",
       "dtype: float64"
      ]
     },
     "execution_count": 195,
     "metadata": {},
     "output_type": "execute_result"
    }
   ],
   "source": [
    "# the following columns will be used to find the churned customers in the 9th month \n",
    "# total_ic_mou_9, total_ic_mou_9, vol_2g_mb_9 and vol_3g_mb_9\n",
    "# let's check if any NA/Null values are present\n",
    "ls_9 = ['total_ic_mou_9', 'total_ic_mou_9', 'vol_2g_mb_9','vol_3g_mb_9']\n",
    "100*dfChurn.loc[:,ls_9].isnull().sum()/len(dfChurn)"
   ]
  },
  {
   "cell_type": "code",
   "execution_count": 196,
   "metadata": {},
   "outputs": [],
   "source": [
    "# define is_churned boolean flag for customers where above values are zero\n",
    "is_churned = (dfChurn.total_ic_mou_9 == 0) & (dfChurn.total_ic_mou_9 == 0) & (dfChurn.vol_2g_mb_9 ==0)& \\\n",
    "(dfChurn.vol_3g_mb_9 ==0)"
   ]
  },
  {
   "cell_type": "code",
   "execution_count": 197,
   "metadata": {},
   "outputs": [],
   "source": [
    "# set all such rows fulfilling is_churned condition as 1\n",
    "dfChurn.loc[is_churned,'churn']=1"
   ]
  },
  {
   "cell_type": "code",
   "execution_count": 198,
   "metadata": {},
   "outputs": [
    {
     "data": {
      "text/plain": [
       "8.930058978374596"
      ]
     },
     "execution_count": 198,
     "metadata": {},
     "output_type": "execute_result"
    }
   ],
   "source": [
    "# let us check what's the % of churned customers\n",
    "100*dfChurn.churn.sum()/len(is_churned)"
   ]
  },
  {
   "cell_type": "markdown",
   "metadata": {},
   "source": [
    "We see that approx. 8.9% of high value customers have churned"
   ]
  },
  {
   "cell_type": "code",
   "execution_count": 199,
   "metadata": {},
   "outputs": [],
   "source": [
    "# let's extract all list of 9th Month (churned month) Columns\n",
    "month_9_columns =  dfChurn.columns[dfChurn.columns.str.contains('_9')]"
   ]
  },
  {
   "cell_type": "code",
   "execution_count": 200,
   "metadata": {},
   "outputs": [],
   "source": [
    "# drop all columns corresponding to the attributes of churn phase\n",
    "dfChurn.drop(month_9_columns,axis=1,inplace=True)"
   ]
  },
  {
   "cell_type": "code",
   "execution_count": 339,
   "metadata": {},
   "outputs": [
    {
     "name": "stdout",
     "output_type": "stream",
     "text": [
      "<class 'pandas.core.frame.DataFrame'>\n",
      "Int64Index: 30011 entries, 7 to 99997\n",
      "Columns: 174 entries, mobile_number to churn\n",
      "dtypes: float64(137), int64(28), object(9)\n",
      "memory usage: 40.1+ MB\n"
     ]
    }
   ],
   "source": [
    "# let's check how many columns remain\n",
    "dfChurn.info()"
   ]
  },
  {
   "cell_type": "code",
   "execution_count": 113,
   "metadata": {},
   "outputs": [
    {
     "data": {
      "text/plain": [
       "mobile_number                   0.000000\n",
       "circle_id                       0.000000\n",
       "loc_og_t2o_mou                  0.379861\n",
       "std_og_t2o_mou                  0.379861\n",
       "loc_ic_t2o_mou                  0.379861\n",
       "last_date_of_month_6            0.000000\n",
       "last_date_of_month_7            0.103295\n",
       "last_date_of_month_8            0.523142\n",
       "arpu_6                          0.000000\n",
       "arpu_7                          0.000000\n",
       "arpu_8                          0.000000\n",
       "onnet_mou_6                     1.052947\n",
       "onnet_mou_7                     1.009630\n",
       "onnet_mou_8                     3.125521\n",
       "offnet_mou_6                    1.052947\n",
       "offnet_mou_7                    1.009630\n",
       "offnet_mou_8                    3.125521\n",
       "roam_ic_mou_6                   1.052947\n",
       "roam_ic_mou_7                   1.009630\n",
       "roam_ic_mou_8                   3.125521\n",
       "roam_og_mou_6                   1.052947\n",
       "roam_og_mou_7                   1.009630\n",
       "roam_og_mou_8                   3.125521\n",
       "loc_og_t2t_mou_6                1.052947\n",
       "loc_og_t2t_mou_7                1.009630\n",
       "loc_og_t2t_mou_8                3.125521\n",
       "loc_og_t2m_mou_6                1.052947\n",
       "loc_og_t2m_mou_7                1.009630\n",
       "loc_og_t2m_mou_8                3.125521\n",
       "loc_og_t2f_mou_6                1.052947\n",
       "                                 ...    \n",
       "arpu_3g_8                      60.834361\n",
       "arpu_2g_6                      62.023925\n",
       "arpu_2g_7                      61.140915\n",
       "arpu_2g_8                      60.834361\n",
       "night_pck_user_6               62.023925\n",
       "night_pck_user_7               61.140915\n",
       "night_pck_user_8               60.834361\n",
       "monthly_2g_6                    0.000000\n",
       "monthly_2g_7                    0.000000\n",
       "monthly_2g_8                    0.000000\n",
       "sachet_2g_6                     0.000000\n",
       "sachet_2g_7                     0.000000\n",
       "sachet_2g_8                     0.000000\n",
       "monthly_3g_6                    0.000000\n",
       "monthly_3g_7                    0.000000\n",
       "monthly_3g_8                    0.000000\n",
       "sachet_3g_6                     0.000000\n",
       "sachet_3g_7                     0.000000\n",
       "sachet_3g_8                     0.000000\n",
       "fb_user_6                      62.023925\n",
       "fb_user_7                      61.140915\n",
       "fb_user_8                      60.834361\n",
       "aon                             0.000000\n",
       "aug_vbc_3g                      0.000000\n",
       "jul_vbc_3g                      0.000000\n",
       "jun_vbc_3g                      0.000000\n",
       "sep_vbc_3g                      0.000000\n",
       "total_rech_amnt_good_ph         0.000000\n",
       "total_avg_rech_amnt_good_ph     0.000000\n",
       "churn                           0.000000\n",
       "Length: 175, dtype: float64"
      ]
     },
     "execution_count": 113,
     "metadata": {},
     "output_type": "execute_result"
    }
   ],
   "source": [
    "100*dfChurn.isnull().sum()/len(dfChurn.index)"
   ]
  },
  {
   "cell_type": "markdown",
   "metadata": {},
   "source": [
    "#### recharge amount related variables"
   ]
  },
  {
   "cell_type": "code",
   "execution_count": 201,
   "metadata": {},
   "outputs": [
    {
     "data": {
      "text/plain": [
       "Index(['total_rech_amt_6', 'total_rech_amt_7', 'total_rech_amt_8',\n",
       "       'max_rech_amt_6', 'max_rech_amt_7', 'max_rech_amt_8',\n",
       "       'av_rech_amt_data_6', 'av_rech_amt_data_7', 'av_rech_amt_data_8'],\n",
       "      dtype='object')"
      ]
     },
     "execution_count": 201,
     "metadata": {},
     "output_type": "execute_result"
    }
   ],
   "source": [
    "#let's again extract the recharge amount related columns\n",
    "recharge_amnt_columns =  dfChurn.columns[dfChurn.columns.str.contains('rech_amt')]\n",
    "\n",
    "recharge_amnt_columns"
   ]
  },
  {
   "cell_type": "code",
   "execution_count": 202,
   "metadata": {},
   "outputs": [
    {
     "data": {
      "text/html": [
       "<div>\n",
       "<style>\n",
       "    .dataframe thead tr:only-child th {\n",
       "        text-align: right;\n",
       "    }\n",
       "\n",
       "    .dataframe thead th {\n",
       "        text-align: left;\n",
       "    }\n",
       "\n",
       "    .dataframe tbody tr th {\n",
       "        vertical-align: top;\n",
       "    }\n",
       "</style>\n",
       "<table border=\"1\" class=\"dataframe\">\n",
       "  <thead>\n",
       "    <tr style=\"text-align: right;\">\n",
       "      <th></th>\n",
       "      <th>total_rech_amt_6</th>\n",
       "      <th>total_rech_amt_7</th>\n",
       "      <th>total_rech_amt_8</th>\n",
       "      <th>max_rech_amt_6</th>\n",
       "      <th>max_rech_amt_7</th>\n",
       "      <th>max_rech_amt_8</th>\n",
       "      <th>av_rech_amt_data_6</th>\n",
       "      <th>av_rech_amt_data_7</th>\n",
       "      <th>av_rech_amt_data_8</th>\n",
       "    </tr>\n",
       "  </thead>\n",
       "  <tbody>\n",
       "    <tr>\n",
       "      <th>Churned</th>\n",
       "      <td>804.469403</td>\n",
       "      <td>636.199627</td>\n",
       "      <td>261.755597</td>\n",
       "      <td>168.937313</td>\n",
       "      <td>158.159328</td>\n",
       "      <td>86.783955</td>\n",
       "      <td>226.523715</td>\n",
       "      <td>235.976832</td>\n",
       "      <td>150.238287</td>\n",
       "    </tr>\n",
       "    <tr>\n",
       "      <th>Non Churned</th>\n",
       "      <td>686.863562</td>\n",
       "      <td>701.823095</td>\n",
       "      <td>648.143463</td>\n",
       "      <td>171.656910</td>\n",
       "      <td>177.377227</td>\n",
       "      <td>170.330065</td>\n",
       "      <td>239.792502</td>\n",
       "      <td>251.903496</td>\n",
       "      <td>231.653408</td>\n",
       "    </tr>\n",
       "  </tbody>\n",
       "</table>\n",
       "</div>"
      ],
      "text/plain": [
       "             total_rech_amt_6  total_rech_amt_7  total_rech_amt_8  \\\n",
       "Churned            804.469403        636.199627        261.755597   \n",
       "Non Churned        686.863562        701.823095        648.143463   \n",
       "\n",
       "             max_rech_amt_6  max_rech_amt_7  max_rech_amt_8  \\\n",
       "Churned          168.937313      158.159328       86.783955   \n",
       "Non Churned      171.656910      177.377227      170.330065   \n",
       "\n",
       "             av_rech_amt_data_6  av_rech_amt_data_7  av_rech_amt_data_8  \n",
       "Churned              226.523715          235.976832          150.238287  \n",
       "Non Churned          239.792502          251.903496          231.653408  "
      ]
     },
     "execution_count": 202,
     "metadata": {},
     "output_type": "execute_result"
    }
   ],
   "source": [
    "# let's check the mean variation in values for churned and non churned customers\n",
    "pd.DataFrame([dfChurn.loc[dfChurn.churn==1,recharge_amnt_columns].mean()\n",
    "              ,dfChurn.loc[dfChurn.churn==0,recharge_amnt_columns].mean()],index={'Non Churned','Churned'})"
   ]
  },
  {
   "cell_type": "markdown",
   "metadata": {},
   "source": [
    "We see that there is a significant drop in total recharge amount, max recharge amount and average recharge amount in 8th month (action phase) for churned customers."
   ]
  },
  {
   "cell_type": "code",
   "execution_count": 203,
   "metadata": {},
   "outputs": [
    {
     "data": {
      "text/plain": [
       "total_rech_amt_6       0.000000\n",
       "total_rech_amt_7       0.000000\n",
       "total_rech_amt_8       0.000000\n",
       "max_rech_amt_6         0.000000\n",
       "max_rech_amt_7         0.000000\n",
       "max_rech_amt_8         0.000000\n",
       "av_rech_amt_data_6    62.023925\n",
       "av_rech_amt_data_7    61.140915\n",
       "av_rech_amt_data_8    60.834361\n",
       "dtype: float64"
      ]
     },
     "execution_count": 203,
     "metadata": {},
     "output_type": "execute_result"
    }
   ],
   "source": [
    "# let's check the mean recharge amount parameters across 3 months\n",
    "100*dfChurn.loc[:,recharge_amnt_columns].isnull().sum()/len(dfChurn.loc[:,recharge_amnt_columns])"
   ]
  },
  {
   "cell_type": "markdown",
   "metadata": {},
   "source": [
    "We observe that around 60% data values for average recharge amount for data is missing, as we already have total recharge amount and max recharge amount information with us we can safely remove these columns."
   ]
  },
  {
   "cell_type": "code",
   "execution_count": 204,
   "metadata": {},
   "outputs": [],
   "source": [
    "dfChurn.drop(['av_rech_amt_data_6','av_rech_amt_data_7','av_rech_amt_data_8'],axis=1,inplace=True)"
   ]
  },
  {
   "cell_type": "code",
   "execution_count": 205,
   "metadata": {},
   "outputs": [],
   "source": [
    "# Let us define two new derived columns\n",
    "# total recharge amount for good phase: total_rech_amt_good_ph\n",
    "# max recharge amount for good phase: max_rech_amt_good_ph\n",
    "\n",
    "dfChurn['total_rech_amt_good_ph'] = (dfChurn.total_rech_amt_6 + dfChurn.total_rech_amt_7)/2\n",
    "dfChurn['max_rech_amt_good_ph'] = (dfChurn.max_rech_amt_6 + dfChurn.max_rech_amt_7)/2\n",
    "\n",
    "# let's define additional columns as:\n",
    "# total recharge amount ratio for action month: total_rech_amt_ratio\n",
    "# maxium recharge amount ratio for action month: max_rech_amt_ratio\n",
    "dfChurn['total_rech_amt_ratio'] = dfChurn.total_rech_amt_8/dfChurn.total_rech_amt_good_ph\n",
    "dfChurn['max_rech_amt_ratio']= dfChurn.max_rech_amt_8/dfChurn.max_rech_amt_good_ph\n",
    "\n",
    "# drop the original columns as these are not longer required\n",
    "#dfChurn.drop(['total_rech_amt_6','total_rech_amt_7'\n",
    "#              ,'max_rech_amt_6','max_rech_amt_7','total_rech_amt_8','max_rech_amt_8'],axis=1,inplace=True)\n",
    "\n",
    "dfChurn.drop(['total_rech_amt_6','total_rech_amt_7'\n",
    "              ,'max_rech_amt_6','max_rech_amt_7'],axis=1,inplace=True)"
   ]
  },
  {
   "cell_type": "code",
   "execution_count": 206,
   "metadata": {},
   "outputs": [
    {
     "data": {
      "text/html": [
       "<div>\n",
       "<style>\n",
       "    .dataframe thead tr:only-child th {\n",
       "        text-align: right;\n",
       "    }\n",
       "\n",
       "    .dataframe thead th {\n",
       "        text-align: left;\n",
       "    }\n",
       "\n",
       "    .dataframe tbody tr th {\n",
       "        vertical-align: top;\n",
       "    }\n",
       "</style>\n",
       "<table border=\"1\" class=\"dataframe\">\n",
       "  <thead>\n",
       "    <tr style=\"text-align: right;\">\n",
       "      <th></th>\n",
       "      <th>total_rech_amt_ratio</th>\n",
       "    </tr>\n",
       "  </thead>\n",
       "  <tbody>\n",
       "    <tr>\n",
       "      <th>Churned</th>\n",
       "      <td>0.358711</td>\n",
       "    </tr>\n",
       "    <tr>\n",
       "      <th>Non Churned</th>\n",
       "      <td>0.951963</td>\n",
       "    </tr>\n",
       "  </tbody>\n",
       "</table>\n",
       "</div>"
      ],
      "text/plain": [
       "             total_rech_amt_ratio\n",
       "Churned                  0.358711\n",
       "Non Churned              0.951963"
      ]
     },
     "execution_count": 206,
     "metadata": {},
     "output_type": "execute_result"
    }
   ],
   "source": [
    "pd.DataFrame([dfChurn.loc[dfChurn.churn==1,['total_rech_amt_ratio']].mean()\n",
    "              ,dfChurn.loc[dfChurn.churn==0,['total_rech_amt_ratio']].mean()],index={'Non Churned','Churned'})"
   ]
  },
  {
   "cell_type": "markdown",
   "metadata": {},
   "source": [
    "#### last day recharge amount"
   ]
  },
  {
   "cell_type": "code",
   "execution_count": 207,
   "metadata": {},
   "outputs": [],
   "source": [
    "#let's extract the last day recharge amount columns\n",
    "last_day_rech_amt = dfChurn.columns[dfChurn.columns.str.contains('day')]"
   ]
  },
  {
   "cell_type": "code",
   "execution_count": 208,
   "metadata": {},
   "outputs": [
    {
     "data": {
      "text/html": [
       "<div>\n",
       "<style>\n",
       "    .dataframe thead tr:only-child th {\n",
       "        text-align: right;\n",
       "    }\n",
       "\n",
       "    .dataframe thead th {\n",
       "        text-align: left;\n",
       "    }\n",
       "\n",
       "    .dataframe tbody tr th {\n",
       "        vertical-align: top;\n",
       "    }\n",
       "</style>\n",
       "<table border=\"1\" class=\"dataframe\">\n",
       "  <thead>\n",
       "    <tr style=\"text-align: right;\">\n",
       "      <th></th>\n",
       "      <th>last_day_rch_amt_6</th>\n",
       "      <th>last_day_rch_amt_7</th>\n",
       "      <th>last_day_rch_amt_8</th>\n",
       "    </tr>\n",
       "  </thead>\n",
       "  <tbody>\n",
       "    <tr>\n",
       "      <th>Churned</th>\n",
       "      <td>103.521642</td>\n",
       "      <td>81.666791</td>\n",
       "      <td>37.200746</td>\n",
       "    </tr>\n",
       "    <tr>\n",
       "      <th>Non Churned</th>\n",
       "      <td>104.580184</td>\n",
       "      <td>107.603271</td>\n",
       "      <td>101.384984</td>\n",
       "    </tr>\n",
       "  </tbody>\n",
       "</table>\n",
       "</div>"
      ],
      "text/plain": [
       "             last_day_rch_amt_6  last_day_rch_amt_7  last_day_rch_amt_8\n",
       "Churned              103.521642           81.666791           37.200746\n",
       "Non Churned          104.580184          107.603271          101.384984"
      ]
     },
     "execution_count": 208,
     "metadata": {},
     "output_type": "execute_result"
    }
   ],
   "source": [
    "# let's check the mean variation in last day  for churned and non churned customers\n",
    "pd.DataFrame([dfChurn.loc[dfChurn.churn==1,last_day_rech_amt].mean()\n",
    "              ,dfChurn.loc[dfChurn.churn==0,last_day_rech_amt].mean()],index={'Non Churned','Churned'})"
   ]
  },
  {
   "cell_type": "markdown",
   "metadata": {},
   "source": [
    "We can see that there is a significant drop in last month recharge amount for churned customers."
   ]
  },
  {
   "cell_type": "code",
   "execution_count": 209,
   "metadata": {},
   "outputs": [],
   "source": [
    "# Let us define new derived column\n",
    "# last day recharge amount for good phase: last_day_rch_amt_good_ph\n",
    "dfChurn['last_day_rch_amt_good_ph'] = (dfChurn.last_day_rch_amt_6 + dfChurn.last_day_rch_amt_7)/2\n",
    "\n",
    "# let's define a new dervied column\n",
    "# last day recharge amount ratio for action month(8th month):last_day_rch_amt_ratio\n",
    "dfChurn['last_day_rch_amt_ratio'] = dfChurn.last_day_rch_amt_8/dfChurn.last_day_rch_amt_good_ph\n",
    "\n",
    "# drop the original columns as these are not longer required\n",
    "# dfChurn.drop(['last_day_rch_amt_6','last_day_rch_amt_7','last_day_rch_amt_8'],axis=1,inplace=True)\n",
    "\n",
    "dfChurn.drop(['last_day_rch_amt_6','last_day_rch_amt_7'],axis=1,inplace=True)"
   ]
  },
  {
   "cell_type": "markdown",
   "metadata": {},
   "source": [
    "#### 2G and 3G usage related variables"
   ]
  },
  {
   "cell_type": "code",
   "execution_count": 210,
   "metadata": {},
   "outputs": [],
   "source": [
    "#let's extract the 2G and 3G usage related columns\n",
    "typ_2g_or_3g = dfChurn.columns[dfChurn.columns.str.contains('2g|3g',regex=True)]"
   ]
  },
  {
   "cell_type": "code",
   "execution_count": 211,
   "metadata": {},
   "outputs": [
    {
     "data": {
      "text/plain": [
       "count_rech_2g_6    0.620239\n",
       "count_rech_2g_7    0.611409\n",
       "count_rech_2g_8    0.608344\n",
       "count_rech_3g_6    0.620239\n",
       "count_rech_3g_7    0.611409\n",
       "count_rech_3g_8    0.608344\n",
       "vol_2g_mb_6        0.000000\n",
       "vol_2g_mb_7        0.000000\n",
       "vol_2g_mb_8        0.000000\n",
       "vol_3g_mb_6        0.000000\n",
       "vol_3g_mb_7        0.000000\n",
       "vol_3g_mb_8        0.000000\n",
       "arpu_3g_6          0.620239\n",
       "arpu_3g_7          0.611409\n",
       "arpu_3g_8          0.608344\n",
       "arpu_2g_6          0.620239\n",
       "arpu_2g_7          0.611409\n",
       "arpu_2g_8          0.608344\n",
       "monthly_2g_6       0.000000\n",
       "monthly_2g_7       0.000000\n",
       "monthly_2g_8       0.000000\n",
       "sachet_2g_6        0.000000\n",
       "sachet_2g_7        0.000000\n",
       "sachet_2g_8        0.000000\n",
       "monthly_3g_6       0.000000\n",
       "monthly_3g_7       0.000000\n",
       "monthly_3g_8       0.000000\n",
       "sachet_3g_6        0.000000\n",
       "sachet_3g_7        0.000000\n",
       "sachet_3g_8        0.000000\n",
       "aug_vbc_3g         0.000000\n",
       "jul_vbc_3g         0.000000\n",
       "jun_vbc_3g         0.000000\n",
       "sep_vbc_3g         0.000000\n",
       "dtype: float64"
      ]
     },
     "execution_count": 211,
     "metadata": {},
     "output_type": "execute_result"
    }
   ],
   "source": [
    "#let us check the % of NA values present\n",
    "dfChurn.loc[:,typ_2g_or_3g].isnull().sum()/len(dfChurn.loc[:,typ_2g_or_3g])"
   ]
  },
  {
   "cell_type": "markdown",
   "metadata": {},
   "source": [
    "We see from above that about 60% values are not available for count of recharge and average revenue for 2G/3G per user. As we aleady have 2G/3G volume usage based data available, let's drop these columns."
   ]
  },
  {
   "cell_type": "code",
   "execution_count": 212,
   "metadata": {},
   "outputs": [],
   "source": [
    "dfChurn.drop(['count_rech_2g_6','count_rech_2g_7',\n",
    "              'count_rech_2g_8','count_rech_3g_6','count_rech_3g_7','count_rech_3g_8'\n",
    "               ,'arpu_3g_6','arpu_3g_7','arpu_3g_8','arpu_2g_6','arpu_2g_7','arpu_2g_8'],axis=1,inplace=True)"
   ]
  },
  {
   "cell_type": "code",
   "execution_count": 213,
   "metadata": {},
   "outputs": [],
   "source": [
    "# let's extract volume of 2G and 3G usage columns\n",
    "volume_of_usage_3g_and_2g = dfChurn.columns[dfChurn.columns.str.contains('vol_2g|vol_3g',regex=True)]"
   ]
  },
  {
   "cell_type": "code",
   "execution_count": 214,
   "metadata": {},
   "outputs": [
    {
     "data": {
      "text/html": [
       "<div>\n",
       "<style>\n",
       "    .dataframe thead tr:only-child th {\n",
       "        text-align: right;\n",
       "    }\n",
       "\n",
       "    .dataframe thead th {\n",
       "        text-align: left;\n",
       "    }\n",
       "\n",
       "    .dataframe tbody tr th {\n",
       "        vertical-align: top;\n",
       "    }\n",
       "</style>\n",
       "<table border=\"1\" class=\"dataframe\">\n",
       "  <thead>\n",
       "    <tr style=\"text-align: right;\">\n",
       "      <th></th>\n",
       "      <th>vol_2g_mb_6</th>\n",
       "      <th>vol_2g_mb_7</th>\n",
       "      <th>vol_2g_mb_8</th>\n",
       "      <th>vol_3g_mb_6</th>\n",
       "      <th>vol_3g_mb_7</th>\n",
       "      <th>vol_3g_mb_8</th>\n",
       "    </tr>\n",
       "  </thead>\n",
       "  <tbody>\n",
       "    <tr>\n",
       "      <th>Churned</th>\n",
       "      <td>59.274616</td>\n",
       "      <td>47.704295</td>\n",
       "      <td>14.886716</td>\n",
       "      <td>184.455866</td>\n",
       "      <td>154.672840</td>\n",
       "      <td>55.426877</td>\n",
       "    </tr>\n",
       "    <tr>\n",
       "      <th>Non Churned</th>\n",
       "      <td>80.779398</td>\n",
       "      <td>81.158898</td>\n",
       "      <td>74.535804</td>\n",
       "      <td>265.642715</td>\n",
       "      <td>290.196039</td>\n",
       "      <td>290.891215</td>\n",
       "    </tr>\n",
       "  </tbody>\n",
       "</table>\n",
       "</div>"
      ],
      "text/plain": [
       "             vol_2g_mb_6  vol_2g_mb_7  vol_2g_mb_8  vol_3g_mb_6  vol_3g_mb_7  \\\n",
       "Churned        59.274616    47.704295    14.886716   184.455866   154.672840   \n",
       "Non Churned    80.779398    81.158898    74.535804   265.642715   290.196039   \n",
       "\n",
       "             vol_3g_mb_8  \n",
       "Churned        55.426877  \n",
       "Non Churned   290.891215  "
      ]
     },
     "execution_count": 214,
     "metadata": {},
     "output_type": "execute_result"
    }
   ],
   "source": [
    "# let's check the mean variation in volume of 2G/3G usage for churned and non churned customers\n",
    "pd.DataFrame([dfChurn.loc[dfChurn.churn==1,volume_of_usage_3g_and_2g].mean()\n",
    "              ,dfChurn.loc[dfChurn.churn==0,volume_of_usage_3g_and_2g].mean()],index={'Non Churned','Churned'})"
   ]
  },
  {
   "cell_type": "markdown",
   "metadata": {},
   "source": [
    "We have two observations from above:\n",
    "* the 2G and 3G usage for churned customers drops in 8th month \n",
    "* we also see that average 3G usage is higher for non-churned customers indicating that churned customers might be from areas where 3G service is not properly available."
   ]
  },
  {
   "cell_type": "code",
   "execution_count": 215,
   "metadata": {},
   "outputs": [],
   "source": [
    "# Let us define two new derived columns\n",
    "# 2G volume usage for good phase: vol_2g_mb_good_ph\n",
    "# 3G volume usage for good phase: vol_3g_mb_good_ph\n",
    "dfChurn['vol_2g_mb_good_ph'] = (dfChurn.vol_2g_mb_6 + dfChurn.vol_2g_mb_7)/2\n",
    "dfChurn['vol_3g_mb_good_ph'] = (dfChurn.vol_3g_mb_6 + dfChurn.vol_3g_mb_7)/2\n",
    "\n",
    "# let' define two new derived columns\n",
    "# 2G volume usage ratio for action month (8th month):vol_2g_mb_ratio\n",
    "# 3G volume usage ratio for action month (8th month):vol_3g_mb_ratio\n",
    "dfChurn['vol_2g_mb_ratio'] = dfChurn.vol_2g_mb_8/dfChurn.vol_2g_mb_good_ph\n",
    "dfChurn['vol_3g_mb_ratio'] = dfChurn.vol_3g_mb_8/dfChurn.vol_3g_mb_good_ph\n",
    "\n",
    "\n",
    "# drop the original columns as these are not longer required\n",
    "# dfChurn.drop(['vol_2g_mb_6','vol_2g_mb_7'\n",
    "#               ,'vol_3g_mb_6','vol_3g_mb_7','vol_2g_mb_8','vol_3g_mb_8'],axis=1,inplace=True)\n",
    "\n",
    "\n",
    "dfChurn.drop(['vol_2g_mb_6','vol_2g_mb_7'\n",
    "              ,'vol_3g_mb_6','vol_3g_mb_7'],axis=1,inplace=True)"
   ]
  },
  {
   "cell_type": "code",
   "execution_count": 216,
   "metadata": {},
   "outputs": [],
   "source": [
    "# let's check monthly 2G/3G service schemes\n",
    "monthly_2g_3g = dfChurn.columns[dfChurn.columns.str.contains('monthly_2g|monthly_3g',regex=True)]"
   ]
  },
  {
   "cell_type": "code",
   "execution_count": 217,
   "metadata": {},
   "outputs": [
    {
     "data": {
      "text/html": [
       "<div>\n",
       "<style>\n",
       "    .dataframe thead tr:only-child th {\n",
       "        text-align: right;\n",
       "    }\n",
       "\n",
       "    .dataframe thead th {\n",
       "        text-align: left;\n",
       "    }\n",
       "\n",
       "    .dataframe tbody tr th {\n",
       "        vertical-align: top;\n",
       "    }\n",
       "</style>\n",
       "<table border=\"1\" class=\"dataframe\">\n",
       "  <thead>\n",
       "    <tr style=\"text-align: right;\">\n",
       "      <th></th>\n",
       "      <th>monthly_2g_6</th>\n",
       "      <th>monthly_2g_7</th>\n",
       "      <th>monthly_2g_8</th>\n",
       "      <th>monthly_3g_6</th>\n",
       "      <th>monthly_3g_7</th>\n",
       "      <th>monthly_3g_8</th>\n",
       "    </tr>\n",
       "  </thead>\n",
       "  <tbody>\n",
       "    <tr>\n",
       "      <th>Churned</th>\n",
       "      <td>0.059328</td>\n",
       "      <td>0.048507</td>\n",
       "      <td>0.015299</td>\n",
       "      <td>0.131343</td>\n",
       "      <td>0.099254</td>\n",
       "      <td>0.033209</td>\n",
       "    </tr>\n",
       "    <tr>\n",
       "      <th>Non Churned</th>\n",
       "      <td>0.131279</td>\n",
       "      <td>0.139475</td>\n",
       "      <td>0.123742</td>\n",
       "      <td>0.178076</td>\n",
       "      <td>0.193553</td>\n",
       "      <td>0.186931</td>\n",
       "    </tr>\n",
       "  </tbody>\n",
       "</table>\n",
       "</div>"
      ],
      "text/plain": [
       "             monthly_2g_6  monthly_2g_7  monthly_2g_8  monthly_3g_6  \\\n",
       "Churned          0.059328      0.048507      0.015299      0.131343   \n",
       "Non Churned      0.131279      0.139475      0.123742      0.178076   \n",
       "\n",
       "             monthly_3g_7  monthly_3g_8  \n",
       "Churned          0.099254      0.033209  \n",
       "Non Churned      0.193553      0.186931  "
      ]
     },
     "execution_count": 217,
     "metadata": {},
     "output_type": "execute_result"
    }
   ],
   "source": [
    "# let's check the mean variation in monthly schemes of 2G/3G usage for churned and non churned customers\n",
    "pd.DataFrame([dfChurn.loc[dfChurn.churn==1,monthly_2g_3g].mean()\n",
    "              ,dfChurn.loc[dfChurn.churn==0,monthly_2g_3g].mean()],index={'Non Churned','Churned'})"
   ]
  },
  {
   "cell_type": "markdown",
   "metadata": {},
   "source": [
    "Again we see a drop in monthly subscription for churned customers in action month (8th month) as compared ot non churned customers."
   ]
  },
  {
   "cell_type": "code",
   "execution_count": 218,
   "metadata": {},
   "outputs": [],
   "source": [
    "# Let us define two new derived columns\n",
    "# 2G monthly for good phase: monthly_2g_good_ph\n",
    "# 3G monthly for good phase: monthly_3g_good_ph\n",
    "dfChurn['monthly_2g_good_ph'] = (dfChurn.monthly_2g_6 + dfChurn.monthly_2g_7)/2\n",
    "dfChurn['monthly_3g_good_ph'] = (dfChurn.monthly_3g_6 + dfChurn.monthly_3g_7)/2\n",
    "\n",
    "# let's define two new derived columns\n",
    "# 2G monthly ratio for action month (8th month):monthly_2g_ratio\n",
    "# 3G monthly ratio for action month (8th month):monthly_3g_ratio\n",
    "dfChurn['monthly_2g_ratio'] = dfChurn.monthly_2g_8/dfChurn.monthly_2g_good_ph\n",
    "dfChurn['monthly_3g_ratio'] = dfChurn.monthly_3g_8/dfChurn.monthly_3g_good_ph\n",
    "\n",
    "# drop the original columns as these are not longer required\n",
    "# dfChurn.drop(['monthly_2g_6','monthly_2g_7'\n",
    "#               ,'monthly_3g_6','monthly_3g_7','monthly_2g_8','monthly_3g_8'],axis=1,inplace=True)\n",
    "\n",
    "dfChurn.drop(['monthly_2g_6','monthly_2g_7'\n",
    "              ,'monthly_3g_6','monthly_3g_7'],axis=1,inplace=True)"
   ]
  },
  {
   "cell_type": "markdown",
   "metadata": {},
   "source": [
    "#### volume based cost"
   ]
  },
  {
   "cell_type": "code",
   "execution_count": 219,
   "metadata": {},
   "outputs": [],
   "source": [
    "# let us rename month named vbc columns to 6,7,8,9 format\n",
    "dfChurn.rename(columns={'jun_vbc_3g':'6_vbc_3g','jul_vbc_3g':'7_vbc_3g','aug_vbc_3g':'8_vbc_3g'\n",
    "                         ,'sep_vbc_3g':'9_vbc_3g'}, inplace=True)\n",
    "\n",
    "# drop 9th month column as it is not needed\n",
    "dfChurn.drop('9_vbc_3g',axis=1,inplace=True)"
   ]
  },
  {
   "cell_type": "code",
   "execution_count": 220,
   "metadata": {},
   "outputs": [
    {
     "data": {
      "text/html": [
       "<div>\n",
       "<style>\n",
       "    .dataframe thead tr:only-child th {\n",
       "        text-align: right;\n",
       "    }\n",
       "\n",
       "    .dataframe thead th {\n",
       "        text-align: left;\n",
       "    }\n",
       "\n",
       "    .dataframe tbody tr th {\n",
       "        vertical-align: top;\n",
       "    }\n",
       "</style>\n",
       "<table border=\"1\" class=\"dataframe\">\n",
       "  <thead>\n",
       "    <tr style=\"text-align: right;\">\n",
       "      <th></th>\n",
       "      <th>8_vbc_3g</th>\n",
       "      <th>7_vbc_3g</th>\n",
       "      <th>6_vbc_3g</th>\n",
       "    </tr>\n",
       "  </thead>\n",
       "  <tbody>\n",
       "    <tr>\n",
       "      <th>Churned</th>\n",
       "      <td>32.117082</td>\n",
       "      <td>70.282698</td>\n",
       "      <td>80.198026</td>\n",
       "    </tr>\n",
       "    <tr>\n",
       "      <th>Non Churned</th>\n",
       "      <td>138.982798</td>\n",
       "      <td>141.485560</td>\n",
       "      <td>125.396828</td>\n",
       "    </tr>\n",
       "  </tbody>\n",
       "</table>\n",
       "</div>"
      ],
      "text/plain": [
       "               8_vbc_3g    7_vbc_3g    6_vbc_3g\n",
       "Churned       32.117082   70.282698   80.198026\n",
       "Non Churned  138.982798  141.485560  125.396828"
      ]
     },
     "execution_count": 220,
     "metadata": {},
     "output_type": "execute_result"
    }
   ],
   "source": [
    "# let's check the volumne based cost for 3G\n",
    "volumn_based_cost_3g = dfChurn.columns[dfChurn.columns.str.contains('vbc_3g')]\n",
    "\n",
    "pd.DataFrame([dfChurn.loc[dfChurn.churn==1,volumn_based_cost_3g].mean()\n",
    "              ,dfChurn.loc[dfChurn.churn==0,volumn_based_cost_3g].mean()],index={'Non Churned','Churned'})"
   ]
  },
  {
   "cell_type": "markdown",
   "metadata": {},
   "source": [
    "We can clearly see that volumne based cost for 3G is much lower higher for Churned customers as compared to Non-Churned Customers and laso there is a drop in vbc in 8th month."
   ]
  },
  {
   "cell_type": "code",
   "execution_count": 221,
   "metadata": {},
   "outputs": [],
   "source": [
    "# Let us define new derived columns\n",
    "# 3g volume based cost for good phase: vbc_3g_good_ph\n",
    "dfChurn['vbc_3g_good_ph'] = (dfChurn['6_vbc_3g'] + dfChurn['7_vbc_3g'])/2\n",
    "\n",
    "# define new column for vbc ratio in action month: vbc_3g_ratio\n",
    "dfChurn['vbc_3g_ratio'] = dfChurn['8_vbc_3g']/dfChurn['vbc_3g_good_ph'] \n",
    "\n",
    "# drop the original columns as these are not longer required\n",
    "# dfChurn.drop(['6_vbc_3g','7_vbc_3g','8_vbc_3g'],axis=1,inplace=True)\n",
    "\n",
    "dfChurn.drop(['6_vbc_3g','7_vbc_3g'],axis=1,inplace=True)"
   ]
  },
  {
   "cell_type": "markdown",
   "metadata": {},
   "source": [
    "#### sachet subscription"
   ]
  },
  {
   "cell_type": "code",
   "execution_count": 222,
   "metadata": {},
   "outputs": [
    {
     "data": {
      "text/html": [
       "<div>\n",
       "<style>\n",
       "    .dataframe thead tr:only-child th {\n",
       "        text-align: right;\n",
       "    }\n",
       "\n",
       "    .dataframe thead th {\n",
       "        text-align: left;\n",
       "    }\n",
       "\n",
       "    .dataframe tbody tr th {\n",
       "        vertical-align: top;\n",
       "    }\n",
       "</style>\n",
       "<table border=\"1\" class=\"dataframe\">\n",
       "  <thead>\n",
       "    <tr style=\"text-align: right;\">\n",
       "      <th></th>\n",
       "      <th>sachet_2g_6</th>\n",
       "      <th>sachet_2g_7</th>\n",
       "      <th>sachet_2g_8</th>\n",
       "      <th>sachet_3g_6</th>\n",
       "      <th>sachet_3g_7</th>\n",
       "      <th>sachet_3g_8</th>\n",
       "    </tr>\n",
       "  </thead>\n",
       "  <tbody>\n",
       "    <tr>\n",
       "      <th>Churned</th>\n",
       "      <td>0.433582</td>\n",
       "      <td>0.415672</td>\n",
       "      <td>0.188060</td>\n",
       "      <td>0.130970</td>\n",
       "      <td>0.143284</td>\n",
       "      <td>0.042910</td>\n",
       "    </tr>\n",
       "    <tr>\n",
       "      <th>Non Churned</th>\n",
       "      <td>0.506934</td>\n",
       "      <td>0.604003</td>\n",
       "      <td>0.648751</td>\n",
       "      <td>0.138597</td>\n",
       "      <td>0.150891</td>\n",
       "      <td>0.149976</td>\n",
       "    </tr>\n",
       "  </tbody>\n",
       "</table>\n",
       "</div>"
      ],
      "text/plain": [
       "             sachet_2g_6  sachet_2g_7  sachet_2g_8  sachet_3g_6  sachet_3g_7  \\\n",
       "Churned         0.433582     0.415672     0.188060     0.130970     0.143284   \n",
       "Non Churned     0.506934     0.604003     0.648751     0.138597     0.150891   \n",
       "\n",
       "             sachet_3g_8  \n",
       "Churned         0.042910  \n",
       "Non Churned     0.149976  "
      ]
     },
     "execution_count": 222,
     "metadata": {},
     "output_type": "execute_result"
    }
   ],
   "source": [
    "# let's check sachet subscription for 2G/3G\n",
    "sachet_2g_or_3g = dfChurn.columns[dfChurn.columns.str.contains('sachet_2g|sachet_3g',regex=True)]\n",
    "\n",
    "pd.DataFrame([dfChurn.loc[dfChurn.churn==1,sachet_2g_or_3g].mean()\n",
    "              ,dfChurn.loc[dfChurn.churn==0,sachet_2g_or_3g].mean()],index={'Non Churned','Churned'})"
   ]
  },
  {
   "cell_type": "markdown",
   "metadata": {},
   "source": [
    "There is a steep drop in sachet services in 8th month for churned cutsomers as compared to non churned customers"
   ]
  },
  {
   "cell_type": "code",
   "execution_count": 223,
   "metadata": {},
   "outputs": [],
   "source": [
    "# Let us define two new derived columns\n",
    "# 2G sachet for good phase: sachet_2g_good_ph\n",
    "# 3G sachet for good phase: sachet_3g_good_ph\n",
    "dfChurn['sachet_2g_good_ph'] = (dfChurn.sachet_2g_6 + dfChurn.sachet_2g_7)/2\n",
    "dfChurn['sachet_3g_good_ph'] = (dfChurn.sachet_3g_6 + dfChurn.sachet_3g_7)/2\n",
    "\n",
    "# Let us define two new derived columns\n",
    "# 2G sachet ratio for action month: sachet_2g_ratio\n",
    "# 3G sachet ratio for action month: sachet_3g_ratio\n",
    "dfChurn['sachet_2g_ratio'] = dfChurn.sachet_2g_8/dfChurn.sachet_2g_good_ph\n",
    "dfChurn['sachet_3g_ratio'] = dfChurn.sachet_3g_8/dfChurn.sachet_3g_good_ph\n",
    "\n",
    "# drop the original columns as these are not longer required\n",
    "# dfChurn.drop(['sachet_2g_6','sachet_2g_7'\n",
    "#               ,'sachet_3g_6','sachet_3g_7','sachet_2g_8','sachet_3g_8'],axis=1,inplace=True)\n",
    "\n",
    "dfChurn.drop(['sachet_2g_6','sachet_2g_7'\n",
    "              ,'sachet_3g_6','sachet_3g_7','sachet_2g_8','sachet_3g_8'],axis=1,inplace=True)"
   ]
  },
  {
   "cell_type": "markdown",
   "metadata": {},
   "source": [
    "#### Age on network"
   ]
  },
  {
   "cell_type": "code",
   "execution_count": 404,
   "metadata": {},
   "outputs": [
    {
     "name": "stdout",
     "output_type": "stream",
     "text": [
      "869.2364057076745\n",
      "1301.4048435334453\n"
     ]
    }
   ],
   "source": [
    "# let's check the age on n/w for churned and non churned customers\n",
    "print(dfChurn.loc[dfChurn.churn==1,'aon'].mean())\n",
    "print(dfChurn.loc[dfChurn.churn==0,'aon'].mean())"
   ]
  },
  {
   "cell_type": "code",
   "execution_count": 200,
   "metadata": {},
   "outputs": [
    {
     "data": {
      "text/plain": [
       "<matplotlib.axes._subplots.AxesSubplot at 0x26999cc0>"
      ]
     },
     "execution_count": 200,
     "metadata": {},
     "output_type": "execute_result"
    },
    {
     "data": {
      "image/png": "[encoded data removed]",
      "text/plain": [
       "<matplotlib.figure.Figure at 0x25e0a630>"
      ]
     },
     "metadata": {},
     "output_type": "display_data"
    }
   ],
   "source": [
    "# let's check the age distribution for non churned customers\n",
    "dfChurn.loc[dfChurn.churn==0,'aon'].plot.hist()"
   ]
  },
  {
   "cell_type": "code",
   "execution_count": 201,
   "metadata": {},
   "outputs": [
    {
     "data": {
      "text/plain": [
       "<matplotlib.axes._subplots.AxesSubplot at 0x270612e8>"
      ]
     },
     "execution_count": 201,
     "metadata": {},
     "output_type": "execute_result"
    },
    {
     "data": {
      "image/png": "[encoded data removed]",
      "text/plain": [
       "<matplotlib.figure.Figure at 0x267ba978>"
      ]
     },
     "metadata": {},
     "output_type": "display_data"
    }
   ],
   "source": [
    "# let's check the age distribution for churned customers\n",
    "dfChurn.loc[dfChurn.churn==1,'aon'].plot.hist()"
   ]
  },
  {
   "cell_type": "markdown",
   "metadata": {},
   "source": [
    "We see from above that most of the churn cases are happening before age 1500 days."
   ]
  },
  {
   "cell_type": "code",
   "execution_count": 224,
   "metadata": {},
   "outputs": [],
   "source": [
    "# let's check the circle id values\n",
    "dfChurn.circle_id.unique()\n",
    "\n",
    "# let's drop this column as there is only one circle id\n",
    "dfChurn.drop('circle_id',inplace=True,axis=1)"
   ]
  },
  {
   "cell_type": "markdown",
   "metadata": {},
   "source": [
    "#### date related variables"
   ]
  },
  {
   "cell_type": "code",
   "execution_count": 228,
   "metadata": {},
   "outputs": [],
   "source": [
    "# extract the date columns\n",
    "date_columns = dfChurn.columns[dfChurn.columns.str.contains('date')]\n",
    "\n",
    "# convert to datetime\n",
    "for date_col in list(date_columns):\n",
    "    dfChurn[date_col]= pd.to_datetime(dfChurn[date_col])"
   ]
  },
  {
   "cell_type": "code",
   "execution_count": null,
   "metadata": {},
   "outputs": [],
   "source": [
    "print(dfChurn.last_date_of_month_6.dt.day.unique(),dfChurn.last_date_of_month_7.dt.day.unique()\n",
    "      ,dfChurn.last_date_of_month_8.dt.day.unique())\n",
    "\n",
    "# as only 1 unique value last day of month is present these columns are not adding much information\n",
    "# let us drop the columns\n",
    "dfChurn.drop(['last_date_of_month_6','last_date_of_month_7','last_date_of_month_8'],axis=1,inplace=True)"
   ]
  },
  {
   "cell_type": "code",
   "execution_count": 229,
   "metadata": {},
   "outputs": [
    {
     "data": {
      "text/html": [
       "<div>\n",
       "<style>\n",
       "    .dataframe thead tr:only-child th {\n",
       "        text-align: right;\n",
       "    }\n",
       "\n",
       "    .dataframe thead th {\n",
       "        text-align: left;\n",
       "    }\n",
       "\n",
       "    .dataframe tbody tr th {\n",
       "        vertical-align: top;\n",
       "    }\n",
       "</style>\n",
       "<table border=\"1\" class=\"dataframe\">\n",
       "  <thead>\n",
       "    <tr style=\"text-align: right;\">\n",
       "      <th></th>\n",
       "      <th>day_of_last_rech_6</th>\n",
       "      <th>day_of_last_rech_7</th>\n",
       "      <th>day_of_last_rech_8</th>\n",
       "    </tr>\n",
       "  </thead>\n",
       "  <tbody>\n",
       "    <tr>\n",
       "      <th>Churned</th>\n",
       "      <td>29.0</td>\n",
       "      <td>28.0</td>\n",
       "      <td>26.0</td>\n",
       "    </tr>\n",
       "    <tr>\n",
       "      <th>Non Churned</th>\n",
       "      <td>28.0</td>\n",
       "      <td>29.0</td>\n",
       "      <td>29.0</td>\n",
       "    </tr>\n",
       "  </tbody>\n",
       "</table>\n",
       "</div>"
      ],
      "text/plain": [
       "             day_of_last_rech_6  day_of_last_rech_7  day_of_last_rech_8\n",
       "Churned                    29.0                28.0                26.0\n",
       "Non Churned                28.0                29.0                29.0"
      ]
     },
     "execution_count": 229,
     "metadata": {},
     "output_type": "execute_result"
    }
   ],
   "source": [
    "# let's extract the day of last recharge\n",
    "dfChurn['day_of_last_rech_6'] =  dfChurn.date_of_last_rech_6.dt.day\n",
    "dfChurn['day_of_last_rech_7'] =  dfChurn.date_of_last_rech_7.dt.day\n",
    "dfChurn['day_of_last_rech_8'] =  dfChurn.date_of_last_rech_8.dt.day\n",
    "\n",
    "dt_of_last_rech_cols = ['day_of_last_rech_6','day_of_last_rech_7','day_of_last_rech_8']\n",
    "\n",
    "pd.DataFrame([dfChurn.loc[dfChurn.churn==1,dt_of_last_rech_cols].median()\n",
    "              ,dfChurn.loc[dfChurn.churn==0,dt_of_last_rech_cols].median()],index={'Non Churned','Churned'})"
   ]
  },
  {
   "cell_type": "markdown",
   "metadata": {},
   "source": [
    "We can see that the median value for last recharge is bit lower for churned customers"
   ]
  },
  {
   "cell_type": "code",
   "execution_count": 230,
   "metadata": {},
   "outputs": [],
   "source": [
    "# let's define a new derived column indicating the shift in day of last recharge\n",
    "\n",
    "dfChurn['day_of_last_rech_shift'] = dfChurn.day_of_last_rech_8 -(dfChurn.day_of_last_rech_6+dfChurn.day_of_last_rech_7)/2"
   ]
  },
  {
   "cell_type": "code",
   "execution_count": 231,
   "metadata": {},
   "outputs": [
    {
     "data": {
      "text/html": [
       "<div>\n",
       "<style>\n",
       "    .dataframe thead tr:only-child th {\n",
       "        text-align: right;\n",
       "    }\n",
       "\n",
       "    .dataframe thead th {\n",
       "        text-align: left;\n",
       "    }\n",
       "\n",
       "    .dataframe tbody tr th {\n",
       "        vertical-align: top;\n",
       "    }\n",
       "</style>\n",
       "<table border=\"1\" class=\"dataframe\">\n",
       "  <thead>\n",
       "    <tr style=\"text-align: right;\">\n",
       "      <th></th>\n",
       "      <th>day_of_last_rech_shift</th>\n",
       "    </tr>\n",
       "  </thead>\n",
       "  <tbody>\n",
       "    <tr>\n",
       "      <th>Churned</th>\n",
       "      <td>-2.0</td>\n",
       "    </tr>\n",
       "    <tr>\n",
       "      <th>Non Churned</th>\n",
       "      <td>0.5</td>\n",
       "    </tr>\n",
       "  </tbody>\n",
       "</table>\n",
       "</div>"
      ],
      "text/plain": [
       "             day_of_last_rech_shift\n",
       "Churned                        -2.0\n",
       "Non Churned                     0.5"
      ]
     },
     "execution_count": 231,
     "metadata": {},
     "output_type": "execute_result"
    }
   ],
   "source": [
    "# let's check how the shift indicates pattern for Churned and non churn customers\n",
    "pd.DataFrame([dfChurn.loc[dfChurn.churn==1,['day_of_last_rech_shift']].median()\n",
    "              ,dfChurn.loc[dfChurn.churn==0,['day_of_last_rech_shift']].median()],index={'Non Churned','Churned'})"
   ]
  },
  {
   "cell_type": "markdown",
   "metadata": {},
   "source": [
    "We can clearly see that a large negative shift is highly indicative of churn"
   ]
  },
  {
   "cell_type": "code",
   "execution_count": 232,
   "metadata": {},
   "outputs": [],
   "source": [
    "# let's delete the other colummns derived as are no longer required\n",
    "dfChurn.drop(['day_of_last_rech_6','day_of_last_rech_7','day_of_last_rech_8'],axis=1,inplace=True)"
   ]
  },
  {
   "cell_type": "code",
   "execution_count": 233,
   "metadata": {},
   "outputs": [
    {
     "data": {
      "text/html": [
       "<div>\n",
       "<style>\n",
       "    .dataframe thead tr:only-child th {\n",
       "        text-align: right;\n",
       "    }\n",
       "\n",
       "    .dataframe thead th {\n",
       "        text-align: left;\n",
       "    }\n",
       "\n",
       "    .dataframe tbody tr th {\n",
       "        vertical-align: top;\n",
       "    }\n",
       "</style>\n",
       "<table border=\"1\" class=\"dataframe\">\n",
       "  <thead>\n",
       "    <tr style=\"text-align: right;\">\n",
       "      <th></th>\n",
       "      <th>day_of_last_rech_data_6</th>\n",
       "      <th>day_of_last_rech_data_7</th>\n",
       "      <th>day_of_last_rech_data_8</th>\n",
       "    </tr>\n",
       "  </thead>\n",
       "  <tbody>\n",
       "    <tr>\n",
       "      <th>Churned</th>\n",
       "      <td>21.0</td>\n",
       "      <td>20.0</td>\n",
       "      <td>15.5</td>\n",
       "    </tr>\n",
       "    <tr>\n",
       "      <th>Non Churned</th>\n",
       "      <td>21.0</td>\n",
       "      <td>23.0</td>\n",
       "      <td>22.0</td>\n",
       "    </tr>\n",
       "  </tbody>\n",
       "</table>\n",
       "</div>"
      ],
      "text/plain": [
       "             day_of_last_rech_data_6  day_of_last_rech_data_7  \\\n",
       "Churned                         21.0                     20.0   \n",
       "Non Churned                     21.0                     23.0   \n",
       "\n",
       "             day_of_last_rech_data_8  \n",
       "Churned                         15.5  \n",
       "Non Churned                     22.0  "
      ]
     },
     "execution_count": 233,
     "metadata": {},
     "output_type": "execute_result"
    }
   ],
   "source": [
    "# let's extract the day of last recharge for data\n",
    "dfChurn['day_of_last_rech_data_6'] =  dfChurn.date_of_last_rech_data_6.dt.day\n",
    "dfChurn['day_of_last_rech_data_7'] =  dfChurn.date_of_last_rech_data_7.dt.day\n",
    "dfChurn['day_of_last_rech_data_8'] =  dfChurn.date_of_last_rech_data_8.dt.day\n",
    "\n",
    "dt_of_last_rech_cols = ['day_of_last_rech_data_6','day_of_last_rech_data_7','day_of_last_rech_data_8']\n",
    "\n",
    "pd.DataFrame([dfChurn.loc[dfChurn.churn==1,dt_of_last_rech_cols].median()\n",
    "              ,dfChurn.loc[dfChurn.churn==0,dt_of_last_rech_cols].median()],index={'Non Churned','Churned'})"
   ]
  },
  {
   "cell_type": "code",
   "execution_count": 234,
   "metadata": {},
   "outputs": [],
   "source": [
    "# let's define a new derived column indicating the shift in day of last data recharge\n",
    "\n",
    "dfChurn['day_of_last_rech_data_shift'] = dfChurn.day_of_last_rech_data_8 -(dfChurn.day_of_last_rech_data_6+dfChurn.day_of_last_rech_data_7)/2"
   ]
  },
  {
   "cell_type": "code",
   "execution_count": 235,
   "metadata": {},
   "outputs": [
    {
     "data": {
      "text/html": [
       "<div>\n",
       "<style>\n",
       "    .dataframe thead tr:only-child th {\n",
       "        text-align: right;\n",
       "    }\n",
       "\n",
       "    .dataframe thead th {\n",
       "        text-align: left;\n",
       "    }\n",
       "\n",
       "    .dataframe tbody tr th {\n",
       "        vertical-align: top;\n",
       "    }\n",
       "</style>\n",
       "<table border=\"1\" class=\"dataframe\">\n",
       "  <thead>\n",
       "    <tr style=\"text-align: right;\">\n",
       "      <th></th>\n",
       "      <th>day_of_last_rech_data_shift</th>\n",
       "    </tr>\n",
       "  </thead>\n",
       "  <tbody>\n",
       "    <tr>\n",
       "      <th>Churned</th>\n",
       "      <td>-5.0</td>\n",
       "    </tr>\n",
       "    <tr>\n",
       "      <th>Non Churned</th>\n",
       "      <td>-0.5</td>\n",
       "    </tr>\n",
       "  </tbody>\n",
       "</table>\n",
       "</div>"
      ],
      "text/plain": [
       "             day_of_last_rech_data_shift\n",
       "Churned                             -5.0\n",
       "Non Churned                         -0.5"
      ]
     },
     "execution_count": 235,
     "metadata": {},
     "output_type": "execute_result"
    }
   ],
   "source": [
    "# let's check how the shift indicates pattern for Churned and non churn customers\n",
    "pd.DataFrame([dfChurn.loc[dfChurn.churn==1,['day_of_last_rech_data_shift']].median()\n",
    "              ,dfChurn.loc[dfChurn.churn==0,['day_of_last_rech_data_shift']].median()],index={'Non Churned','Churned'})"
   ]
  },
  {
   "cell_type": "code",
   "execution_count": 236,
   "metadata": {},
   "outputs": [],
   "source": [
    "# let's delete the other colummns derived as are no longer required\n",
    "dfChurn.drop(['day_of_last_rech_data_6','day_of_last_rech_data_7','day_of_last_rech_data_8'],axis=1,inplace=True)"
   ]
  },
  {
   "cell_type": "code",
   "execution_count": 237,
   "metadata": {},
   "outputs": [],
   "source": [
    "# let us drop the date columns as we have derived day of month variables from them\n",
    "dfChurn.drop(['date_of_last_rech_6','date_of_last_rech_7','date_of_last_rech_8'],axis=1,inplace=True)\n",
    "dfChurn.drop(['date_of_last_rech_data_6','date_of_last_rech_data_7','date_of_last_rech_data_8'],axis=1,inplace=True)"
   ]
  },
  {
   "cell_type": "code",
   "execution_count": 96,
   "metadata": {},
   "outputs": [
    {
     "name": "stdout",
     "output_type": "stream",
     "text": [
      "<class 'pandas.core.frame.DataFrame'>\n",
      "Int64Index: 30011 entries, 7 to 99997\n",
      "Columns: 141 entries, mobile_number to day_of_last_rech_data_shift\n",
      "dtypes: float64(135), int64(6)\n",
      "memory usage: 33.8 MB\n"
     ]
    }
   ],
   "source": [
    "dfChurn.info()"
   ]
  },
  {
   "cell_type": "markdown",
   "metadata": {},
   "source": [
    "#### average revenue per user"
   ]
  },
  {
   "cell_type": "code",
   "execution_count": 238,
   "metadata": {},
   "outputs": [
    {
     "data": {
      "text/html": [
       "<div>\n",
       "<style>\n",
       "    .dataframe thead tr:only-child th {\n",
       "        text-align: right;\n",
       "    }\n",
       "\n",
       "    .dataframe thead th {\n",
       "        text-align: left;\n",
       "    }\n",
       "\n",
       "    .dataframe tbody tr th {\n",
       "        vertical-align: top;\n",
       "    }\n",
       "</style>\n",
       "<table border=\"1\" class=\"dataframe\">\n",
       "  <thead>\n",
       "    <tr style=\"text-align: right;\">\n",
       "      <th></th>\n",
       "      <th>arpu_6</th>\n",
       "      <th>arpu_7</th>\n",
       "      <th>arpu_8</th>\n",
       "    </tr>\n",
       "  </thead>\n",
       "  <tbody>\n",
       "    <tr>\n",
       "      <th>Churned</th>\n",
       "      <td>571.6295</td>\n",
       "      <td>464.6875</td>\n",
       "      <td>109.237</td>\n",
       "    </tr>\n",
       "    <tr>\n",
       "      <th>Non Churned</th>\n",
       "      <td>489.2400</td>\n",
       "      <td>496.3560</td>\n",
       "      <td>471.584</td>\n",
       "    </tr>\n",
       "  </tbody>\n",
       "</table>\n",
       "</div>"
      ],
      "text/plain": [
       "               arpu_6    arpu_7   arpu_8\n",
       "Churned      571.6295  464.6875  109.237\n",
       "Non Churned  489.2400  496.3560  471.584"
      ]
     },
     "execution_count": 238,
     "metadata": {},
     "output_type": "execute_result"
    }
   ],
   "source": [
    "# extract columns for average revenue per user\n",
    "arpu_cols = dfChurn.columns[dfChurn.columns.str.contains('arpu_')]\n",
    "\n",
    "# check mean variation across months 6,7 and 8\n",
    "pd.DataFrame([dfChurn.loc[dfChurn.churn==1,arpu_cols].median()\n",
    "              ,dfChurn.loc[dfChurn.churn==0,arpu_cols].median()],index={'Non Churned','Churned'})"
   ]
  },
  {
   "cell_type": "markdown",
   "metadata": {},
   "source": [
    "We can see that arpu also drops signficantly in action phase for churned customers"
   ]
  },
  {
   "cell_type": "code",
   "execution_count": 239,
   "metadata": {},
   "outputs": [],
   "source": [
    "# Let us define new derived columns\n",
    "# arpu for good phase: arpu_good_ph\n",
    "dfChurn['arpu_good_ph'] = (dfChurn.arpu_6 + dfChurn.arpu_7)/2\n",
    "\n",
    "# let's define new derived column\n",
    "# average revenue per user ration for action month: arpu_ratio\n",
    "dfChurn['arpu_ratio'] = dfChurn.arpu_8/dfChurn.arpu_good_ph\n",
    "\n",
    "# drop the original columns as these are not longer required\n",
    "# dfChurn.drop(['arpu_6','arpu_7','arpu_8'],axis=1,inplace=True)\n",
    "\n",
    "\n",
    "dfChurn.drop(['arpu_6','arpu_7'],axis=1,inplace=True)"
   ]
  },
  {
   "cell_type": "markdown",
   "metadata": {},
   "source": [
    "#### Minutes of Usage related variables"
   ]
  },
  {
   "cell_type": "code",
   "execution_count": 240,
   "metadata": {},
   "outputs": [],
   "source": [
    "# let's derive minutes of usage columns\n",
    "mou_cols = dfChurn.columns[dfChurn.columns.str.contains('mou')]"
   ]
  },
  {
   "cell_type": "code",
   "execution_count": 102,
   "metadata": {},
   "outputs": [
    {
     "data": {
      "text/plain": [
       "Index(['loc_og_t2o_mou', 'std_og_t2o_mou', 'loc_ic_t2o_mou', 'onnet_mou_6',\n",
       "       'onnet_mou_7', 'onnet_mou_8', 'offnet_mou_6', 'offnet_mou_7',\n",
       "       'offnet_mou_8', 'roam_ic_mou_6', 'roam_ic_mou_7', 'roam_ic_mou_8',\n",
       "       'roam_og_mou_6', 'roam_og_mou_7', 'roam_og_mou_8', 'loc_og_t2t_mou_6',\n",
       "       'loc_og_t2t_mou_7', 'loc_og_t2t_mou_8', 'loc_og_t2m_mou_6',\n",
       "       'loc_og_t2m_mou_7', 'loc_og_t2m_mou_8', 'loc_og_t2f_mou_6',\n",
       "       'loc_og_t2f_mou_7', 'loc_og_t2f_mou_8', 'loc_og_t2c_mou_6',\n",
       "       'loc_og_t2c_mou_7', 'loc_og_t2c_mou_8', 'loc_og_mou_6', 'loc_og_mou_7',\n",
       "       'loc_og_mou_8', 'std_og_t2t_mou_6', 'std_og_t2t_mou_7',\n",
       "       'std_og_t2t_mou_8', 'std_og_t2m_mou_6', 'std_og_t2m_mou_7',\n",
       "       'std_og_t2m_mou_8', 'std_og_t2f_mou_6', 'std_og_t2f_mou_7',\n",
       "       'std_og_t2f_mou_8', 'std_og_t2c_mou_6', 'std_og_t2c_mou_7',\n",
       "       'std_og_t2c_mou_8', 'std_og_mou_6', 'std_og_mou_7', 'std_og_mou_8',\n",
       "       'isd_og_mou_6', 'isd_og_mou_7', 'isd_og_mou_8', 'spl_og_mou_6',\n",
       "       'spl_og_mou_7', 'spl_og_mou_8', 'total_og_mou_6', 'total_og_mou_7',\n",
       "       'total_og_mou_8', 'loc_ic_t2t_mou_6', 'loc_ic_t2t_mou_7',\n",
       "       'loc_ic_t2t_mou_8', 'loc_ic_t2m_mou_6', 'loc_ic_t2m_mou_7',\n",
       "       'loc_ic_t2m_mou_8', 'loc_ic_t2f_mou_6', 'loc_ic_t2f_mou_7',\n",
       "       'loc_ic_t2f_mou_8', 'loc_ic_mou_6', 'loc_ic_mou_7', 'loc_ic_mou_8',\n",
       "       'std_ic_t2t_mou_6', 'std_ic_t2t_mou_7', 'std_ic_t2t_mou_8',\n",
       "       'std_ic_t2m_mou_6', 'std_ic_t2m_mou_7', 'std_ic_t2m_mou_8',\n",
       "       'std_ic_t2f_mou_6', 'std_ic_t2f_mou_7', 'std_ic_t2f_mou_8',\n",
       "       'std_ic_t2o_mou_6', 'std_ic_t2o_mou_7', 'std_ic_t2o_mou_8',\n",
       "       'std_ic_mou_6', 'std_ic_mou_7', 'std_ic_mou_8', 'total_ic_mou_6',\n",
       "       'total_ic_mou_7', 'total_ic_mou_8', 'spl_ic_mou_6', 'spl_ic_mou_7',\n",
       "       'spl_ic_mou_8', 'isd_ic_mou_6', 'isd_ic_mou_7', 'isd_ic_mou_8'],\n",
       "      dtype='object')"
      ]
     },
     "execution_count": 102,
     "metadata": {},
     "output_type": "execute_result"
    }
   ],
   "source": [
    "mou_cols"
   ]
  },
  {
   "cell_type": "code",
   "execution_count": 241,
   "metadata": {},
   "outputs": [
    {
     "data": {
      "text/plain": [
       "array(['loc_og_t2o_mou', 'std_og_t2o_mou', 'loc_ic_t2o_mou',\n",
       "       'std_og_t2c_mou_6', 'std_og_t2c_mou_7', 'std_og_t2c_mou_8',\n",
       "       'std_ic_t2o_mou_6', 'std_ic_t2o_mou_7', 'std_ic_t2o_mou_8'], dtype=object)"
      ]
     },
     "execution_count": 241,
     "metadata": {},
     "output_type": "execute_result"
    }
   ],
   "source": [
    "# let's check if there are any zero variation columns among these\n",
    "zero_var_cols = dfChurn.loc[:,mou_cols].std()[dfChurn.loc[:,mou_cols].std()==0].index.values\n",
    "\n",
    "zero_var_cols"
   ]
  },
  {
   "cell_type": "code",
   "execution_count": null,
   "metadata": {},
   "outputs": [],
   "source": [
    "# let's drop these columns\n",
    "dfChurn.drop(list(zero_var_cols),axis=1,inplace=True)"
   ]
  },
  {
   "cell_type": "code",
   "execution_count": 245,
   "metadata": {},
   "outputs": [
    {
     "data": {
      "text/plain": [
       "onnet_mou_6         1.052947\n",
       "onnet_mou_7         1.009630\n",
       "onnet_mou_8         3.125521\n",
       "offnet_mou_6        1.052947\n",
       "offnet_mou_7        1.009630\n",
       "offnet_mou_8        3.125521\n",
       "roam_ic_mou_6       1.052947\n",
       "roam_ic_mou_7       1.009630\n",
       "roam_ic_mou_8       3.125521\n",
       "roam_og_mou_6       1.052947\n",
       "roam_og_mou_7       1.009630\n",
       "roam_og_mou_8       3.125521\n",
       "loc_og_t2t_mou_6    1.052947\n",
       "loc_og_t2t_mou_7    1.009630\n",
       "loc_og_t2t_mou_8    3.125521\n",
       "loc_og_t2m_mou_6    1.052947\n",
       "loc_og_t2m_mou_7    1.009630\n",
       "loc_og_t2m_mou_8    3.125521\n",
       "loc_og_t2f_mou_6    1.052947\n",
       "loc_og_t2f_mou_7    1.009630\n",
       "loc_og_t2f_mou_8    3.125521\n",
       "loc_og_t2c_mou_6    1.052947\n",
       "loc_og_t2c_mou_7    1.009630\n",
       "loc_og_t2c_mou_8    3.125521\n",
       "loc_og_mou_6        1.052947\n",
       "loc_og_mou_7        1.009630\n",
       "loc_og_mou_8        3.125521\n",
       "std_og_t2t_mou_6    1.052947\n",
       "std_og_t2t_mou_7    1.009630\n",
       "std_og_t2t_mou_8    3.125521\n",
       "                      ...   \n",
       "loc_ic_t2m_mou_6    1.052947\n",
       "loc_ic_t2m_mou_7    1.009630\n",
       "loc_ic_t2m_mou_8    3.125521\n",
       "loc_ic_t2f_mou_6    1.052947\n",
       "loc_ic_t2f_mou_7    1.009630\n",
       "loc_ic_t2f_mou_8    3.125521\n",
       "loc_ic_mou_6        1.052947\n",
       "loc_ic_mou_7        1.009630\n",
       "loc_ic_mou_8        3.125521\n",
       "std_ic_t2t_mou_6    1.052947\n",
       "std_ic_t2t_mou_7    1.009630\n",
       "std_ic_t2t_mou_8    3.125521\n",
       "std_ic_t2m_mou_6    1.052947\n",
       "std_ic_t2m_mou_7    1.009630\n",
       "std_ic_t2m_mou_8    3.125521\n",
       "std_ic_t2f_mou_6    1.052947\n",
       "std_ic_t2f_mou_7    1.009630\n",
       "std_ic_t2f_mou_8    3.125521\n",
       "std_ic_mou_6        1.052947\n",
       "std_ic_mou_7        1.009630\n",
       "std_ic_mou_8        3.125521\n",
       "total_ic_mou_6      0.000000\n",
       "total_ic_mou_7      0.000000\n",
       "total_ic_mou_8      0.000000\n",
       "spl_ic_mou_6        1.052947\n",
       "spl_ic_mou_7        1.009630\n",
       "spl_ic_mou_8        3.125521\n",
       "isd_ic_mou_6        1.052947\n",
       "isd_ic_mou_7        1.009630\n",
       "isd_ic_mou_8        3.125521\n",
       "Length: 81, dtype: float64"
      ]
     },
     "execution_count": 245,
     "metadata": {},
     "output_type": "execute_result"
    }
   ],
   "source": [
    "# let's check the 5 of null values among mou variables\n",
    "mou_cols = dfChurn.columns[dfChurn.columns.str.contains('mou')]\n",
    "100*dfChurn.loc[:,mou_cols].isnull().sum()/len(dfChurn.loc[:,mou_cols])"
   ]
  },
  {
   "cell_type": "code",
   "execution_count": 246,
   "metadata": {},
   "outputs": [
    {
     "data": {
      "text/plain": [
       "3.1255206424311086"
      ]
     },
     "execution_count": 246,
     "metadata": {},
     "output_type": "execute_result"
    }
   ],
   "source": [
    "# let's check the maximum % of missing value\n",
    "100*dfChurn.loc[:,mou_cols].isnull().sum().max()/len(dfChurn.loc[:,mou_cols])"
   ]
  },
  {
   "cell_type": "markdown",
   "metadata": {},
   "source": [
    "So for all minutes of usage columns the maximu, missing % is 3.12 which seems that in these case the mobile has not been used at all for that particular call type(ic,std etc.), thus it is safe to assume that we can impute the missing values with zero."
   ]
  },
  {
   "cell_type": "code",
   "execution_count": 247,
   "metadata": {},
   "outputs": [
    {
     "data": {
      "text/plain": [
       "0.0"
      ]
     },
     "execution_count": 247,
     "metadata": {},
     "output_type": "execute_result"
    }
   ],
   "source": [
    "# replaceing null values by 0 for minutes of usage variables\n",
    "dfChurn.loc[:,mou_cols] = dfChurn.loc[:,mou_cols].replace(np.NaN,0)\n",
    "\n",
    "100*dfChurn.loc[:,mou_cols].isnull().sum().max()/len(dfChurn.loc[:,mou_cols])"
   ]
  },
  {
   "cell_type": "markdown",
   "metadata": {},
   "source": [
    "Lets now now analyze the sub groups of minutes of usage, following groups are there:\n",
    "* og: outgoing calls\n",
    "* ic: incoming calls\n",
    "* offnet: all kinds of calls outside operator network\n",
    "* onnet: all kinds of call within same operator network\n",
    "\n",
    "Let us start by analyzing minutes for usage variables for month 6"
   ]
  },
  {
   "cell_type": "code",
   "execution_count": 248,
   "metadata": {},
   "outputs": [],
   "source": [
    "# let's collect mou variables for month 6\n",
    "mou_6 = dfChurn.columns[dfChurn.columns.str.contains('mou_6')]"
   ]
  },
  {
   "cell_type": "code",
   "execution_count": 113,
   "metadata": {},
   "outputs": [
    {
     "data": {
      "text/plain": [
       "Index(['onnet_mou_6', 'offnet_mou_6', 'roam_ic_mou_6', 'roam_og_mou_6',\n",
       "       'loc_og_t2t_mou_6', 'loc_og_t2m_mou_6', 'loc_og_t2f_mou_6',\n",
       "       'loc_og_t2c_mou_6', 'loc_og_mou_6', 'std_og_t2t_mou_6',\n",
       "       'std_og_t2m_mou_6', 'std_og_t2f_mou_6', 'std_og_mou_6', 'isd_og_mou_6',\n",
       "       'spl_og_mou_6', 'total_og_mou_6', 'loc_ic_t2t_mou_6',\n",
       "       'loc_ic_t2m_mou_6', 'loc_ic_t2f_mou_6', 'loc_ic_mou_6',\n",
       "       'std_ic_t2t_mou_6', 'std_ic_t2m_mou_6', 'std_ic_t2f_mou_6',\n",
       "       'std_ic_mou_6', 'total_ic_mou_6', 'spl_ic_mou_6', 'isd_ic_mou_6'],\n",
       "      dtype='object')"
      ]
     },
     "execution_count": 113,
     "metadata": {},
     "output_type": "execute_result"
    }
   ],
   "source": [
    "mou_6"
   ]
  },
  {
   "cell_type": "markdown",
   "metadata": {},
   "source": [
    "Let's check the outgoing mou variables."
   ]
  },
  {
   "cell_type": "code",
   "execution_count": 249,
   "metadata": {},
   "outputs": [],
   "source": [
    "mou_og_cols6 = dfChurn.columns[dfChurn.columns.str.contains('.*_og_.*mou_6',regex=True)]"
   ]
  },
  {
   "cell_type": "code",
   "execution_count": 124,
   "metadata": {},
   "outputs": [
    {
     "data": {
      "image/png": "[encoded data removed]",
      "text/plain": [
       "<matplotlib.figure.Figure at 0xbf019e8>"
      ]
     },
     "metadata": {},
     "output_type": "display_data"
    }
   ],
   "source": [
    "#sns.heatmap(dfChurn.loc[:,mou_cols6].corr())\n",
    "\n",
    "# let us create a correlation matrix heatmap among quantitative varibales\n",
    "plt.figure(figsize=(10, 8))\n",
    "sns.heatmap(dfChurn.loc[:,mou_ic_cols6].corr(), cmap=\"YlGnBu\")\n",
    "plt.show()"
   ]
  },
  {
   "cell_type": "markdown",
   "metadata": {},
   "source": [
    "After analyzing the variables, we acertain the following rlationships among variables: \n",
    "\n",
    "* **total_og_mou_6 = loc_og_mou_6+std_og_mou_6+spl_og_mou_6+isd_og_mou_6+ roam_og_mou_6**\n",
    "* **std_og_mou_6 = std_og_t2m_mou_6+std_og_t2t_mou_6+std_og_t2f_mou_6 + std_og_2tc_mou_6**\n",
    "* **loc_og_mou_6 = loc_og_t2m_mou_6+loc_og_t2t_mou_6+loc_og_t2f_mou_6 + loc_og_2tc_mou_6**"
   ]
  },
  {
   "cell_type": "code",
   "execution_count": 142,
   "metadata": {},
   "outputs": [
    {
     "name": "stdout",
     "output_type": "stream",
     "text": [
      "487.53 487.52000000000004\n",
      "60.86 60.849999999999994\n",
      "422.16 422.15\n"
     ]
    }
   ],
   "source": [
    "## fact checking!!\n",
    "print(dfChurn.loc[7,'total_og_mou_6'],dfChurn.loc[7,['loc_og_mou_6','std_og_mou_6','spl_og_mou_6','isd_og_mou_6']].sum())\n",
    "\n",
    "print(dfChurn.loc[7,'std_og_mou_6'],dfChurn.loc[7,['std_og_t2m_mou_6','std_og_t2t_mou_6','std_og_t2f_mou_6','std_og_loc_mou_6']].sum())\n",
    "\n",
    "print(dfChurn.loc[7,'loc_og_mou_6'],dfChurn.loc[7,['loc_og_t2m_mou_6','loc_og_t2t_mou_6','loc_og_t2f_mou_6','loc_og_2tc_mou_6']].sum())"
   ]
  },
  {
   "cell_type": "code",
   "execution_count": 250,
   "metadata": {},
   "outputs": [
    {
     "name": "stdout",
     "output_type": "stream",
     "text": [
      "Index(['loc_og_mou_6', 'loc_og_mou_7', 'loc_og_mou_8', 'std_og_mou_6',\n",
      "       'std_og_mou_7', 'std_og_mou_8', 'total_og_mou_6', 'total_og_mou_7',\n",
      "       'total_og_mou_8'],\n",
      "      dtype='object')\n"
     ]
    }
   ],
   "source": [
    "# As total_og_mou_6, std_og_mou_6 and loc_og_mou_6 already have component variables present in dataset\n",
    "# let's remove these columns for all months from the data set\n",
    "\n",
    "ls_total_og_cols = dfChurn.columns[dfChurn.columns.str.contains('total_og_mou|std_og_mou|loc_og_mou',regex=True)]\n",
    "\n",
    "print(ls_total_og_cols)\n",
    "\n",
    "dfChurn.drop(ls_total_og_cols,axis=1,inplace=True)"
   ]
  },
  {
   "cell_type": "code",
   "execution_count": 251,
   "metadata": {},
   "outputs": [],
   "source": [
    "# let's define good phase derive variables for all og components:\n",
    "dfChurn['spl_og_mou_good_ph'] = (dfChurn.spl_og_mou_6 + dfChurn.spl_og_mou_7)/2\n",
    "dfChurn['isd_og_mou_good_ph'] = (dfChurn.isd_og_mou_6 + dfChurn.isd_og_mou_7)/2\n",
    "dfChurn['roam_og_mou_good_ph'] = (dfChurn.roam_og_mou_6 + dfChurn.roam_og_mou_7)/2\n",
    "dfChurn['std_og_t2m_mou_good_ph'] = (dfChurn.std_og_t2m_mou_6 + dfChurn.std_og_t2m_mou_7)/2\n",
    "dfChurn['std_og_t2t_mou_good_ph'] = (dfChurn.std_og_t2t_mou_6 + dfChurn.std_og_t2t_mou_7)/2\n",
    "dfChurn['std_og_t2f_mou_good_ph'] = (dfChurn.std_og_t2f_mou_6 + dfChurn.std_og_t2f_mou_7)/2\n",
    "\n",
    "dfChurn['loc_og_t2m_mou_good_ph'] = (dfChurn.loc_og_t2m_mou_6 + dfChurn.loc_og_t2m_mou_7)/2\n",
    "dfChurn['loc_og_t2t_mou_good_ph'] = (dfChurn.loc_og_t2t_mou_6 + dfChurn.loc_og_t2t_mou_7)/2\n",
    "dfChurn['loc_og_t2f_mou_good_ph'] = (dfChurn.loc_og_t2f_mou_6 + dfChurn.loc_og_t2f_mou_7)/2\n",
    "\n",
    "\n",
    "# let's define ratio of mou for action month based on previous month's average usage\n",
    "dfChurn['spl_og_mou_ratio'] = dfChurn.spl_og_mou_8/dfChurn.spl_og_mou_good_ph\n",
    "dfChurn['isd_og_mou_ratio'] = dfChurn.isd_og_mou_8/dfChurn.isd_og_mou_good_ph\n",
    "dfChurn['roam_og_mou_ratio'] = dfChurn.roam_og_mou_8/dfChurn.roam_og_mou_good_ph\n",
    "dfChurn['std_og_t2m_mou_ratio'] = dfChurn.std_og_t2m_mou_8/dfChurn.std_og_t2m_mou_good_ph\n",
    "dfChurn['std_og_t2t_mou_ratio'] = dfChurn.std_og_t2t_mou_8/dfChurn.std_og_t2t_mou_good_ph\n",
    "dfChurn['std_og_t2f_mou_ratio'] = dfChurn.std_og_t2f_mou_8/dfChurn.std_og_t2f_mou_good_ph\n",
    "\n",
    "dfChurn['loc_og_t2m_mou_ratio'] = dfChurn.loc_og_t2m_mou_8/dfChurn.loc_og_t2m_mou_good_ph\n",
    "dfChurn['loc_og_t2t_mou_good_ph'] = dfChurn.loc_og_t2t_mou_8/dfChurn.loc_og_t2t_mou_good_ph\n",
    "dfChurn['loc_og_t2f_mou_good_ph'] = dfChurn.loc_og_t2f_mou_8/dfChurn.loc_og_t2f_mou_good_ph"
   ]
  },
  {
   "cell_type": "code",
   "execution_count": 252,
   "metadata": {},
   "outputs": [
    {
     "name": "stdout",
     "output_type": "stream",
     "text": [
      "Index(['roam_og_mou_6', 'roam_og_mou_7', 'roam_og_mou_8', 'loc_og_t2t_mou_6',\n",
      "       'loc_og_t2t_mou_7', 'loc_og_t2t_mou_8', 'loc_og_t2m_mou_6',\n",
      "       'loc_og_t2m_mou_7', 'loc_og_t2m_mou_8', 'loc_og_t2f_mou_6',\n",
      "       'loc_og_t2f_mou_7', 'loc_og_t2f_mou_8', 'loc_og_t2c_mou_6',\n",
      "       'loc_og_t2c_mou_7', 'loc_og_t2c_mou_8', 'std_og_t2t_mou_6',\n",
      "       'std_og_t2t_mou_7', 'std_og_t2t_mou_8', 'std_og_t2m_mou_6',\n",
      "       'std_og_t2m_mou_7', 'std_og_t2m_mou_8', 'std_og_t2f_mou_6',\n",
      "       'std_og_t2f_mou_7', 'std_og_t2f_mou_8', 'isd_og_mou_6', 'isd_og_mou_7',\n",
      "       'isd_og_mou_8', 'spl_og_mou_6', 'spl_og_mou_7', 'spl_og_mou_8'],\n",
      "      dtype='object')\n"
     ]
    }
   ],
   "source": [
    "# drop all the original og mou variables\n",
    "ls_og = dfChurn.columns[dfChurn.columns.str.contains('.*_og_.*mou_6|.*_og_.*mou_7|.*_og_.*mou_8',regex=True)]\n",
    "\n",
    "print(ls_og)\n",
    "\n",
    "dfChurn.drop(ls_og,axis=1,inplace=True)"
   ]
  },
  {
   "cell_type": "markdown",
   "metadata": {},
   "source": [
    "**Let's check for incoming mou variables**"
   ]
  },
  {
   "cell_type": "code",
   "execution_count": 253,
   "metadata": {},
   "outputs": [
    {
     "data": {
      "text/plain": [
       "Index(['roam_ic_mou_6', 'loc_ic_t2t_mou_6', 'loc_ic_t2m_mou_6',\n",
       "       'loc_ic_t2f_mou_6', 'loc_ic_mou_6', 'std_ic_t2t_mou_6',\n",
       "       'std_ic_t2m_mou_6', 'std_ic_t2f_mou_6', 'std_ic_mou_6',\n",
       "       'total_ic_mou_6', 'spl_ic_mou_6', 'isd_ic_mou_6'],\n",
       "      dtype='object')"
      ]
     },
     "execution_count": 253,
     "metadata": {},
     "output_type": "execute_result"
    }
   ],
   "source": [
    "mou_ic_cols6 = dfChurn.columns[dfChurn.columns.str.contains('.*_ic_.*mou_6',regex=True)]\n",
    "\n",
    "mou_ic_cols6"
   ]
  },
  {
   "cell_type": "markdown",
   "metadata": {},
   "source": [
    "As with ic mou variables above, we observe the following relationship among ic (incoming)mou variables:\n",
    "\n",
    "* **total_ic_mou_6 = loc_ic_mou_6 + std_ic_mou_6 + roam_ic_mou_6 + isd_ic_mou_6 + spl_ic_mou_6**\n",
    "* **loc_ic_mou_6 = loc_ic_t2t_mou_6 + loc_ic_t2m_mou_6+loc_ic_t2f_mou_6+loc_ic_t2c_mou_6**\n",
    "* **std_ic_mou_6 = std_ic_t2t_mou_6 + std_ic_t2m_mou_6 + std_ic_t2f_mou_6+std_ic_t2c_mou_6**"
   ]
  },
  {
   "cell_type": "code",
   "execution_count": 141,
   "metadata": {},
   "outputs": [
    {
     "name": "stdout",
     "output_type": "stream",
     "text": [
      "626.46 626.92\n",
      "427.88 427.86\n",
      "180.54 180.51999999999998\n"
     ]
    }
   ],
   "source": [
    "# fact checking!!\n",
    "print(dfChurn.loc[7,'total_ic_mou_6'],dfChurn.loc[7,['loc_ic_mou_6','roam_ic_mou_6','isd_ic_mou_6','spl_ic_mou_6','std_ic_mou_6']].sum())\n",
    "\n",
    "print(dfChurn.loc[7,'loc_ic_mou_6'],dfChurn.loc[7,['loc_ic_t2t_mou_6','loc_ic_t2m_mou_6','loc_ic_t2f_mou_6','loc_ic_t2c_mou_6']].sum())\n",
    "\n",
    "print(dfChurn.loc[7,'std_ic_mou_6'],dfChurn.loc[7,['std_ic_t2t_mou_6','std_ic_t2m_mou_6','std_ic_t2f_mou_6','std_ic_t2c_mou_6']].sum())"
   ]
  },
  {
   "cell_type": "code",
   "execution_count": 254,
   "metadata": {},
   "outputs": [
    {
     "name": "stdout",
     "output_type": "stream",
     "text": [
      "Index(['loc_ic_mou_6', 'loc_ic_mou_7', 'loc_ic_mou_8', 'std_ic_mou_6',\n",
      "       'std_ic_mou_7', 'std_ic_mou_8', 'total_ic_mou_6', 'total_ic_mou_7',\n",
      "       'total_ic_mou_8'],\n",
      "      dtype='object')\n"
     ]
    }
   ],
   "source": [
    "# As total_ic_mou_6, std_ic_mou_6 and loc_ic_mou_6 already have component variables present in dataset\n",
    "# let's remove these columns for all months from the data set\n",
    "\n",
    "ls_total_ic_cols = dfChurn.columns[dfChurn.columns.str.contains('total_ic_mou|std_ic_mou|loc_ic_mou',regex=True)]\n",
    "\n",
    "print(ls_total_ic_cols)\n",
    "\n",
    "dfChurn.drop(ls_total_ic_cols,axis=1,inplace=True)"
   ]
  },
  {
   "cell_type": "code",
   "execution_count": 255,
   "metadata": {},
   "outputs": [],
   "source": [
    "# let's define good phase derive variables for all ic components:\n",
    "dfChurn['spl_ic_mou_good_ph'] = (dfChurn.spl_ic_mou_6 + dfChurn.spl_ic_mou_7)/2\n",
    "dfChurn['isd_ic_mou_good_ph'] = (dfChurn.isd_ic_mou_6 + dfChurn.isd_ic_mou_7)/2\n",
    "dfChurn['roam_ic_mou_good_ph'] = (dfChurn.roam_ic_mou_6 + dfChurn.roam_ic_mou_7)/2\n",
    "dfChurn['std_ic_t2m_mou_good_ph'] = (dfChurn.std_ic_t2m_mou_6 + dfChurn.std_ic_t2m_mou_7)/2\n",
    "dfChurn['std_ic_t2t_mou_good_ph'] = (dfChurn.std_ic_t2t_mou_6 + dfChurn.std_ic_t2t_mou_7)/2\n",
    "dfChurn['std_ic_t2f_mou_good_ph'] = (dfChurn.std_ic_t2f_mou_6 + dfChurn.std_ic_t2f_mou_7)/2\n",
    "\n",
    "dfChurn['loc_ic_t2m_mou_good_ph'] = (dfChurn.loc_ic_t2m_mou_6 + dfChurn.loc_ic_t2m_mou_7)/2\n",
    "dfChurn['loc_ic_t2t_mou_good_ph'] = (dfChurn.loc_ic_t2t_mou_6 + dfChurn.loc_ic_t2t_mou_7)/2\n",
    "dfChurn['loc_ic_t2f_mou_good_ph'] = (dfChurn.loc_ic_t2f_mou_6 + dfChurn.loc_ic_t2f_mou_7)/2\n",
    "\n",
    "\n",
    "# let's define ratio of mou for action month based on previous month's average usage\n",
    "dfChurn['spl_ic_mou_ratio'] = dfChurn.spl_ic_mou_8/dfChurn.spl_ic_mou_good_ph\n",
    "dfChurn['isd_ic_mou_ratio'] = dfChurn.isd_ic_mou_8/dfChurn.isd_ic_mou_good_ph\n",
    "dfChurn['roam_ic_mou_ratio'] = dfChurn.roam_ic_mou_8/dfChurn.roam_ic_mou_good_ph\n",
    "dfChurn['std_ic_t2m_mou_ratio'] = dfChurn.std_ic_t2m_mou_8/dfChurn.std_ic_t2m_mou_good_ph\n",
    "dfChurn['std_ic_t2t_mou_ratio'] = dfChurn.std_ic_t2t_mou_8/dfChurn.std_ic_t2t_mou_good_ph\n",
    "dfChurn['std_ic_t2f_mou_ratio'] = dfChurn.std_ic_t2f_mou_8/dfChurn.std_ic_t2f_mou_good_ph\n",
    "\n",
    "dfChurn['loc_ic_t2m_mou_ratio'] = dfChurn.loc_ic_t2m_mou_8/dfChurn.loc_ic_t2m_mou_good_ph\n",
    "dfChurn['loc_ic_t2t_mou_good_ph'] = dfChurn.loc_ic_t2t_mou_8/dfChurn.loc_ic_t2t_mou_good_ph\n",
    "dfChurn['loc_ic_t2f_mou_good_ph'] = dfChurn.loc_ic_t2f_mou_8/dfChurn.loc_ic_t2f_mou_good_ph"
   ]
  },
  {
   "cell_type": "code",
   "execution_count": 256,
   "metadata": {},
   "outputs": [
    {
     "name": "stdout",
     "output_type": "stream",
     "text": [
      "Index(['roam_ic_mou_6', 'roam_ic_mou_7', 'roam_ic_mou_8', 'loc_ic_t2t_mou_6',\n",
      "       'loc_ic_t2t_mou_7', 'loc_ic_t2t_mou_8', 'loc_ic_t2m_mou_6',\n",
      "       'loc_ic_t2m_mou_7', 'loc_ic_t2m_mou_8', 'loc_ic_t2f_mou_6',\n",
      "       'loc_ic_t2f_mou_7', 'loc_ic_t2f_mou_8', 'std_ic_t2t_mou_6',\n",
      "       'std_ic_t2t_mou_7', 'std_ic_t2t_mou_8', 'std_ic_t2m_mou_6',\n",
      "       'std_ic_t2m_mou_7', 'std_ic_t2m_mou_8', 'std_ic_t2f_mou_6',\n",
      "       'std_ic_t2f_mou_7', 'std_ic_t2f_mou_8', 'spl_ic_mou_6', 'spl_ic_mou_7',\n",
      "       'spl_ic_mou_8', 'isd_ic_mou_6', 'isd_ic_mou_7', 'isd_ic_mou_8'],\n",
      "      dtype='object')\n"
     ]
    }
   ],
   "source": [
    "# drop all the original og mou variables\n",
    "ls_ic = dfChurn.columns[dfChurn.columns.str.contains('.*_ic_.*mou_6|.*_ic_.*mou_7|.*_ic_.*mou_8',regex=True)]\n",
    "\n",
    "print(ls_ic)\n",
    "\n",
    "dfChurn.drop(ls_ic,axis=1,inplace=True)"
   ]
  },
  {
   "cell_type": "markdown",
   "metadata": {},
   "source": [
    "**offnet usage**"
   ]
  },
  {
   "cell_type": "code",
   "execution_count": 257,
   "metadata": {},
   "outputs": [],
   "source": [
    " offnet_cols = dfChurn.columns[dfChurn.columns.str.contains('offnet',regex=True)]"
   ]
  },
  {
   "cell_type": "code",
   "execution_count": 258,
   "metadata": {},
   "outputs": [
    {
     "data": {
      "text/html": [
       "<div>\n",
       "<style>\n",
       "    .dataframe thead tr:only-child th {\n",
       "        text-align: right;\n",
       "    }\n",
       "\n",
       "    .dataframe thead th {\n",
       "        text-align: left;\n",
       "    }\n",
       "\n",
       "    .dataframe tbody tr th {\n",
       "        vertical-align: top;\n",
       "    }\n",
       "</style>\n",
       "<table border=\"1\" class=\"dataframe\">\n",
       "  <thead>\n",
       "    <tr style=\"text-align: right;\">\n",
       "      <th></th>\n",
       "      <th>offnet_mou_6</th>\n",
       "      <th>offnet_mou_7</th>\n",
       "      <th>offnet_mou_8</th>\n",
       "    </tr>\n",
       "  </thead>\n",
       "  <tbody>\n",
       "    <tr>\n",
       "      <th>Churned</th>\n",
       "      <td>509.885250</td>\n",
       "      <td>411.075220</td>\n",
       "      <td>154.831549</td>\n",
       "    </tr>\n",
       "    <tr>\n",
       "      <th>Non Churned</th>\n",
       "      <td>408.916833</td>\n",
       "      <td>425.184327</td>\n",
       "      <td>396.612909</td>\n",
       "    </tr>\n",
       "  </tbody>\n",
       "</table>\n",
       "</div>"
      ],
      "text/plain": [
       "             offnet_mou_6  offnet_mou_7  offnet_mou_8\n",
       "Churned        509.885250    411.075220    154.831549\n",
       "Non Churned    408.916833    425.184327    396.612909"
      ]
     },
     "execution_count": 258,
     "metadata": {},
     "output_type": "execute_result"
    }
   ],
   "source": [
    "# let's check the mean variation in values for churned and non churned customers\n",
    "pd.DataFrame([dfChurn.loc[dfChurn.churn==1,offnet_cols].mean()\n",
    "              ,dfChurn.loc[dfChurn.churn==0,offnet_cols].mean()],index={'Non Churned','Churned'})"
   ]
  },
  {
   "cell_type": "markdown",
   "metadata": {},
   "source": [
    "there is a substantial decrease in offnet mou."
   ]
  },
  {
   "cell_type": "code",
   "execution_count": 259,
   "metadata": {},
   "outputs": [],
   "source": [
    "# Let us define new derived column\n",
    "# minutes of usage for good phase: onnet_mou_good_ph\n",
    "dfChurn['offnet_mou_good_ph'] = (dfChurn.offnet_mou_6 + dfChurn.offnet_mou_7)/2\n",
    "\n",
    "# create a new derive column for:\n",
    "# ratio of offnet calls mou for action month wrt to previous months average\n",
    "dfChurn['offnet_mou_ratio'] = dfChurn.offnet_mou_8/dfChurn.offnet_mou_good_ph\n",
    "\n",
    "# drop the original columns as these are not longer required\n",
    "dfChurn.drop(['offnet_mou_6','offnet_mou_7','offnet_mou_8'],axis=1,inplace=True)"
   ]
  },
  {
   "cell_type": "markdown",
   "metadata": {},
   "source": [
    "#### minutes of usage related variables within same operator network"
   ]
  },
  {
   "cell_type": "code",
   "execution_count": 260,
   "metadata": {},
   "outputs": [],
   "source": [
    "#let's extract the minutes of usage related columns\n",
    "onnet_cols =  dfChurn.columns[dfChurn.columns.str.contains('^onnet.*mou',regex=True)]"
   ]
  },
  {
   "cell_type": "code",
   "execution_count": 261,
   "metadata": {},
   "outputs": [
    {
     "data": {
      "text/html": [
       "<div>\n",
       "<style>\n",
       "    .dataframe thead tr:only-child th {\n",
       "        text-align: right;\n",
       "    }\n",
       "\n",
       "    .dataframe thead th {\n",
       "        text-align: left;\n",
       "    }\n",
       "\n",
       "    .dataframe tbody tr th {\n",
       "        vertical-align: top;\n",
       "    }\n",
       "</style>\n",
       "<table border=\"1\" class=\"dataframe\">\n",
       "  <thead>\n",
       "    <tr style=\"text-align: right;\">\n",
       "      <th></th>\n",
       "      <th>onnet_mou_6</th>\n",
       "      <th>onnet_mou_7</th>\n",
       "      <th>onnet_mou_8</th>\n",
       "    </tr>\n",
       "  </thead>\n",
       "  <tbody>\n",
       "    <tr>\n",
       "      <th>Churned</th>\n",
       "      <td>407.201138</td>\n",
       "      <td>315.298369</td>\n",
       "      <td>123.209060</td>\n",
       "    </tr>\n",
       "    <tr>\n",
       "      <th>Non Churned</th>\n",
       "      <td>285.133773</td>\n",
       "      <td>303.268974</td>\n",
       "      <td>281.759017</td>\n",
       "    </tr>\n",
       "  </tbody>\n",
       "</table>\n",
       "</div>"
      ],
      "text/plain": [
       "             onnet_mou_6  onnet_mou_7  onnet_mou_8\n",
       "Churned       407.201138   315.298369   123.209060\n",
       "Non Churned   285.133773   303.268974   281.759017"
      ]
     },
     "execution_count": 261,
     "metadata": {},
     "output_type": "execute_result"
    }
   ],
   "source": [
    "# let's check the mean variation in values for churned and non churned customers\n",
    "pd.DataFrame([dfChurn.loc[dfChurn.churn==1,onnet_cols].mean()\n",
    "              ,dfChurn.loc[dfChurn.churn==0,onnet_cols].mean()],index={'Non Churned','Churned'})"
   ]
  },
  {
   "cell_type": "markdown",
   "metadata": {},
   "source": [
    "We again see that there is a drop in minutes of usage in the action month (8th month) for churned customers"
   ]
  },
  {
   "cell_type": "code",
   "execution_count": 262,
   "metadata": {},
   "outputs": [],
   "source": [
    "# Let us define new derived column\n",
    "# minutes of usage for good phase: onnet_mou_good_ph\n",
    "dfChurn['onnet_mou_good_ph'] = (dfChurn.onnet_mou_6 + dfChurn.onnet_mou_7)/2\n",
    "\n",
    "# create a new derived variable:\n",
    "# ratio of onnet mou in action month wrt onnet call average in previous month\n",
    "dfChurn['onnet_mou_ratio'] = dfChurn.onnet_mou_8/dfChurn.onnet_mou_good_ph\n",
    "\n",
    "# drop the original columns as these are not longer required\n",
    "dfChurn.drop(['onnet_mou_6','onnet_mou_7','onnet_mou_8'],axis=1,inplace=True)"
   ]
  },
  {
   "cell_type": "markdown",
   "metadata": {},
   "source": [
    "#### Contact centre call related variables"
   ]
  },
  {
   "cell_type": "code",
   "execution_count": 263,
   "metadata": {},
   "outputs": [],
   "source": [
    "#let's extract the minutes of usage related columns\n",
    "call_to_contact_centre =  dfChurn.columns[dfChurn.columns.str.contains('t2c')]"
   ]
  },
  {
   "cell_type": "code",
   "execution_count": 264,
   "metadata": {},
   "outputs": [
    {
     "data": {
      "text/plain": [
       "Index([], dtype='object')"
      ]
     },
     "execution_count": 264,
     "metadata": {},
     "output_type": "execute_result"
    }
   ],
   "source": [
    "call_to_contact_centre"
   ]
  },
  {
   "cell_type": "code",
   "execution_count": 367,
   "metadata": {},
   "outputs": [
    {
     "data": {
      "text/html": [
       "<div>\n",
       "<style>\n",
       "    .dataframe thead tr:only-child th {\n",
       "        text-align: right;\n",
       "    }\n",
       "\n",
       "    .dataframe thead th {\n",
       "        text-align: left;\n",
       "    }\n",
       "\n",
       "    .dataframe tbody tr th {\n",
       "        vertical-align: top;\n",
       "    }\n",
       "</style>\n",
       "<table border=\"1\" class=\"dataframe\">\n",
       "  <thead>\n",
       "    <tr style=\"text-align: right;\">\n",
       "      <th></th>\n",
       "      <th>loc_og_t2c_mou_6</th>\n",
       "      <th>loc_og_t2c_mou_7</th>\n",
       "      <th>loc_og_t2c_mou_8</th>\n",
       "      <th>std_og_t2c_mou_6</th>\n",
       "      <th>std_og_t2c_mou_7</th>\n",
       "      <th>std_og_t2c_mou_8</th>\n",
       "    </tr>\n",
       "  </thead>\n",
       "  <tbody>\n",
       "    <tr>\n",
       "      <th>Churned</th>\n",
       "      <td>1.766361</td>\n",
       "      <td>2.196409</td>\n",
       "      <td>1.275994</td>\n",
       "      <td>0.0</td>\n",
       "      <td>0.0</td>\n",
       "      <td>0.0</td>\n",
       "    </tr>\n",
       "    <tr>\n",
       "      <th>Non Churned</th>\n",
       "      <td>1.567153</td>\n",
       "      <td>1.853094</td>\n",
       "      <td>1.801569</td>\n",
       "      <td>0.0</td>\n",
       "      <td>0.0</td>\n",
       "      <td>0.0</td>\n",
       "    </tr>\n",
       "  </tbody>\n",
       "</table>\n",
       "</div>"
      ],
      "text/plain": [
       "             loc_og_t2c_mou_6  loc_og_t2c_mou_7  loc_og_t2c_mou_8  \\\n",
       "Churned              1.766361          2.196409          1.275994   \n",
       "Non Churned          1.567153          1.853094          1.801569   \n",
       "\n",
       "             std_og_t2c_mou_6  std_og_t2c_mou_7  std_og_t2c_mou_8  \n",
       "Churned                   0.0               0.0               0.0  \n",
       "Non Churned               0.0               0.0               0.0  "
      ]
     },
     "execution_count": 367,
     "metadata": {},
     "output_type": "execute_result"
    }
   ],
   "source": [
    "# let's check the mean variation in contact centre calls for churned and non churned customers\n",
    "pd.DataFrame([dfChurn.loc[dfChurn.churn==1,call_to_contact_centre].mean()\n",
    "              ,dfChurn.loc[dfChurn.churn==0,call_to_contact_centre].mean()],index={'Non Churned','Churned'})"
   ]
  },
  {
   "cell_type": "code",
   "execution_count": 373,
   "metadata": {},
   "outputs": [
    {
     "data": {
      "text/plain": [
       "(0.0, 0.0, 0.0)"
      ]
     },
     "execution_count": 373,
     "metadata": {},
     "output_type": "execute_result"
    }
   ],
   "source": [
    "dfChurn.std_ic_t2c_mou_6.std(),dfChurn.std_ic_t2c_mou_7.std(),dfChurn.std_ic_t2c_mou_8.std()"
   ]
  },
  {
   "cell_type": "code",
   "execution_count": 375,
   "metadata": {},
   "outputs": [],
   "source": [
    "# Let us define new derived column\n",
    "# local outgoing call to contact centre for good phase: loc_ic_t2c_mou_good_ph\n",
    "dfChurn['loc_ic_t2c_mou_good_ph'] = (dfChurn.loc_ic_t2c_mou_6 + dfChurn.loc_ic_t2c_mou_7)/2\n",
    "\n",
    "# drop the original columns as these are not longer required\n",
    "dfChurn.drop(['loc_ic_t2c_mou_6','loc_ic_t2c_mou_7'],axis=1,inplace=True)"
   ]
  },
  {
   "cell_type": "code",
   "execution_count": 266,
   "metadata": {},
   "outputs": [
    {
     "data": {
      "text/plain": [
       "mobile_number              0.000000\n",
       "arpu_8                     0.000000\n",
       "og_others_6                1.052947\n",
       "og_others_7                1.009630\n",
       "og_others_8                3.125521\n",
       "ic_others_6                1.052947\n",
       "ic_others_7                1.009630\n",
       "ic_others_8                3.125521\n",
       "total_rech_num_6           0.000000\n",
       "total_rech_num_7           0.000000\n",
       "total_rech_num_8           0.000000\n",
       "total_rech_amt_8           0.000000\n",
       "max_rech_amt_8             0.000000\n",
       "last_day_rch_amt_8         0.000000\n",
       "total_rech_data_6         62.023925\n",
       "total_rech_data_7         61.140915\n",
       "total_rech_data_8         60.834361\n",
       "max_rech_data_6           62.023925\n",
       "max_rech_data_7           61.140915\n",
       "max_rech_data_8           60.834361\n",
       "vol_2g_mb_8                0.000000\n",
       "vol_3g_mb_8                0.000000\n",
       "night_pck_user_6          62.023925\n",
       "night_pck_user_7          61.140915\n",
       "night_pck_user_8          60.834361\n",
       "monthly_2g_8               0.000000\n",
       "monthly_3g_8               0.000000\n",
       "fb_user_6                 62.023925\n",
       "fb_user_7                 61.140915\n",
       "fb_user_8                 60.834361\n",
       "                            ...    \n",
       "loc_og_t2m_mou_good_ph     0.000000\n",
       "loc_og_t2t_mou_good_ph     2.472427\n",
       "loc_og_t2f_mou_good_ph    29.529173\n",
       "spl_og_mou_ratio          21.055613\n",
       "isd_og_mou_ratio          84.269101\n",
       "roam_og_mou_ratio         60.947653\n",
       "std_og_t2m_mou_ratio       9.896371\n",
       "std_og_t2t_mou_ratio      24.221119\n",
       "std_og_t2f_mou_ratio      71.760355\n",
       "loc_og_t2m_mou_ratio       1.466129\n",
       "spl_ic_mou_good_ph         0.000000\n",
       "isd_ic_mou_good_ph         0.000000\n",
       "roam_ic_mou_good_ph        0.000000\n",
       "std_ic_t2m_mou_good_ph     0.000000\n",
       "std_ic_t2t_mou_good_ph     0.000000\n",
       "std_ic_t2f_mou_good_ph     0.000000\n",
       "loc_ic_t2m_mou_good_ph     0.000000\n",
       "loc_ic_t2t_mou_good_ph     2.029256\n",
       "loc_ic_t2f_mou_good_ph    15.767552\n",
       "spl_ic_mou_ratio          71.377162\n",
       "isd_ic_mou_ratio          63.090200\n",
       "roam_ic_mou_ratio         61.454133\n",
       "std_ic_t2m_mou_ratio       8.360268\n",
       "std_ic_t2t_mou_ratio      22.531738\n",
       "std_ic_t2f_mou_ratio      56.539269\n",
       "loc_ic_t2m_mou_ratio       1.209556\n",
       "offnet_mou_good_ph         0.000000\n",
       "offnet_mou_ratio           0.696411\n",
       "onnet_mou_good_ph          0.000000\n",
       "onnet_mou_ratio            1.176235\n",
       "Length: 94, dtype: float64"
      ]
     },
     "execution_count": 266,
     "metadata": {},
     "output_type": "execute_result"
    }
   ],
   "source": [
    "100*dfChurn.isnull().sum()/len(dfChurn)"
   ]
  },
  {
   "cell_type": "code",
   "execution_count": null,
   "metadata": {},
   "outputs": [],
   "source": []
  }
 ],
 "metadata": {
  "kernelspec": {
   "display_name": "Python 3",
   "language": "python",
   "name": "python3"
  },
  "language_info": {
   "codemirror_mode": {
    "name": "ipython",
    "version": 3
   },
   "file_extension": ".py",
   "mimetype": "text/x-python",
   "name": "python",
   "nbconvert_exporter": "python",
   "pygments_lexer": "ipython3",
   "version": "3.6.0"
  },
  "latex_envs": {
   "LaTeX_envs_menu_present": true,
   "autoclose": false,
   "autocomplete": true,
   "bibliofile": "biblio.bib",
   "cite_by": "apalike",
   "current_citInitial": 1,
   "eqLabelWithNumbers": true,
   "eqNumInitial": 1,
   "hotkeys": {
    "equation": "Ctrl-E",
    "itemize": "Ctrl-I"
   },
   "labels_anchors": false,
   "latex_user_defs": false,
   "report_style_numbering": false,
   "user_envs_cfg": false
  }
 },
 "nbformat": 4,
 "nbformat_minor": 2
}
